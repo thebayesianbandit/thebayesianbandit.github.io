{
 "cells": [
  {
   "cell_type": "raw",
   "id": "86770cc7-6af6-4fe2-a582-afdd8d5109a4",
   "metadata": {},
   "source": [
    "---\n",
    "title: \"Welcome to my blog!\"\n",
    "author: \"Brandon Scott\"\n",
    "date: \"2023-03-06\"\n",
    "categories: [welcome, bayesian]\n",
    "format:\n",
    "    html:\n",
    "        code-fold: true\n",
    "image: thumbnail.jpg\n",
    "jupyter: python3\n",
    "---"
   ]
  },
  {
   "cell_type": "markdown",
   "id": "d7e168ab",
   "metadata": {},
   "source": [
    "# TL;DR"
   ]
  },
  {
   "cell_type": "markdown",
   "id": "16c6cd3c",
   "metadata": {},
   "source": [
    "This blog focuses on the use of statistics, particularly bayesian statistics, in the application of business problems. In this post, we review the necessary math background in order to understand future blog posts. As well, we establish expectations for future blog posts and the order in which they are shared. "
   ]
  },
  {
   "cell_type": "markdown",
   "id": "7161f46b",
   "metadata": {},
   "source": [
    "# Welcome To My Blog!"
   ]
  },
  {
   "cell_type": "markdown",
   "id": "ba91500f",
   "metadata": {},
   "source": [
    "Welcome to my blog! If you are reading this, I hope that means you are as excited about learning statistics as I am about teaching it (and continuing to learn it!). This blog, honestly, is mostly a tool for me to improve my own knowledge in statistics by learning how I would convey it to others. I plan on doing this from a data analysis perspective. Given a certain situation/set of data points, how do we construct the problems we want to solve and implement proper solutions. Particularly, I hope to demonstrate that Bayesian methods can be viable methods to solve problems in business, healthcare, etc. Anyways, I hope you find this blog interesting and useful in your data career. Whether you are just entering data or are an experienced data professional, this blog intends to be a resource in demonstrating good data analysis with sound applied mathematical theory."
   ]
  },
  {
   "cell_type": "markdown",
   "id": "527fe4c8",
   "metadata": {},
   "source": [
    "# Prerequisites"
   ]
  },
  {
   "cell_type": "markdown",
   "id": "246ce836",
   "metadata": {},
   "source": [
    "While I did mention above that this blog is intended to be useful for beginners and experts alike, I will admit that I will be covering some higher level math, such as:\n",
    "<ul>\n",
    "    <li>Multivariate Calculus</li>\n",
    "    <li>Probability Theory</li>\n",
    "    <li>Linear Algebra</li>\n",
    "</ul>"
   ]
  },
  {
   "cell_type": "markdown",
   "id": "2c7a9e81",
   "metadata": {},
   "source": [
    "For example, suppose we are studying a dataset with a variable that is modeled as an exponential random variable, we would use the below notation to show the probability density function (PDF)"
   ]
  },
  {
   "cell_type": "markdown",
   "id": "b23e8fcc",
   "metadata": {},
   "source": [
    "\\begin{equation}\n",
    "\\int_{0}^{\\infty} \\lambda e^{\\lambda x} \\,dx\n",
    "\\end{equation}\n",
    "\n",
    "\\begin{equation}\n",
    "X \\sim Exponential(\\lambda)\n",
    "\\end{equation}"
   ]
  },
  {
   "cell_type": "markdown",
   "id": "840f0435",
   "metadata": {},
   "source": [
    "Or, the important Bayes Theorem found below."
   ]
  },
  {
   "cell_type": "markdown",
   "id": "57743faa",
   "metadata": {},
   "source": [
    "\\begin{equation}\n",
    "P(A|B) = \\frac{P(B|A) P(A)}{P(B)}\n",
    "\\end{equation}"
   ]
  },
  {
   "cell_type": "markdown",
   "id": "1ebed67b",
   "metadata": {},
   "source": [
    "Don't be discourage if the above formulas don't make sense right now. In each post that these appear, I will breakdown what they mean and their applicability in solving our problem."
   ]
  },
  {
   "cell_type": "markdown",
   "id": "675e40e0",
   "metadata": {},
   "source": [
    "# Expectations"
   ]
  },
  {
   "cell_type": "markdown",
   "id": "4ba2db02",
   "metadata": {},
   "source": [
    "The hope of this blog is to present statistics in the form of a data analysis case. For example, let's say you are a host on AirBnB and want to maximize the number of nights you rent out. How do you properly price your rental given certain parameters (size, geographic setting, etc). We would then present the data points and walk through an analysis of the data by doing the following.\n",
    "<ol>\n",
    "    <li>Exploring the data (EDA) to get to know our dataset</li>\n",
    "    <li>Constructing a mathematical framework that can fit our data</li>\n",
    "    <li>Fit our data to said framework</li>\n",
    "    <li>Gather inference from our model</li>\n",
    "    <li>Review answers explained by our model</li>\n",
    "    <li>Explain possible enhancements to our model for future analyses</li>\n",
    "</ol>"
   ]
  },
  {
   "cell_type": "markdown",
   "id": "7394c4ea",
   "metadata": {},
   "source": [
    "This will be our attempted framework to blog posts. I hope that by tackling problems in this way, **our analytical toolbox** will grow and our ability to construct measurable problems from our data will improve. <b>This is the ultimate goal of this blog</b>. I really hope that people will recognize this blog as an <b>opportunity to learn how to think analytically</b>.  "
   ]
  },
  {
   "cell_type": "markdown",
   "id": "102d6eec",
   "metadata": {},
   "source": [
    "# Let's do this"
   ]
  },
  {
   "cell_type": "markdown",
   "id": "72a2254d",
   "metadata": {},
   "source": [
    "I just want to reiterate that I am excited to learn how to be a better analyst with you by getting to know the math that drives our analytics. I am very passionate about how data can be used to properly drive decision-making in organizations and I hope that this blog motivates you to do the same."
   ]
  }
 ],
 "metadata": {
  "kernelspec": {
   "display_name": "Python 3 (ipykernel)",
   "language": "python",
   "name": "python3"
  },
  "language_info": {
   "codemirror_mode": {
    "name": "ipython",
    "version": 3
   },
   "file_extension": ".py",
   "mimetype": "text/x-python",
   "name": "python",
   "nbconvert_exporter": "python",
   "pygments_lexer": "ipython3",
   "version": "3.10.9"
  }
 },
 "nbformat": 4,
 "nbformat_minor": 5
}
