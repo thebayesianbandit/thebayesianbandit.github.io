{
 "cells": [
  {
   "cell_type": "raw",
   "id": "ebd6a004-9831-4228-b47a-504c427a4db7",
   "metadata": {},
   "source": [
    "---\n",
    "title: \"There and Back Again: Optimizing Home-Swapping on Kindred\"\n",
    "draft: false\n",
    "toc: true\n",
    "author: \"Brandon Scott\"\n",
    "date: \"2025-07-21\"\n",
    "number-sections: false\n",
    "categories: [operations, optimization, python]\n",
    "execute:\n",
    "    echo: false\n",
    "    warning: false\n",
    "crossref:\n",
    "    chapters: true\n",
    "format:\n",
    "    html:\n",
    "        code-fold: false\n",
    "jupyter: python3\n",
    "bibliography: ../../references.bib\n",
    "csl: ../../ieee.csl\n",
    "---"
   ]
  },
  {
   "cell_type": "markdown",
   "id": "a06c829a-4dd7-4256-90e1-acfab2a1cc61",
   "metadata": {},
   "source": [
    "# Abstract"
   ]
  },
  {
   "cell_type": "markdown",
   "id": "eb811abf-591a-4aac-b155-09f346bc391c",
   "metadata": {},
   "source": [
    "In this post, we introduce **Kindred**, a new way to travel [@Hamadey2025Kindred]. We first espouse the company mission, vision, and values through the lens of business strategy. We continue this discussion by moving into the more technical details of how the platform operates via market design. This market design is then used to illustrate a prototype dispatch algorithm that Kindred could use to implement their strategies. We conclude by discussing potential next steps for the company."
   ]
  },
  {
   "cell_type": "markdown",
   "id": "62b033e0-9307-4542-b6cf-2144afa56a00",
   "metadata": {},
   "source": [
    "# History and Strategy"
   ]
  },
  {
   "cell_type": "markdown",
   "id": "89dcadf6-fb7c-4f0b-a30b-37ae55cd4ec2",
   "metadata": {},
   "source": [
    "Kindred was founded by Tasneem Amina and Justine Palefsky in 2021. Their paths crossed early in their careers through a mutual mentor [@Hamadey2025Kindred], and they soon decided to team up to make travel more \"human\" again. Today, Kindred has a network of over 170,000 members in more than 100 cities worldwide. While platforms like Airbnb and Vrbo encourage people to buy up properties to rent [@Proserpio2019Airbnb], Kindred shows there can be more trust and human connection in meaningful travel."
   ]
  },
  {
   "cell_type": "markdown",
   "id": "fb62f304-ff5c-4874-a7ee-ae5e771adcb3",
   "metadata": {},
   "source": [
    "Kindred differentiates itself in the travel-lodging market by establishing itself as a **home-swap platform**. To travel on Kindred, members follow this process:"
   ]
  },
  {
   "cell_type": "markdown",
   "id": "50b01917-fb8d-49f6-80d7-ea7b3f9b1595",
   "metadata": {},
   "source": [
    "1. Sign up to become a member (each application goes through a vetting process).\n",
    "2. Browse and select a home you'd like to visit.\n",
    "3. Send a request with your proposed dates for either a home swap or a credit swap.\n",
    "4. Once approved, cleaning services are arranged for both homes (if performing a home swap) before guests arrive and after guests leave. Guests pay for these cleaning services and a platform fee."
   ]
  },
  {
   "cell_type": "markdown",
   "id": "5c8b9e1c-7c19-408d-983c-abbb7f3b3fc7",
   "metadata": {},
   "source": [
    "The Kindred network is where the magic happens. Every Kindred user is also a host, sharing their home with other members. In fact, over 90% of Kindred listings are primary residences, fostering a trusting network. In exchange for hosting, members gain access to homes all over the world. Because each member is a host and travel is facilitated through home-swapping, Kindred members only pay for cleaning and platform fees, resulting in significantly lower travel costs. For example, a one-bedroom apartment in London might cost a Kindred member approximately \\$315 dollars, compared to \\$655 for a similar listing on Airbnb."
   ]
  },
  {
   "cell_type": "markdown",
   "id": "5c9718ec-363b-4536-a16d-b78695c393ef",
   "metadata": {},
   "source": [
    "Kindred members can also travel via credit exchange. Members accrue credits by hosting other members (one night hosted equals one credit). Instead of a direct home swap, members can use these accumulated credits to travel to another Kindred home through the platform. Members still pay for the cleaning and platform fee."
   ]
  },
  {
   "cell_type": "markdown",
   "id": "c7a54eef-fe59-40b3-b2e9-552f6d6e7016",
   "metadata": {},
   "source": [
    "In short, Kindred positions itself as an exclusive, vetted network that relies on the trust of members via home-swapping to drive down costs in order to provide meaningful, more \"human\" travel experiences. "
   ]
  },
  {
   "cell_type": "markdown",
   "id": "0b583074-bce0-42a6-804c-e0c8fb8a2f0b",
   "metadata": {},
   "source": [
    "# Market Design"
   ]
  },
  {
   "cell_type": "markdown",
   "id": "01d16aee-d751-4123-a095-eba246d7133c",
   "metadata": {},
   "source": [
    "Market design is a multidisciplinary field within economics that deals with the rules of participation in marketplaces [@Athey2025MarketDesign]. A common example involves auction markets for online ads, where advertisers compete for ad locations on platforms like Facebook to get reader exposure. While we've discussed Kindred's high-level strategy, we'll now formally address the market design underpinning that strategy to define our platform's rules."
   ]
  },
  {
   "cell_type": "markdown",
   "id": "818f8b49-b78d-4d01-b4c6-de6dcd6f6a3b",
   "metadata": {},
   "source": [
    "The first step in market design is defining the objective – what we are trying to optimize. For Kindred, this could be the number of nights booked or the amount of money saved using the platform. However, according to Kindred's strategy (and their website), their **core objective is for people to \"feel at home.\"** While this is a challenging goal to quantify, a **reasonable proxy would be the number of home-swaps per member**. A high number here would reflect members' comfort and ease in traveling within the network, suggesting they truly feel at home. To ensure this consistent \"at home\" experience, Kindred vets each member application. While this rule may result in fewer network members, we prioritize optimizing for the \"home feel,\" anticipating it will encourage more home-swaps."
   ]
  },
  {
   "cell_type": "markdown",
   "id": "4e39aec2-bdce-4e62-a4ab-361693799e80",
   "metadata": {},
   "source": [
    "## Rule \\#1: Host to Travel"
   ]
  },
  {
   "cell_type": "markdown",
   "id": "113516e0-1423-477d-a73b-2c360450e9c7",
   "metadata": {},
   "source": [
    "Now that the objective is established and a rule defined for adding members to the market, we can outline the rules for players within that market."
   ]
  },
  {
   "cell_type": "markdown",
   "id": "4c21a2a2-1908-475c-8f28-49dfd6126248",
   "metadata": {},
   "source": [
    "First, to travel on Kindred, members must be willing to either host other members via a home swap or exchange accumulated credits for stays. This means a traveling member can contribute both demand and supply to the market (via home swap) or just demand (via credits)."
   ]
  },
  {
   "cell_type": "markdown",
   "id": "210c611e-4461-4f5c-9342-a5e844fa2a94",
   "metadata": {},
   "source": [
    "However, to travel using credits, a member must have hosted at least the equivalent number of nights they wish to stay at their destination. Crucially, credits cannot be purchased or exchanged between members; they are granted by the platform as a reward for active participation in the network."
   ]
  },
  {
   "cell_type": "markdown",
   "id": "aaebad54-793c-496b-91ce-180f1848cb46",
   "metadata": {},
   "source": [
    "These rules establish the market's fundamental supply and demand mechanics. While credits offer deferred reciprocity, allowing members to leverage past hosting efforts for future travel and significantly reducing friction, they introduce a tradeoff: we aren't guaranteed a unit of supply for every unit of demand as we would be in a pure barter system. Nonetheless, since our goal is to ensure guests feel at home by minimizing travel friction, the credit system, alongside the barter system, reduces barriers to travel while still incentivizing members to host in order to travel."
   ]
  },
  {
   "cell_type": "markdown",
   "id": "ead89a2a-bc69-46fe-96eb-6b58a593f77d",
   "metadata": {},
   "source": [
    "## Rule \\#2: Guest Control"
   ]
  },
  {
   "cell_type": "markdown",
   "id": "d387f2b6-186d-42e8-8af1-b08eb1b9bba0",
   "metadata": {},
   "source": [
    "The second rule within our market ensures members retain 100% control over who stays in their home. Even though the network is vetted upon application, members still have the power to approve or deny requests for home swaps or credit stays. This rule is specifically designed to promote supply. By giving members the final say on guests, they're more likely to feel comfortable and willing to list their homes."
   ]
  },
  {
   "cell_type": "markdown",
   "id": "645cf82e-a99a-4531-8b49-84c1fd6fc025",
   "metadata": {},
   "source": [
    "While members have the power to approve or deny requests, they are still motivated to host guests due to rule \\#1. The more guests a member hosts, the more credits they earn and the more they can travel without a perfect house-swap match."
   ]
  },
  {
   "cell_type": "markdown",
   "id": "69a8fa5b-fd0e-4df6-805c-5f7a5420e4fa",
   "metadata": {},
   "source": [
    "The tradeoff with this rule is increased matching complexity. While we can facilitate matches between members seeking similar location swaps, the ultimate power of approval rests with the members. Therefore, our matching service must provide each member with relevant information to guide their decision-making."
   ]
  },
  {
   "cell_type": "markdown",
   "id": "acbbfd2d-6414-4516-9fc5-9ea4c160ddbe",
   "metadata": {},
   "source": [
    "## Rule \\#3: Cost Allocation"
   ]
  },
  {
   "cell_type": "markdown",
   "id": "a6e83905-c333-4c8e-9c10-6c93d2840d18",
   "metadata": {},
   "source": [
    "The final rule we cover addresses how costs are allocated within the network. Costs are determined by the two travel propositions: a direct home swap with another member or using accrued credits to stay at a Kindred member residence. For a direct home swap, each member involved pays the cleaning fees for the location they are staying at (both before and after their visit), as well as a platform fee. In the credit exchange scenario, members must pay one credit per night of their stay, in addition to the cleaning and platform fees."
   ]
  },
  {
   "cell_type": "markdown",
   "id": "123bd755-dca3-4439-9b84-43ddeeb706ed",
   "metadata": {},
   "source": [
    "This rule further incentivizes members to host, as they don't have to worry about the hassle of pre- or post-guest cleaning. Furthermore, members can expect the same seamless experience when traveling, knowing their destination will be cleaned before and after their stay. Lastly, this rule provides a transparent fee structure, ensuring members understand the costs associated with both travel options on the network."
   ]
  },
  {
   "cell_type": "markdown",
   "id": "d89ea6a0-6f9b-4d09-bda5-a50cda31544b",
   "metadata": {},
   "source": [
    "## Key Assumptions"
   ]
  },
  {
   "cell_type": "markdown",
   "id": "a6385d9d-ce18-489b-9522-a6236fb22eb6",
   "metadata": {},
   "source": [
    "The rules of our marketplace are implemented with key assumptions in mind. These are enumerated below."
   ]
  },
  {
   "cell_type": "markdown",
   "id": "110309e2-e620-4f8d-821c-d01bff5cd5be",
   "metadata": {},
   "source": [
    "1. Kindred members desire to increase their travel by entering a network with clear expectations.\n",
    "2. Kindred members share their true travel preferences.\n",
    "3. Kindred members want to retain control over who stays at their residence.\n",
    "4. Members will increase their trust in the platform with continued use."
   ]
  },
  {
   "cell_type": "markdown",
   "id": "d5e4da23-b127-458f-b73d-ada0c0f9c6e6",
   "metadata": {},
   "source": [
    "In short, the assumptions state that we designed the market to work for members who operate under these assumptions. For example, we don't expect someone to search for home-swap opportunities in NYC if they truly don't want to go to NYC. Essentially, we expect those who want to use Kindred will desire to use the platform to maximize their travel utility within the parameters we set in this market. "
   ]
  },
  {
   "cell_type": "markdown",
   "id": "b771b3ea-a68b-4149-b183-0f7a4b495fa7",
   "metadata": {},
   "source": [
    "# Matching"
   ]
  },
  {
   "cell_type": "markdown",
   "id": "815823fb-265e-464c-be31-20e9d173ac9e",
   "metadata": {},
   "source": [
    "Our marketplace now has established rules that provide guidance on the services we create to reduce friction for our users and encourage activity for them. One key component among all of our rules is **the importance of matching**. Members want to find the right property during the right time frame with the right people (for either a swap or a credit stay approval). This user journey is illustrated in @fig-user-1."
   ]
  },
  {
   "cell_type": "markdown",
   "id": "92531114-6b7b-41d1-be0f-3f15ec66d65c",
   "metadata": {},
   "source": [
    "![Kindred Member Journey](kindred_user_journ.jpg){#fig-user-1}"
   ]
  },
  {
   "cell_type": "markdown",
   "id": "3ef782b4-ee2a-43b3-a585-eaacd23e0f00",
   "metadata": {},
   "source": [
    "Matching addresses the second step and associated transition in @fig-user-1. We need a process that reduces friction for users, helping them find ideal locations that align with their preferences and have a high probability of acceptance. This highlights the importance of our market design and underlying assumptions. The market is designed to encourage true preference revelation among members. If our assumption holds true that members will follow this design, we can implement systems that effectively help them find what they're looking for. To enhance this process, we've magnified step two from @fig-user-1 in @fig-user-2 to illustrate potential system design."
   ]
  },
  {
   "cell_type": "markdown",
   "id": "f64859d7-2bbe-4f20-80ec-4b6250b2a046",
   "metadata": {},
   "source": [
    "![Member Attempting to Match](user_jour_2.jpg){#fig-user-2}"
   ]
  },
  {
   "cell_type": "markdown",
   "id": "bb8afb64-c365-4318-8cfa-2dc79f9bb080",
   "metadata": {},
   "source": [
    "As we can see in @fig-user-2, each member in the network has their own preferences they are trying to align with other members. Realistically speaking, with the current size of the Kindred network, it would be quite difficult to find someone with your exact preferences. The current process of finding potential matches is enumerated below."
   ]
  },
  {
   "cell_type": "markdown",
   "id": "74f7d23d-354c-40c1-be3a-ddab6ac4c4d9",
   "metadata": {},
   "source": [
    "1. Member logs onto Kindred\n",
    "2. Uses the browse option to find locations according to their preferences\n",
    "3. Sends requests to locations they are interested in and waits for response\n",
    "4. If request is approved, preparations are arranged through the platform"
   ]
  },
  {
   "cell_type": "markdown",
   "id": "d719a37f-c043-4b4d-93e4-72e1bb1b8233",
   "metadata": {},
   "source": [
    "While the above process is intuitive and useful for users, we can enhance this by providing algorithms that reduce the friction of finding potential matches."
   ]
  },
  {
   "cell_type": "markdown",
   "id": "b64d3c54-98bd-4707-a4bc-d2e2342e51fb",
   "metadata": {},
   "source": [
    "## Algorithmic Matching via Gale-Shapley"
   ]
  },
  {
   "cell_type": "markdown",
   "id": "41954ace-ac4b-42ba-a500-d77709a773b5",
   "metadata": {},
   "source": [
    "The process of finding matches within our market design can be greatly enhanced via **game theory** [@VonNeumann1944]. In our network, we have agents whom we assume are rational and possess weighted preferences. They strategically share this information on the platform to find their ideal matches. Once they find a suitable match, they move forward with their travel plans. This dynamic is precisely what game theory studies."
   ]
  },
  {
   "cell_type": "markdown",
   "id": "03bb4bb2-2682-4cd0-b1f6-60aa6a7965a6",
   "metadata": {},
   "source": [
    "In our network, as illustrated in @fig-user-2, we can encounter overlapping scenarios. For instance, a user desiring a 21-day stay might match with one member hosting for 15 days and another for 6. Simultaneously, they might be willing to host two members themselves during that period – one for 14 days and another for 7. This type of overlap is characteristic of **two-sided matching markets** [@Gale1962]. The algorithm commonly used to address such problems is known as the **Gale-Shapley algorithm** [@Gale1962]."
   ]
  },
  {
   "cell_type": "markdown",
   "id": "a03a02b1-d01e-47eb-a930-b6643b029cee",
   "metadata": {},
   "source": [
    "The Gale-Shapley algorithm is used to find stable matches among agents. This means finding matches that sufficiently address their needs, to the point where they wouldn't gain additional utility by seeking a different match. While this algorithm is primarily applied in scenarios with distinct sets of proposers and receivers, we can extend it to our situation where agents act as both proposers and receivers."
   ]
  },
  {
   "cell_type": "markdown",
   "id": "547e840a-19a7-4e27-9d37-5fece14f51fc",
   "metadata": {},
   "source": [
    "# Matching Algorithm Design"
   ]
  },
  {
   "cell_type": "markdown",
   "id": "53140213-1bb3-431e-a67c-da3a6d3dbd0d",
   "metadata": {},
   "source": [
    "Our matching algorithm combines principles from Gale-Shapley, DoorDash's dispatch algorithm [@doordash_optimization_2020], and Airbnb's listing recommendation algorithm [@Grbovic2018Listing]. The algorithm is enumerated below."
   ]
  },
  {
   "cell_type": "markdown",
   "id": "822eb9fa-575c-4b4f-a609-329d9b66aff3",
   "metadata": {},
   "source": [
    "1. User inputs their current travel preferences \n",
    "2. Our matching algorithm calculates the closest matches and ranks them accordingly\n",
    "3. The scores from these listings are extracted and used in a weighted sum\n",
    "4. Weighted sum is calculated using other business priority logic (response wait time, probability of acceptance, user rating, etc)\n",
    "5. The listings are then shown in the order of the weighted sum in descending order (i.e. highest score is best)"
   ]
  },
  {
   "cell_type": "markdown",
   "id": "9d8e793a-cc6c-459f-bda8-4848fa676dfa",
   "metadata": {},
   "source": [
    "## Calculating Similarity"
   ]
  },
  {
   "cell_type": "markdown",
   "id": "f3e83122-1595-4885-8c65-e8edc39c3e7d",
   "metadata": {},
   "source": [
    "The first step in the algorithm is to calculate similarity scores between a user's search criteria and our set of listings. For simplicity in this prototype, let's assume a user can only search or request listings based on: **location, duration, and number of bedrooms**. We need to identify which listings in our dataset best correspond with the user's search. Let $L$ represent the set of all listings in our Kindred network. The initial step for calculating similarity involves filtering $L$ to create a subset containing only listings within the specified location. (Note: We assume all listings are properly geotagged, accurately representing their respective cities.)"
   ]
  },
  {
   "cell_type": "markdown",
   "id": "ea1d814e-c61b-469c-ab2d-0fdde3a9a429",
   "metadata": {},
   "source": [
    "The second step is to calculate the similarity in date availability. To do this, we can use the **Jaccard Similarity** [@jaccard1901distribution] measure to get the similarity between date ranges. This is illustrated in @eq-jac-1."
   ]
  },
  {
   "cell_type": "markdown",
   "id": "eb3f6362-76a7-4699-9dfe-d6f83bc69584",
   "metadata": {},
   "source": [
    "$$\n",
    "J(A, B) = \\frac{|A \\cap B|}{|A \\cup B|}\n",
    "$${#eq-jac-1}"
   ]
  },
  {
   "cell_type": "markdown",
   "id": "0ff323fc-8d91-4167-8ded-715dd21d0ebe",
   "metadata": {},
   "source": [
    "The numerator represents the intersection of our date overlap—that is, the number of days our date ranges coincide. The denominator is the union of our date ranges, covering the period from the earliest start date to the latest end date. A perfect match would yield a similarity score of 1, while any less-than-perfect match would naturally result in a lower score."
   ]
  },
  {
   "cell_type": "markdown",
   "id": "0adbf5db-aab4-4037-917b-cfa83ed226fb",
   "metadata": {},
   "source": [
    "The last step is to calculate the similarity in number of bedrooms. A simple measure for this would be **absolute difference**, as shown in @eq-abs-1."
   ]
  },
  {
   "cell_type": "markdown",
   "id": "1437e574-8633-486a-bc91-cacd7308fe06",
   "metadata": {},
   "source": [
    "$$\n",
    "S(A, B) = 1 - \\frac{|A - B|}{max - min}\n",
    "$${#eq-abs-1}"
   ]
  },
  {
   "cell_type": "markdown",
   "id": "25461eea-7b00-496b-9825-327435da930a",
   "metadata": {},
   "source": [
    "@eq-abs-1 measures the difference between a perfect match (1) and the absolute difference between our search request and a listing's offering, all normalized by a maximum range."
   ]
  },
  {
   "cell_type": "markdown",
   "id": "58232a2e-bf16-4589-af29-50864dbcfbd5",
   "metadata": {},
   "source": [
    "Our three similarity scores are then combined into a weighted sum function to calculate an overall similarity score. This is shown in @eq-sim-1."
   ]
  },
  {
   "cell_type": "markdown",
   "id": "a37cfa57-41f1-46ff-bf97-2c11d4ec74c4",
   "metadata": {},
   "source": [
    "$$\n",
    "\\text{Total Similarity Score} = w^{T}X\n",
    "$${#eq-sim-1}"
   ]
  },
  {
   "cell_type": "markdown",
   "id": "bf277f6e-bcf5-4695-9751-a10709f39935",
   "metadata": {},
   "source": [
    "$X$ is our search criteria vector and $w^{T}$ is our weight vector. This weight vector corresponds to the priority we place on the search criteria. For example, in our criteria, $w^{T}$ might be $[.7, .3]$. This would mean that we put the most weight on our date overlap similarity score, followed by number of bedroom similarity. These scores are then ranked in descending order. "
   ]
  },
  {
   "cell_type": "markdown",
   "id": "6f5f8de2-2c9c-47c9-a597-0b8e9c346f29",
   "metadata": {},
   "source": [
    "## Weighting Other Factors"
   ]
  },
  {
   "cell_type": "markdown",
   "id": "6cb06a0b-1c5c-4b62-ba21-ef2e26e1291c",
   "metadata": {},
   "source": [
    "After calculating listing similarities, we also need to incorporate other metrics that enhance the user's finding experience. For this prototype, we focus on three key metrics: queue length (the number of requests for a current listing within a given date range), host time to response, and listing rating. We prioritize these metrics to address supply-demand balance (ensuring listings get booked), connect users with responsive hosts, and pair them with listings that have provided positive experiences in the past. This provides an overall listing score shown in @eq-score-1."
   ]
  },
  {
   "cell_type": "markdown",
   "id": "f723de1c-18b8-400d-848b-029526bd0d55",
   "metadata": {},
   "source": [
    "$$\n",
    "\\text{Listing Score} = w^{T}X\n",
    "$${#eq-score-1}"
   ]
  },
  {
   "cell_type": "markdown",
   "id": "abda369c-cec8-4d05-8301-db0bb5e9432d",
   "metadata": {},
   "source": [
    "Just as in @eq-sim-1, we use a weighted sum in @eq-score-1 to calculate the listing score. This listing score incorporates both the similarity score from @eq-sim-1 and the other core experience metrics we explained earlier in this section. Once all listing scores are calculated, we rank these in descending order and present them to the user."
   ]
  },
  {
   "cell_type": "markdown",
   "id": "7855dfce-7a3f-48a2-b610-ebdffa7ccf28",
   "metadata": {},
   "source": [
    "## Connection to Market Design"
   ]
  },
  {
   "cell_type": "markdown",
   "id": "b403b493-abd4-415b-970e-051e80a3ad80",
   "metadata": {},
   "source": [
    "Overall, while our algorithm is a simple prototype, it captures the essence of how we designed our market. It encourages users to accurately share their preferences (such as location and travel dates) while simultaneously encouraging hosts to do the same. Through this mutual information sharing, we rank a searcher's preferences against those of hosts. We then return the top option for a searcher, along with a list of other ranked choices. Using these core principles, we can eventually extend this algorithm to become much more sophisticated and capable of handling matching at scale for a platform like Kindred."
   ]
  },
  {
   "cell_type": "markdown",
   "id": "28f42143-2254-4b6c-babd-5f68ca7b37d7",
   "metadata": {},
   "source": [
    "# Demonstration"
   ]
  },
  {
   "cell_type": "markdown",
   "id": "7a4cebb8-9f83-46f0-a16c-7aa0f1fe3562",
   "metadata": {},
   "source": [
    "In this section, we demonstrate a simple example of the algorithm in practice. We take the perspective of a guest looking for a match with the following information."
   ]
  },
  {
   "cell_type": "markdown",
   "id": "44c77c7a-d247-407b-bbb3-4b3eb9c60a21",
   "metadata": {},
   "source": [
    "1. City ID: 3\n",
    "2. Date Range: (2024-07-04, 2024-07-12)\n",
    "3. Number of Bedrooms: 1"
   ]
  },
  {
   "cell_type": "markdown",
   "id": "1bda3f26-2001-48cd-ab76-c0ac5aab3558",
   "metadata": {},
   "source": [
    "Our simulation compares these preferences against one hundred listings in the network. The algorithm first filters the dataset to include only cities corresponding to the user's preference. It then proceeds to find the similarity between the date range and the number of bedrooms. The weights for these scores in the initial similarity calculation are $[.7, .3]$ respectively."
   ]
  },
  {
   "cell_type": "markdown",
   "id": "2cbb7f43-02bb-4607-a9da-a97e8383d52a",
   "metadata": {},
   "source": [
    "After calculating the similarity score, we compute a listing score using queue length, response time, and rating. These individual scores, along with the initial similarity score, are normalized within their respective ranges to ensure equal scaling. The weights for the combined listing score are $[.4, .3, .2, .1]$ respectively, reflecting the priority given to similarity score, queue length, response time, and rating."
   ]
  },
  {
   "cell_type": "markdown",
   "id": "79d53c3a-90dd-49ff-8caf-28816ce6d34c",
   "metadata": {},
   "source": [
    "Below is the output for the top ten listings for our guest. "
   ]
  },
  {
   "cell_type": "code",
   "execution_count": 70,
   "id": "6dc2a24b-5e0b-4437-b64c-d41cc11ce64b",
   "metadata": {
    "tags": []
   },
   "outputs": [],
   "source": [
    "import pandas as pd\n",
    "import numpy as np\n",
    "import matplotlib.pyplot as plt\n",
    "import seaborn as sns\n",
    "from datetime import datetime as dt\n",
    "from datetime import timedelta"
   ]
  },
  {
   "cell_type": "code",
   "execution_count": 35,
   "id": "30e8d94f-4bd9-4c5a-a86d-e8ff8c8f1b63",
   "metadata": {},
   "outputs": [],
   "source": [
    "#Define listing class\n",
    "class Listing: \n",
    "    def __init__(self, city, date_rng, num_rooms, num_reqs, response_time, rating):\n",
    "        self.city = city\n",
    "        self.date_rng = date_rng\n",
    "        self.num_rooms = num_rooms\n",
    "        self.num_reqs = num_reqs\n",
    "        self.response_time = response_time\n",
    "        self.rating = rating"
   ]
  },
  {
   "cell_type": "code",
   "execution_count": 36,
   "id": "a54c1eec-f4ff-4fa8-95cf-61f788761e95",
   "metadata": {
    "tags": []
   },
   "outputs": [],
   "source": [
    "#Define guest class\n",
    "class Guest:\n",
    "    def __init__(self, dest, date_rng, num_rooms):\n",
    "        self.dest = dest\n",
    "        self.date_rng = date_rng\n",
    "        self.num_rooms = num_rooms"
   ]
  },
  {
   "cell_type": "code",
   "execution_count": 51,
   "id": "35af5393-bcad-435f-bf3c-d8b02971df7e",
   "metadata": {
    "tags": []
   },
   "outputs": [],
   "source": [
    "#Generate listings\n",
    "np.random.seed(42)\n",
    "\n",
    "lst_dict = {}\n",
    "num_listings = 100\n",
    "num_cities = 3\n",
    "\n",
    "for i in range(num_listings):\n",
    "    city_num = np.random.randint(low=1, high=num_cities+1)\n",
    "    start_date = dt.strptime('2024-07-01', '%Y-%m-%d').date()\n",
    "    end_date = dt.strptime('2024-07-07', '%Y-%m-%d').date()\n",
    "    num_days_start = np.random.randint(low=1, high=15)\n",
    "    num_days_end = np.random.randint(low=1, high=6)\n",
    "    num_rooms = np.random.randint(low=1, high=5)\n",
    "    num_reqs = np.random.uniform()\n",
    "    response_time = np.random.uniform()\n",
    "    rating = np.random.uniform()\n",
    "    \n",
    "    start_date = start_date + timedelta(days=num_days_start)\n",
    "    end_date = end_date + timedelta(days=num_days_start + num_days_end)\n",
    "    date_rng = (start_date, end_date)\n",
    "    \n",
    "    lst_dict[i] = Listing(city_num, date_rng, num_rooms, num_reqs, response_time, rating)"
   ]
  },
  {
   "cell_type": "code",
   "execution_count": 52,
   "id": "bb4f30ec-2baa-491f-af52-e6c6f90f47e8",
   "metadata": {
    "tags": []
   },
   "outputs": [],
   "source": [
    "#Generate guest\n",
    "guest_dest = 3\n",
    "guest_start_date = dt.strptime('2024-07-04', '%Y-%m-%d').date()\n",
    "guest_end_date = dt.strptime('2024-07-12', '%Y-%m-%d').date()\n",
    "temp_guest = Guest(guest_dest, (guest_start_date, guest_end_date), 1)"
   ]
  },
  {
   "cell_type": "code",
   "execution_count": 53,
   "id": "3d6e0275-95dc-4eb0-b60b-4001d837d0b8",
   "metadata": {
    "tags": []
   },
   "outputs": [],
   "source": [
    "#Define jaccard similarity for date overlap\n",
    "def jac_sim(guest_rng, lst_rng):\n",
    "    start = max(guest_rng[0], lst_rng[0])\n",
    "    end = min(guest_rng[1], lst_rng[1])\n",
    "    overlap = end - start\n",
    "    \n",
    "    early_start = min(guest_rng[0], lst_rng[0])\n",
    "    late_end= max(guest_rng[1], lst_rng[1])\n",
    "    union = late_end - early_start\n",
    "    \n",
    "    return overlap.days / union.days"
   ]
  },
  {
   "cell_type": "code",
   "execution_count": 54,
   "id": "3540c2bc-e263-417c-800d-9ac4d79a6c3c",
   "metadata": {
    "tags": []
   },
   "outputs": [],
   "source": [
    "#Define absolute difference for bedroom match\n",
    "def abs_diff(guest_rooms, lst_rooms):\n",
    "    return 1 - (abs(guest_rooms - lst_rooms) / 5)"
   ]
  },
  {
   "cell_type": "code",
   "execution_count": 59,
   "id": "8d429078-6940-4ccc-8d0d-e155a383951b",
   "metadata": {
    "tags": []
   },
   "outputs": [],
   "source": [
    "#Run matching simulation\n",
    "rank_lst_dict = {}\n",
    "sim_weights = [.7, .3]\n",
    "lst_score_weights = [.4, .3, .2, .1]\n",
    "\n",
    "temp_dict = {key: val for key, val in lst_dict.items() if val.city == guest_dest}\n",
    "\n",
    "for key, val in temp_dict.items():\n",
    "    \n",
    "    jac_score = jac_sim(temp_guest.date_rng, val.date_rng)\n",
    "    bed_score = abs_diff(temp_guest.num_rooms, val.num_rooms)\n",
    "    \n",
    "    sim_score = (sim_weights[0] * jac_score) + (sim_weights[1] * bed_score)\n",
    "    lst_score = (lst_score_weights[0] * sim_score) - (lst_score_weights[1] * val.num_reqs) - (lst_score_weights[2] * val.response_time) + (lst_score_weights[3] * val.rating)\n",
    "    \n",
    "    rank_lst_dict[key] = lst_score"
   ]
  },
  {
   "cell_type": "code",
   "execution_count": 60,
   "id": "9029a1b8-e378-4492-9050-54cbbf700917",
   "metadata": {
    "tags": []
   },
   "outputs": [
    {
     "data": {
      "text/plain": [
       "[(33, 0.22612141893132756),\n",
       " (8, 0.12977247904917524),\n",
       " (72, 0.12976891406493157),\n",
       " (32, 0.09479958388340516),\n",
       " (60, 0.08957313358870844),\n",
       " (14, 0.05765653850182544),\n",
       " (18, 0.05343156854054164),\n",
       " (76, 0.04911126057985683),\n",
       " (17, 0.03461826470415198),\n",
       " (97, 0.008722850515238703)]"
      ]
     },
     "execution_count": 60,
     "metadata": {},
     "output_type": "execute_result"
    }
   ],
   "source": [
    "#Show first 10 scores\n",
    "sorted(rank_lst_dict.items(), key=lambda item: item[1], reverse=True)[:10]"
   ]
  },
  {
   "cell_type": "markdown",
   "id": "9fa59e33-54b3-4162-989d-f5d49987e15d",
   "metadata": {},
   "source": [
    "The highest-ranked listing stands far above the rest, followed by what is essentially a tie between the second and third. The remaining listings quickly fall off, trending toward zero. Below is the information about the highest-ranked listing."
   ]
  },
  {
   "cell_type": "code",
   "execution_count": 68,
   "id": "6f702171-853b-43ea-bbcb-423079740465",
   "metadata": {
    "tags": []
   },
   "outputs": [
    {
     "name": "stdout",
     "output_type": "stream",
     "text": [
      "City ID: 3\n",
      "Date Range: (datetime.date(2024, 7, 3), datetime.date(2024, 7, 10))\n",
      "Number of Bedrooms: 3\n",
      "Number of Requests: 0.3410663510502585\n",
      "Response Time: 0.11347352124058907\n",
      "Rating: 0.9246936182785628\n"
     ]
    }
   ],
   "source": [
    "#Show information of top match\n",
    "print(f\"City ID: {lst_dict[33].city}\")\n",
    "print(f\"Date Range: {lst_dict[33].date_rng}\")\n",
    "print(f\"Number of Bedrooms: {lst_dict[33].num_rooms}\")\n",
    "print(f\"Number of Requests: {lst_dict[33].num_reqs}\")\n",
    "print(f\"Response Time: {lst_dict[33].response_time}\")\n",
    "print(f\"Rating: {lst_dict[33].rating}\")"
   ]
  },
  {
   "cell_type": "markdown",
   "id": "273b99c7-1c67-4b53-be95-b4b352023ec5",
   "metadata": {},
   "source": [
    "The algorithm fairly well captured a listing that significantly overlaps with the guest's desired date range. While the number of bedrooms is questionable, it's an acceptable outcome for now, given the algorithm's heavy weighting towards date range overlap."
   ]
  },
  {
   "cell_type": "markdown",
   "id": "f969e79d-98c6-4710-9e6f-e71fbf658463",
   "metadata": {},
   "source": [
    "The number of requests, response time, and rating are all normalized values, yet still offer clear insights. The low number of requests indicates this listing isn't heavily in demand. The response time suggests the host is very prompt, which our prototype algorithm aims to encourage. Finally, the favorable rating is another positive for the guest, appearing to be on the higher end of the spectrum. We also present the second best listing below."
   ]
  },
  {
   "cell_type": "code",
   "execution_count": 69,
   "id": "f0d9a856-0930-4693-bb38-3f6a73901671",
   "metadata": {
    "tags": []
   },
   "outputs": [
    {
     "name": "stdout",
     "output_type": "stream",
     "text": [
      "City ID: 3\n",
      "Date Range: (datetime.date(2024, 7, 4), datetime.date(2024, 7, 11))\n",
      "Number of Bedrooms: 4\n",
      "Number of Requests: 0.18223608778806233\n",
      "Response Time: 0.7553614103176525\n",
      "Rating: 0.4251558744912447\n"
     ]
    }
   ],
   "source": [
    "#Show information of next best match\n",
    "print(f\"City ID: {lst_dict[8].city}\")\n",
    "print(f\"Date Range: {lst_dict[8].date_rng}\")\n",
    "print(f\"Number of Bedrooms: {lst_dict[8].num_rooms}\")\n",
    "print(f\"Number of Requests: {lst_dict[8].num_reqs}\")\n",
    "print(f\"Response Time: {lst_dict[8].response_time}\")\n",
    "print(f\"Rating: {lst_dict[8].rating}\")"
   ]
  },
  {
   "cell_type": "markdown",
   "id": "3f52804b-9713-4d92-b87a-e534db5bf975",
   "metadata": {},
   "source": [
    "The date range of this second listing appears to be slightly more aligned with the user's preferences, but the algorithm favored the first due to the greater discrepancy in bedrooms. This is a valuable insight for future hyperparameter tuning. Furthermore, while the requests are lower, the response time is much higher, and the listing has a significantly lower rating. We can attribute the even lower score of this listing to the weighting priorities in the listing score metric."
   ]
  },
  {
   "cell_type": "markdown",
   "id": "6c2b4b29-7a39-4e60-a155-7422b2ce209f",
   "metadata": {},
   "source": [
    "# Conclusion"
   ]
  },
  {
   "cell_type": "markdown",
   "id": "34b253a5-896e-4cc9-9529-d97f91ee063e",
   "metadata": {},
   "source": [
    "This post examined the company Kindred through the lens of business strategy, economics, and algorithm development. We demonstrated how Kindred provides a unique value proposition to the travel-lodging market. We then proceeded to engineer the market through careful market design, encouraging active involvement in the network. We concluded by presenting a high-level prototype of how an algorithm can be designed and implemented to optimize our market design."
   ]
  },
  {
   "cell_type": "markdown",
   "id": "be0ba6ed-b213-431b-88f3-f48fe26091e5",
   "metadata": {},
   "source": [
    "We hope this post not only demonstrated the power of the intersection between strategy, economics, and algorithms, but also introduced you to an innovative new company that's poised to help travelers feel they have a home anywhere they go."
   ]
  }
 ],
 "metadata": {
  "kernelspec": {
   "display_name": "Python 3 (ipykernel)",
   "language": "python",
   "name": "python3"
  },
  "language_info": {
   "codemirror_mode": {
    "name": "ipython",
    "version": 3
   },
   "file_extension": ".py",
   "mimetype": "text/x-python",
   "name": "python",
   "nbconvert_exporter": "python",
   "pygments_lexer": "ipython3",
   "version": "3.10.9"
  }
 },
 "nbformat": 4,
 "nbformat_minor": 5
}
