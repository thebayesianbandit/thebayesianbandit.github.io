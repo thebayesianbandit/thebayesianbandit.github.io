{
 "cells": [
  {
   "cell_type": "raw",
   "id": "be1c19ca-b2b7-43b3-8fe7-e66ce34f69f6",
   "metadata": {},
   "source": [
    "---\n",
    "title: \"The Impact of Sports on University Philanthropy: A Causal Analysis\"\n",
    "draft: false\n",
    "toc: true\n",
    "author: \"Brandon Scott\"\n",
    "date: \"2025-07-14\"\n",
    "number-sections: false\n",
    "categories: [marketing, causal inference, python]\n",
    "execute:\n",
    "    echo: false\n",
    "    warning: false\n",
    "crossref:\n",
    "    chapters: true\n",
    "format:\n",
    "    html:\n",
    "        code-fold: false\n",
    "jupyter: python3\n",
    "bibliography: ../../references.bib\n",
    "csl: ../../ieee.csl\n",
    "---"
   ]
  },
  {
   "cell_type": "code",
   "execution_count": 1,
   "id": "14f3d87b-78f5-4e0d-ae2b-64b9ea3a80c3",
   "metadata": {
    "tags": []
   },
   "outputs": [
    {
     "name": "stderr",
     "output_type": "stream",
     "text": [
      "IProgress not found. Please update jupyter and ipywidgets. See https://ipywidgets.readthedocs.io/en/stable/user_install.html\n"
     ]
    }
   ],
   "source": [
    "import pandas as pd\n",
    "import numpy as np\n",
    "import matplotlib.pyplot as plt\n",
    "import seaborn as sns\n",
    "import graphviz as gr\n",
    "\n",
    "import statsmodels.formula.api as smf\n",
    "\n",
    "from econml.dml import CausalForestDML\n",
    "\n",
    "from sklearn.model_selection import train_test_split"
   ]
  },
  {
   "cell_type": "markdown",
   "id": "2c007100-69a5-49dc-b386-8eb4f228e538",
   "metadata": {},
   "source": [
    "# Abstract"
   ]
  },
  {
   "cell_type": "markdown",
   "id": "0985bb5f-2c25-4539-9b2a-e9af1d9d8a04",
   "metadata": {},
   "source": [
    "In this post, we present a scenario where a university seeks to identify the causal effects of sports passes on alumni donation likelihood. Using a synthetic dataset mimicking a random sample of alumni five years post-graduation, we explore the data to gather insights and illustrate the flow of causality via a Directed Acyclic Graph (DAG). We then demonstrate how a university can calculate these causal effects using two different models: logistic regression and causal forests. Finally, we discuss how a university might strategically utilize these findings to increase philanthropic activity among alumni."
   ]
  },
  {
   "cell_type": "markdown",
   "id": "93b66574-7114-41c0-8fd2-8d9527a4c04c",
   "metadata": {},
   "source": [
    "# Introduction"
   ]
  },
  {
   "cell_type": "markdown",
   "id": "6dad35a2-51f3-4ca0-b8b2-2f0ef3fba80c",
   "metadata": {},
   "source": [
    "A major source of revenue for universities is through donations from alumni [@Schwartz_2024_UScolleges]. These contributions are largely used to provide financial assistance to students but can also support other causes, including university operations, research funding, and facility construction. Maximizing alumni engagement and encouraging them to give back is a key objective for all universities. To achieve this, universities attempt to create meaningful touchpoints that strengthen relationships with alumni. One significant avenue for fostering these connections is through sports programs."
   ]
  },
  {
   "cell_type": "markdown",
   "id": "f14dd8dc-9e1a-43fe-b372-c3a30c918d98",
   "metadata": {},
   "source": [
    "University sports programs have become an important lever in creating alumni loyalty [@PEGLtd_2024_Bleachers]. They provide the university with good publicity for recruiting new students, help establish strong alumni pipelines, and maintaining existing alumni relationships. From merchandise to games and special dinners, sports programs offer universities a powerful way to instill pride in their alumni, encouraging them to contribute to the university's mission."
   ]
  },
  {
   "cell_type": "markdown",
   "id": "9eac8b4a-3a31-43b5-87dd-6212d0f3e631",
   "metadata": {},
   "source": [
    "The central question then becomes: How can universities foster this sense of pride in students during their time on campus and sustain it post-graduation? If sports programs serve as a bridge between alumni and the university, how can we ensure students are engaged with these programs so that, when the time is appropriate, they are eager to become donors who support and sustain the university?"
   ]
  },
  {
   "cell_type": "markdown",
   "id": "0b490028-1696-4527-9b20-ebb407bc6852",
   "metadata": {},
   "source": [
    "# Encouraging Engagement: Sports Passes"
   ]
  },
  {
   "cell_type": "markdown",
   "id": "d32aaa96-887e-40af-b275-df1a010c0d33",
   "metadata": {},
   "source": [
    "A common approach to encourage student engagement with sports programs is a one-for-all pass. Purchased for a flat fee at the beginning of the school year, these passes grant students access to any home sporting event within designated student seating. This not only serves as a valuable revenue stream for the university but also creates meaningful student memories at games. From pre-game fan activities to in-game engagement and post-game celebrations, these sport passes actively encourage students throughout their university tenure to immerse themselves in the exciting atmosphere of the university."
   ]
  },
  {
   "cell_type": "markdown",
   "id": "96e2590b-45bc-4469-b55c-57ccd3ebc382",
   "metadata": {},
   "source": [
    "Since students have a direct avenue to become acquainted with university sports via these passes, we can now formulate our research question: **Do sports passes cause an increase in the likelihood of alumni becoming donors?** It is crucial that we move beyond simply observing a correlation between sports pass purchase and alumni donations. Instead, our goal is to identify if these passes represent a true lever that universities can strategically utilize to influence the philanthropic behavior of their alumni."
   ]
  },
  {
   "cell_type": "markdown",
   "id": "5eccd61f-949e-4408-b9aa-59b667134d2d",
   "metadata": {},
   "source": [
    "# Discovering Causality"
   ]
  },
  {
   "cell_type": "markdown",
   "id": "3627ba7f-4edc-4eb8-8dca-60246d4f0d81",
   "metadata": {},
   "source": [
    "## Gathering Data"
   ]
  },
  {
   "cell_type": "markdown",
   "id": "4345fae4-6aa0-464c-b593-b9fee2b36a09",
   "metadata": {},
   "source": [
    "In order to attempt to establish a causal relationship, we first need to identify the nature of our data. The gold standard for establishing causal relationships is performing a **randomized controlled trial (RCT)**. However, in our situation, this is infeasible. We would not want to randomly assign sports passes to some students and withhold them from others, as this would significantly reduce potential revenue from pass sales. Furthermore, we cannot guarantee that students assigned a pass would actually utilize it."
   ]
  },
  {
   "cell_type": "markdown",
   "id": "76a542d3-6810-49c3-9969-bc1600fa6fc1",
   "metadata": {},
   "source": [
    "From a university's perspective, we have a long history of selling sports passes and have significantly enhanced our ability to track student activity through student IDs across various campus engagements. While we lack experimental data, we have a plethora of observational data. Although extracting causal relationships from observational data is more complex, recent advancements in causal inference have made these estimates considerably more robust [@Hernan2006]."
   ]
  },
  {
   "cell_type": "markdown",
   "id": "6d405d23-2911-4484-804d-3edc8f008b21",
   "metadata": {},
   "source": [
    "Even though we have a plethora of observational data, we still need to design a sampling strategy in order to set up our analysis correctly. To do this, we'll use a stratified sampling approach where we take equal random samples across different university majors. Furthermore, we gather other important covariates for modeling. Below is a sample of our gathered data. "
   ]
  },
  {
   "cell_type": "code",
   "execution_count": 2,
   "id": "51b15cc1-ca89-4bf2-85bd-086cf1472e6f",
   "metadata": {
    "tags": []
   },
   "outputs": [],
   "source": [
    "#Define data gen function\n",
    "def gen_data(n_obs, r_seed=42):\n",
    "    np.random.seed(r_seed)\n",
    "    \n",
    "    data_dict = {\n",
    "        'major': [],\n",
    "        'GPA': [],\n",
    "        'gender': [],\n",
    "        'alumni_parents': [],\n",
    "        'played_intramurals': [],\n",
    "        'current_salary': [],\n",
    "        'sports_pass': [],\n",
    "        'has_donated': []\n",
    "    }\n",
    "    \n",
    "    major_sal_dict = {\n",
    "        'Life Science': {'mean': 70, 'sd': 10},\n",
    "        'Engineering': {'mean': 90, 'sd': 5},\n",
    "        'Business': {'mean': 100, 'sd': 10}, \n",
    "        'Humanities': {'mean': 60, 'sd': 15}, \n",
    "        'Computer Science': {'mean': 100, 'sd': 5}\n",
    "    }\n",
    "    \n",
    "    major_sport_dict = {\n",
    "        'Life Science': {'low': 0, 'high': .3},\n",
    "        'Engineering': {'low': 0, 'high': .2},\n",
    "        'Business': {'low': .3, 'high': .4}, \n",
    "        'Humanities': {'low': .2, 'high': .3}, \n",
    "        'Computer Science': {'low': .1, 'high': .3}\n",
    "    }\n",
    "    \n",
    "    major_don_dict = {\n",
    "        'Life Science': {'low': 0, 'high': .2},\n",
    "        'Engineering': {'low': 0, 'high': .2},\n",
    "        'Business': {'low': .15, 'high': .25}, \n",
    "        'Humanities': {'low': .1, 'high': .2}, \n",
    "        'Computer Science': {'low': .1, 'high': .3}\n",
    "    }\n",
    "    \n",
    "    for n in range(n_obs):\n",
    "        major = np.random.choice(list(major_sal_dict.keys()))\n",
    "        gpa = round(min(4, np.random.normal(3.0, 0.5)), 2)\n",
    "        gender = np.random.choice(['f', 'm'])\n",
    "        alumni = np.random.choice([0, 1])\n",
    "        intramural = np.random.choice([0, 1])\n",
    "        current_sal = round(np.random.normal(major_sal_dict[major]['mean'], major_sal_dict[major]['sd']), 2)\n",
    "        \n",
    "        prob_sports_pass = np.random.uniform(major_sport_dict[major]['low'], major_sport_dict[major]['high'])\n",
    "        if alumni == 1:\n",
    "            prob_sports_pass += .2\n",
    "        if intramural == 1:\n",
    "            prob_sports_pass += .1\n",
    "        if gpa > 3.5: \n",
    "            prob_sports_pass -= .15\n",
    "            \n",
    "        sports_pass = 0\n",
    "        if prob_sports_pass > np.random.uniform():\n",
    "            sports_pass = 1\n",
    "        \n",
    "        prob_donated = np.random.uniform(major_don_dict[major]['low'], major_don_dict[major]['high'])\n",
    "        if major in ['Humanities', 'Business']:\n",
    "            prob_donated += .15\n",
    "        if alumni == 1:\n",
    "            prob_donated += .15\n",
    "        if sports_pass == 1: \n",
    "            prob_donated += .3\n",
    "        if current_sal > 110:\n",
    "            prob_donated += .15\n",
    "        if current_sal < 100:\n",
    "            prob_donated -= .25\n",
    "            \n",
    "        donated = 0\n",
    "        if prob_donated > np.random.uniform():\n",
    "            donated = 1\n",
    "        \n",
    "        data_dict['major'].append(major)\n",
    "        data_dict['GPA'].append(gpa)\n",
    "        data_dict['gender'].append(gender)\n",
    "        data_dict['alumni_parents'].append(alumni)\n",
    "        data_dict['played_intramurals'].append(intramural)\n",
    "        data_dict['current_salary'].append(current_sal)\n",
    "        data_dict['sports_pass'].append(sports_pass)\n",
    "        data_dict['has_donated'].append(donated)\n",
    "        \n",
    "    return pd.DataFrame(data_dict)"
   ]
  },
  {
   "cell_type": "code",
   "execution_count": 3,
   "id": "776599b8-924f-4dd4-a1f3-60eece6a22a0",
   "metadata": {
    "tags": []
   },
   "outputs": [],
   "source": [
    "#Generate data\n",
    "df = gen_data(3000)"
   ]
  },
  {
   "cell_type": "code",
   "execution_count": 4,
   "id": "e52969cb-f4b3-4d71-8e9d-ea068410312d",
   "metadata": {
    "tags": []
   },
   "outputs": [
    {
     "data": {
      "text/html": [
       "<div>\n",
       "<style scoped>\n",
       "    .dataframe tbody tr th:only-of-type {\n",
       "        vertical-align: middle;\n",
       "    }\n",
       "\n",
       "    .dataframe tbody tr th {\n",
       "        vertical-align: top;\n",
       "    }\n",
       "\n",
       "    .dataframe thead th {\n",
       "        text-align: right;\n",
       "    }\n",
       "</style>\n",
       "<table border=\"1\" class=\"dataframe\">\n",
       "  <thead>\n",
       "    <tr style=\"text-align: right;\">\n",
       "      <th></th>\n",
       "      <th>major</th>\n",
       "      <th>GPA</th>\n",
       "      <th>gender</th>\n",
       "      <th>alumni_parents</th>\n",
       "      <th>played_intramurals</th>\n",
       "      <th>current_salary</th>\n",
       "      <th>sports_pass</th>\n",
       "      <th>has_donated</th>\n",
       "    </tr>\n",
       "  </thead>\n",
       "  <tbody>\n",
       "    <tr>\n",
       "      <th>0</th>\n",
       "      <td>Humanities</td>\n",
       "      <td>2.44</td>\n",
       "      <td>f</td>\n",
       "      <td>0</td>\n",
       "      <td>0</td>\n",
       "      <td>64.78</td>\n",
       "      <td>0</td>\n",
       "      <td>0</td>\n",
       "    </tr>\n",
       "    <tr>\n",
       "      <th>1</th>\n",
       "      <td>Computer Science</td>\n",
       "      <td>2.71</td>\n",
       "      <td>f</td>\n",
       "      <td>0</td>\n",
       "      <td>1</td>\n",
       "      <td>97.37</td>\n",
       "      <td>1</td>\n",
       "      <td>0</td>\n",
       "    </tr>\n",
       "    <tr>\n",
       "      <th>2</th>\n",
       "      <td>Engineering</td>\n",
       "      <td>2.87</td>\n",
       "      <td>m</td>\n",
       "      <td>0</td>\n",
       "      <td>1</td>\n",
       "      <td>89.18</td>\n",
       "      <td>0</td>\n",
       "      <td>0</td>\n",
       "    </tr>\n",
       "    <tr>\n",
       "      <th>3</th>\n",
       "      <td>Computer Science</td>\n",
       "      <td>2.85</td>\n",
       "      <td>f</td>\n",
       "      <td>1</td>\n",
       "      <td>1</td>\n",
       "      <td>99.85</td>\n",
       "      <td>1</td>\n",
       "      <td>0</td>\n",
       "    </tr>\n",
       "    <tr>\n",
       "      <th>4</th>\n",
       "      <td>Humanities</td>\n",
       "      <td>2.99</td>\n",
       "      <td>f</td>\n",
       "      <td>0</td>\n",
       "      <td>1</td>\n",
       "      <td>44.13</td>\n",
       "      <td>1</td>\n",
       "      <td>0</td>\n",
       "    </tr>\n",
       "  </tbody>\n",
       "</table>\n",
       "</div>"
      ],
      "text/plain": [
       "              major   GPA gender  alumni_parents  played_intramurals  \\\n",
       "0        Humanities  2.44      f               0                   0   \n",
       "1  Computer Science  2.71      f               0                   1   \n",
       "2       Engineering  2.87      m               0                   1   \n",
       "3  Computer Science  2.85      f               1                   1   \n",
       "4        Humanities  2.99      f               0                   1   \n",
       "\n",
       "   current_salary  sports_pass  has_donated  \n",
       "0           64.78            0            0  \n",
       "1           97.37            1            0  \n",
       "2           89.18            0            0  \n",
       "3           99.85            1            0  \n",
       "4           44.13            1            0  "
      ]
     },
     "execution_count": 4,
     "metadata": {},
     "output_type": "execute_result"
    }
   ],
   "source": [
    "#Show head of df\n",
    "df.head()"
   ]
  },
  {
   "cell_type": "markdown",
   "id": "c85c69b8-5d58-4dc5-bf5e-c244b1ba8ff4",
   "metadata": {},
   "source": [
    "The samples we gathered were from alumni who graduated five years ago. Our response variable *has_donated* is 1 for donated and 0 for no donation. Our treatment variable *sports_pass* is also binary where 1 is for purchased a sports pass and 0 for no. Since we are dealing with establishing causality, we want to include potential confounders as part of the dataset. To account for this, we gathered data on alumni majors, GPA, gender, if their parents are alumni, if they played intramurals, and their current salary. Our data in total contains 3000 observations."
   ]
  },
  {
   "cell_type": "markdown",
   "id": "ba936eb8-1bf7-446e-a6fc-730fa91f7937",
   "metadata": {},
   "source": [
    "## Exploring the Data"
   ]
  },
  {
   "cell_type": "markdown",
   "id": "5df1f71c-2b2e-4202-a8e4-7e45ae908d7c",
   "metadata": {},
   "source": [
    "Before diving into the causal models, we first explore the data to see if there is any potential evidence of causality. Our first graph @fig-eda-1 shows the count between non-donors and donors in our dataset. "
   ]
  },
  {
   "cell_type": "code",
   "execution_count": 5,
   "id": "38d600b1-650b-426a-be69-c021add49cd5",
   "metadata": {},
   "outputs": [
    {
     "data": {
      "image/png": "[encoded data removed]",
      "text/plain": [
       "<Figure size 1200x500 with 1 Axes>"
      ]
     },
     "metadata": {},
     "output_type": "display_data"
    }
   ],
   "source": [
    "#| label: fig-eda-1\n",
    "#| fig-cap: \"Count of Non-Donors vs Donors\"\n",
    "\n",
    "#Show split between donated and not donated in the dataset\n",
    "fig, ax = plt.subplots(figsize=(12,5))\n",
    "\n",
    "df.groupby('has_donated').size().plot(kind='bar', ax=ax, title='No Donation vs Donation');"
   ]
  },
  {
   "cell_type": "markdown",
   "id": "810eec33-b2f8-4792-9025-119c884a8bd8",
   "metadata": {},
   "source": [
    "@fig-eda-1 clearly shows that the majority of our observations are non-donors. We can see how these numbers are across different majors in @fig-eda-2. "
   ]
  },
  {
   "cell_type": "code",
   "execution_count": 6,
   "id": "6e4b6f93-bdf7-4b8f-91bb-deb2ce24761f",
   "metadata": {
    "tags": []
   },
   "outputs": [
    {
     "data": {
      "image/png": "[encoded data removed]",
      "text/plain": [
       "<Figure size 1200x500 with 1 Axes>"
      ]
     },
     "metadata": {},
     "output_type": "display_data"
    }
   ],
   "source": [
    "#| label: fig-eda-2\n",
    "#| fig-cap: \"Count of Non-Donors vs Donors by Major\"\n",
    "\n",
    "#Show split between donated and not donated among different majors\n",
    "fig, ax = plt.subplots(figsize=(12,5))\n",
    "\n",
    "df.groupby(['major', 'has_donated']).size().unstack().plot(kind='bar', ax=ax, title='No Donation vs Donation (by Major)');"
   ]
  },
  {
   "cell_type": "markdown",
   "id": "6e4bcd12-2fcd-4934-b7b3-5a44464290cb",
   "metadata": {},
   "source": [
    "@fig-eda-2 reveals an interesting relationship between donors and major. It seems that, according to our sample, donation likelihood across majors varies. Business majors appear to have the highest percent of donors whereas engineering appears to have the lowest. @fig-eda-3 continues this investigation by seeing the proportion of alumni who purchased sports passes in their undergrad split by major. "
   ]
  },
  {
   "cell_type": "code",
   "execution_count": 7,
   "id": "49adf790-f37a-4dbe-9202-bb0115d7cca0",
   "metadata": {
    "tags": []
   },
   "outputs": [
    {
     "data": {
      "image/png": "[encoded data removed]",
      "text/plain": [
       "<Figure size 1200x500 with 1 Axes>"
      ]
     },
     "metadata": {},
     "output_type": "display_data"
    }
   ],
   "source": [
    "#| label: fig-eda-3\n",
    "#| fig-cap: \"Count of Non-Sports Pass Holders vs Sports Pass Holders by Major\"\n",
    "\n",
    "#Show sports pass by major\n",
    "fig, ax = plt.subplots(figsize=(12,5))\n",
    "\n",
    "df.groupby(['major', 'sports_pass']).size().unstack().plot(kind='bar', ax=ax, title='No Sports Pass vs Sports Pass (by Major)');"
   ]
  },
  {
   "cell_type": "markdown",
   "id": "c41afe0e-c088-4a9f-90b2-bb83e746331d",
   "metadata": {},
   "source": [
    "@fig-eda-3 reveals an interesting finding: Business majors exhibit the highest proportion of sports pass holders, with engineering majors once again showing the lowest. While we can't immediately attribute the higher number of donors from business majors solely to their high proportion of  sports pass ownership, we are encouraged by this finding as it presents a plausible explanation for the observed donation patterns. To further investigate this possibility, we can look at @fig-eda-4."
   ]
  },
  {
   "cell_type": "code",
   "execution_count": 8,
   "id": "32c83e6b-75ca-4ec6-bbd8-615b698fd9e1",
   "metadata": {
    "tags": []
   },
   "outputs": [
    {
     "data": {
      "image/png": "[encoded data removed]",
      "text/plain": [
       "<Figure size 1200x500 with 1 Axes>"
      ]
     },
     "metadata": {},
     "output_type": "display_data"
    }
   ],
   "source": [
    "#| label: fig-eda-4\n",
    "#| fig-cap: \"Count of Non-Donors vs Donors by Sports Pass\"\n",
    "\n",
    "#Show donation by sportspass\n",
    "fig, ax = plt.subplots(figsize=(12,5))\n",
    "\n",
    "df.groupby(['sports_pass', 'has_donated']).size().unstack().plot(kind='bar', ax=ax, title='No Donation vs Donation (by Sports Pass)');"
   ]
  },
  {
   "cell_type": "markdown",
   "id": "b5fc21d0-8f7d-4954-824a-4173de3ae526",
   "metadata": {},
   "source": [
    "@fig-eda-4 is very informative. There is a much higher proportion of donors who come from those who own sports passes than those who did not own a sports pass. Again, it is too early to attribute causality as the reason behind these relationships. Nonetheless, it is once again an encouraging sign for us attempting to discover a causal relationship between sports pass and donor likelihood. For example, @fig-eda-5 shows a potential confounder to donation."
   ]
  },
  {
   "cell_type": "code",
   "execution_count": 9,
   "id": "f8b2db91-385e-4c7d-804f-503d23c1a6f3",
   "metadata": {
    "tags": []
   },
   "outputs": [
    {
     "data": {
      "image/png": "[encoded data removed]",
      "text/plain": [
       "<Figure size 1500x500 with 2 Axes>"
      ]
     },
     "metadata": {},
     "output_type": "display_data"
    }
   ],
   "source": [
    "#| label: fig-eda-5\n",
    "#| fig-cap: \"Salary Distribution between Donors and Non-Donors\"\n",
    "\n",
    "#Plot distribution of salaries by people who donated vs not donated\n",
    "fig, ax = plt.subplots(2, 1, figsize=(15,5))\n",
    "\n",
    "ax[0].hist(df.query(\"has_donated == 1\")['current_salary'])\n",
    "ax[0].set_title(\"Salary Distribution of Donors\")\n",
    "\n",
    "ax[1].hist(df.query(\"has_donated == 0\")['current_salary'], color='orange')\n",
    "ax[1].set_title(\"Salary Distribution of Non-Donors\")\n",
    "\n",
    "fig.tight_layout();"
   ]
  },
  {
   "cell_type": "markdown",
   "id": "ac87ecc8-30ad-4a15-bb0d-169ff74341d1",
   "metadata": {},
   "source": [
    "fig-eda-5 shows current salary as a potential confounder. The distribution of donors appears to be more left-skewed than that of non-donors, signifying that the mean and median salary of donors are higher. While we don't know if this difference is statistically significant, it suggests that a person's current salary, rather than their sports connection to the university, could be a reason for their donation behavior."
   ]
  },
  {
   "cell_type": "markdown",
   "id": "d630bb0c-1827-4e30-9163-201236346b43",
   "metadata": {},
   "source": [
    "## Illustrating the Flow of Causality"
   ]
  },
  {
   "cell_type": "markdown",
   "id": "2dd3b6b5-02ef-44ec-ac04-925a251a3b21",
   "metadata": {},
   "source": [
    "The best way to begin to understand all the potential causal influences on a response variable in observational studies is via a **directed acyclic graph (DAG)**. DAGs are the language of causal inference since we can visually see the flow of causality from our potential confounders and treatment to our response variable. @fig-dag-1 shows our proposed DAG."
   ]
  },
  {
   "cell_type": "code",
   "execution_count": 10,
   "id": "af1d1bd7-ce20-4845-810d-7a6b371b386f",
   "metadata": {
    "tags": []
   },
   "outputs": [
    {
     "data": {
      "image/svg+xml": [
       "<?xml version=\"1.0\" encoding=\"UTF-8\" standalone=\"no\"?>\n",
       "<!DOCTYPE svg PUBLIC \"-//W3C//DTD SVG 1.1//EN\"\n",
       " \"http://www.w3.org/Graphics/SVG/1.1/DTD/svg11.dtd\">\n",
       "<!-- Generated by graphviz version 2.43.0 (0)\n",
       " -->\n",
       "<!-- Title: %3 Pages: 1 -->\n",
       "<svg width=\"655pt\" height=\"188pt\"\n",
       " viewBox=\"0.00 0.00 655.35 188.00\" xmlns=\"http://www.w3.org/2000/svg\" xmlns:xlink=\"http://www.w3.org/1999/xlink\">\n",
       "<g id=\"graph0\" class=\"graph\" transform=\"scale(1 1) rotate(0) translate(4 184)\">\n",
       "<title>%3</title>\n",
       "<polygon fill=\"white\" stroke=\"transparent\" points=\"-4,4 -4,-184 651.35,-184 651.35,4 -4,4\"/>\n",
       "<!-- Major -->\n",
       "<g id=\"node1\" class=\"node\">\n",
       "<title>Major</title>\n",
       "<ellipse fill=\"none\" stroke=\"black\" cx=\"38.35\" cy=\"-162\" rx=\"38.19\" ry=\"18\"/>\n",
       "<text text-anchor=\"middle\" x=\"38.35\" y=\"-158.3\" font-family=\"Times,serif\" font-size=\"14.00\">Major</text>\n",
       "</g>\n",
       "<!-- Donation -->\n",
       "<g id=\"node2\" class=\"node\">\n",
       "<title>Donation</title>\n",
       "<ellipse fill=\"none\" stroke=\"black\" cx=\"172.35\" cy=\"-18\" rx=\"52.79\" ry=\"18\"/>\n",
       "<text text-anchor=\"middle\" x=\"172.35\" y=\"-14.3\" font-family=\"Times,serif\" font-size=\"14.00\">Donation</text>\n",
       "</g>\n",
       "<!-- Major&#45;&gt;Donation -->\n",
       "<g id=\"edge1\" class=\"edge\">\n",
       "<title>Major&#45;&gt;Donation</title>\n",
       "<path fill=\"none\" stroke=\"black\" d=\"M55.4,-145.63C66.71,-135.26 81.72,-121.12 94.35,-108 114.73,-86.82 136.7,-61.51 152.11,-43.31\"/>\n",
       "<polygon fill=\"black\" stroke=\"black\" points=\"154.93,-45.39 158.7,-35.48 149.58,-40.88 154.93,-45.39\"/>\n",
       "</g>\n",
       "<!-- Salary -->\n",
       "<g id=\"node3\" class=\"node\">\n",
       "<title>Salary</title>\n",
       "<ellipse fill=\"none\" stroke=\"black\" cx=\"45.35\" cy=\"-90\" rx=\"40.09\" ry=\"18\"/>\n",
       "<text text-anchor=\"middle\" x=\"45.35\" y=\"-86.3\" font-family=\"Times,serif\" font-size=\"14.00\">Salary</text>\n",
       "</g>\n",
       "<!-- Major&#45;&gt;Salary -->\n",
       "<g id=\"edge9\" class=\"edge\">\n",
       "<title>Major&#45;&gt;Salary</title>\n",
       "<path fill=\"none\" stroke=\"black\" d=\"M40.08,-143.7C40.85,-135.98 41.78,-126.71 42.64,-118.11\"/>\n",
       "<polygon fill=\"black\" stroke=\"black\" points=\"46.12,-118.4 43.64,-108.1 39.16,-117.71 46.12,-118.4\"/>\n",
       "</g>\n",
       "<!-- Sports Pass -->\n",
       "<g id=\"node5\" class=\"node\">\n",
       "<title>Sports Pass</title>\n",
       "<ellipse fill=\"none\" stroke=\"black\" cx=\"324.35\" cy=\"-90\" rx=\"65.79\" ry=\"18\"/>\n",
       "<text text-anchor=\"middle\" x=\"324.35\" y=\"-86.3\" font-family=\"Times,serif\" font-size=\"14.00\">Sports Pass</text>\n",
       "</g>\n",
       "<!-- Major&#45;&gt;Sports Pass -->\n",
       "<g id=\"edge5\" class=\"edge\">\n",
       "<title>Major&#45;&gt;Sports Pass</title>\n",
       "<path fill=\"none\" stroke=\"black\" d=\"M67.35,-150.09C73.58,-147.93 80.14,-145.78 86.35,-144 145.03,-127.14 213.14,-112.45 261.43,-102.84\"/>\n",
       "<polygon fill=\"black\" stroke=\"black\" points=\"262.29,-106.24 271.42,-100.87 260.93,-99.37 262.29,-106.24\"/>\n",
       "</g>\n",
       "<!-- Salary&#45;&gt;Donation -->\n",
       "<g id=\"edge2\" class=\"edge\">\n",
       "<title>Salary&#45;&gt;Donation</title>\n",
       "<path fill=\"none\" stroke=\"black\" d=\"M69.83,-75.5C88.88,-65 115.57,-50.29 136.95,-38.51\"/>\n",
       "<polygon fill=\"black\" stroke=\"black\" points=\"138.67,-41.56 145.74,-33.66 135.3,-35.43 138.67,-41.56\"/>\n",
       "</g>\n",
       "<!-- Parent Alumni -->\n",
       "<g id=\"node4\" class=\"node\">\n",
       "<title>Parent Alumni</title>\n",
       "<ellipse fill=\"none\" stroke=\"black\" cx=\"172.35\" cy=\"-162\" rx=\"77.19\" ry=\"18\"/>\n",
       "<text text-anchor=\"middle\" x=\"172.35\" y=\"-158.3\" font-family=\"Times,serif\" font-size=\"14.00\">Parent Alumni</text>\n",
       "</g>\n",
       "<!-- Parent Alumni&#45;&gt;Donation -->\n",
       "<g id=\"edge3\" class=\"edge\">\n",
       "<title>Parent Alumni&#45;&gt;Donation</title>\n",
       "<path fill=\"none\" stroke=\"black\" d=\"M172.35,-143.87C172.35,-119.67 172.35,-75.21 172.35,-46.39\"/>\n",
       "<polygon fill=\"black\" stroke=\"black\" points=\"175.85,-46.19 172.35,-36.19 168.85,-46.19 175.85,-46.19\"/>\n",
       "</g>\n",
       "<!-- Parent Alumni&#45;&gt;Sports Pass -->\n",
       "<g id=\"edge6\" class=\"edge\">\n",
       "<title>Parent Alumni&#45;&gt;Sports Pass</title>\n",
       "<path fill=\"none\" stroke=\"black\" d=\"M205.7,-145.64C228.46,-135.16 258.76,-121.2 283.05,-110.02\"/>\n",
       "<polygon fill=\"black\" stroke=\"black\" points=\"284.75,-113.09 292.37,-105.73 281.82,-106.73 284.75,-113.09\"/>\n",
       "</g>\n",
       "<!-- Sports Pass&#45;&gt;Donation -->\n",
       "<g id=\"edge4\" class=\"edge\">\n",
       "<title>Sports Pass&#45;&gt;Donation</title>\n",
       "<path fill=\"none\" stroke=\"black\" d=\"M292.11,-74.15C268.62,-63.34 236.67,-48.62 211.67,-37.11\"/>\n",
       "<polygon fill=\"black\" stroke=\"black\" points=\"213.01,-33.88 202.47,-32.87 210.09,-40.23 213.01,-33.88\"/>\n",
       "</g>\n",
       "<!-- GPA -->\n",
       "<g id=\"node6\" class=\"node\">\n",
       "<title>GPA</title>\n",
       "<ellipse fill=\"none\" stroke=\"black\" cx=\"545.35\" cy=\"-162\" rx=\"29.8\" ry=\"18\"/>\n",
       "<text text-anchor=\"middle\" x=\"545.35\" y=\"-158.3\" font-family=\"Times,serif\" font-size=\"14.00\">GPA</text>\n",
       "</g>\n",
       "<!-- GPA&#45;&gt;Sports Pass -->\n",
       "<g id=\"edge7\" class=\"edge\">\n",
       "<title>GPA&#45;&gt;Sports Pass</title>\n",
       "<path fill=\"none\" stroke=\"black\" d=\"M522.03,-150.26C516.91,-148.07 511.49,-145.86 506.35,-144 464.91,-129 417.02,-115.19 380.77,-105.43\"/>\n",
       "<polygon fill=\"black\" stroke=\"black\" points=\"381.44,-101.99 370.87,-102.79 379.63,-108.75 381.44,-101.99\"/>\n",
       "</g>\n",
       "<!-- Intramural Participant -->\n",
       "<g id=\"node7\" class=\"node\">\n",
       "<title>Intramural Participant</title>\n",
       "<ellipse fill=\"none\" stroke=\"black\" cx=\"382.35\" cy=\"-162\" rx=\"115.08\" ry=\"18\"/>\n",
       "<text text-anchor=\"middle\" x=\"382.35\" y=\"-158.3\" font-family=\"Times,serif\" font-size=\"14.00\">Intramural Participant</text>\n",
       "</g>\n",
       "<!-- Intramural Participant&#45;&gt;Sports Pass -->\n",
       "<g id=\"edge8\" class=\"edge\">\n",
       "<title>Intramural Participant&#45;&gt;Sports Pass</title>\n",
       "<path fill=\"none\" stroke=\"black\" d=\"M368.31,-144.05C361.25,-135.54 352.57,-125.07 344.8,-115.68\"/>\n",
       "<polygon fill=\"black\" stroke=\"black\" points=\"347.33,-113.26 338.26,-107.79 341.94,-117.72 347.33,-113.26\"/>\n",
       "</g>\n",
       "<!-- U -->\n",
       "<g id=\"node8\" class=\"node\">\n",
       "<title>U</title>\n",
       "<ellipse fill=\"none\" stroke=\"black\" cx=\"620.35\" cy=\"-162\" rx=\"27\" ry=\"18\"/>\n",
       "<text text-anchor=\"middle\" x=\"620.35\" y=\"-158.3\" font-family=\"Times,serif\" font-size=\"14.00\">U</text>\n",
       "</g>\n",
       "<!-- U&#45;&gt;Donation -->\n",
       "<g id=\"edge11\" class=\"edge\">\n",
       "<title>U&#45;&gt;Donation</title>\n",
       "<path fill=\"none\" stroke=\"black\" stroke-dasharray=\"5,2\" d=\"M599.14,-150.68C594.31,-148.42 589.17,-146.08 584.35,-144 503.29,-109.14 483.63,-98.1 399.35,-72 341.36,-54.05 273.4,-38.94 227.05,-29.5\"/>\n",
       "<polygon fill=\"black\" stroke=\"black\" points=\"227.71,-26.06 217.21,-27.52 226.32,-32.93 227.71,-26.06\"/>\n",
       "</g>\n",
       "<!-- U&#45;&gt;Sports Pass -->\n",
       "<g id=\"edge10\" class=\"edge\">\n",
       "<title>U&#45;&gt;Sports Pass</title>\n",
       "<path fill=\"none\" stroke=\"black\" stroke-dasharray=\"5,2\" d=\"M599.76,-150.24C594.8,-147.94 589.46,-145.7 584.35,-144 520.59,-122.79 445.09,-108.55 391.92,-100.21\"/>\n",
       "<polygon fill=\"black\" stroke=\"black\" points=\"392.34,-96.74 381.93,-98.68 391.28,-103.66 392.34,-96.74\"/>\n",
       "</g>\n",
       "</g>\n",
       "</svg>\n"
      ],
      "text/plain": [
       "<graphviz.graphs.Digraph at 0x796259712c20>"
      ]
     },
     "execution_count": 10,
     "metadata": {},
     "output_type": "execute_result"
    }
   ],
   "source": [
    "#| label: fig-dag-1\n",
    "#| fig-cap: \"DAG representing the flow of causality in our observational data\"\n",
    "\n",
    "#Show Causal DAG\n",
    "g = gr.Digraph()\n",
    "g.edge(\"Major\", \"Donation\")\n",
    "g.edge(\"Salary\", \"Donation\")\n",
    "g.edge(\"Parent Alumni\", \"Donation\")\n",
    "g.edge(\"Sports Pass\", \"Donation\")\n",
    "\n",
    "g.edge(\"Major\", \"Sports Pass\")\n",
    "g.edge(\"Parent Alumni\", \"Sports Pass\")\n",
    "g.edge(\"GPA\", \"Sports Pass\")\n",
    "g.edge(\"Intramural Participant\", \"Sports Pass\")\n",
    "\n",
    "g.edge(\"Major\", \"Salary\")\n",
    "\n",
    "g.edge('U', 'Sports Pass', style='dashed')\n",
    "g.edge('U', 'Donation', style='dashed')\n",
    "\n",
    "g"
   ]
  },
  {
   "cell_type": "markdown",
   "id": "dde52967-e86c-4a4e-b2cf-86d81ec1ab02",
   "metadata": {},
   "source": [
    "@fig-dag-1 clearly shows many different influences on likelihood of donation. For example, the choice of major causes the current salary which then flows into how likely an alumni is to donate. We also hypothesize the potential that those who have parents that are alumni has a causal relationship with donation and sports pass. We also illustrate the potential of unobserved confounders influencing the likelihood of purchasing sports passes and the likelihood of donating. "
   ]
  },
  {
   "cell_type": "markdown",
   "id": "93d2e45b-78d5-47b0-bb55-14b1f27db08b",
   "metadata": {},
   "source": [
    "To identify a causal relationship between sports pass and donation, we need to isolate the flow of causality between sports pass and donation. To do this, we need to block any backdoor paths of causality. For example, since having parents who are alumni is a cause of both donation and sports pass, this introduces a backdoor flow of causality that confounds the effects of sports pass. In total, we need to block Major and Parent Alumni to eliminate backdoor causal paths. "
   ]
  },
  {
   "cell_type": "markdown",
   "id": "bee3a276-cbd6-4d4b-9b9d-01243a9e827f",
   "metadata": {},
   "source": [
    "Unfortunately, we can't block unobserved confounders since there is no way of measuring them. We'll have to address this problem later on in our modeling through sensitivity analysis. "
   ]
  },
  {
   "cell_type": "markdown",
   "id": "4b0b26f5-7134-4c61-aa7b-b93b1cc43224",
   "metadata": {},
   "source": [
    "## Logistic Regression to estimate Average Treatment Effect (ATE)"
   ]
  },
  {
   "cell_type": "markdown",
   "id": "4311f6f5-d014-4ad1-a75e-c9df97b060d0",
   "metadata": {},
   "source": [
    "After establishing our causal relationships via @fig-dag-1, we can begin to define a model that will estimate our **average treatment effect (ATE)**. A simple way we can do this is via logistic regression, as shown in @eq-log-1."
   ]
  },
  {
   "cell_type": "markdown",
   "id": "3f27bfe3-1fb4-4c8f-accb-e5f6d5b32a09",
   "metadata": {},
   "source": [
    "$$\n",
    "\\log\\left(\\frac{p}{1-p}\\right) = \\beta^{T}X\n",
    "$${#eq-log-1}"
   ]
  },
  {
   "cell_type": "markdown",
   "id": "8e5cf9c3-fa39-43e9-901a-0f32fd835ae4",
   "metadata": {},
   "source": [
    "$X$ is our design matrix, $\\beta$ is our vector of coefficients, and the left hand side of the equation is our log-odds ratio. Logistic regression aims to maximize the log likelihood through finding the proper $\\beta$ values. In other words, it aims to find the most likely $\\beta$ values that would occur with the $X$ and $y$ combinations."
   ]
  },
  {
   "cell_type": "markdown",
   "id": "7e54cbcc-368f-45e5-877c-08e752119629",
   "metadata": {},
   "source": [
    "In our scenario, we identified that we need to include major and parent alumni in our design matrix to isolate the effects of sports pass on likelihood of donation. However, since including other covariates wouldn't introduce confoundness, we can include the rest of the covariates from @fig-dag-1. Our model output is shown below."
   ]
  },
  {
   "cell_type": "code",
   "execution_count": 11,
   "id": "8dae0e79-9758-4463-9d34-1c6c9290877a",
   "metadata": {
    "tags": []
   },
   "outputs": [
    {
     "name": "stdout",
     "output_type": "stream",
     "text": [
      "Optimization terminated successfully.\n",
      "         Current function value: 0.398011\n",
      "         Iterations 7\n"
     ]
    }
   ],
   "source": [
    "#| output: false\n",
    "\n",
    "#Fit logistic model\n",
    "model_str = \"has_donated ~ sports_pass + C(major) + alumni_parents + GPA + played_intramurals + current_salary\"\n",
    "logit_model = smf.logit(model_str, data=df).fit()"
   ]
  },
  {
   "cell_type": "code",
   "execution_count": 12,
   "id": "0bb15899-60f6-4163-bea0-b50fb466befa",
   "metadata": {
    "tags": []
   },
   "outputs": [
    {
     "data": {
      "text/html": [
       "<table class=\"simpletable\">\n",
       "<tr>\n",
       "                <td></td>                  <th>coef</th>     <th>std err</th>      <th>z</th>      <th>P>|z|</th>  <th>[0.025</th>    <th>0.975]</th>  \n",
       "</tr>\n",
       "<tr>\n",
       "  <th>Intercept</th>                    <td>   -3.9580</td> <td>    0.618</td> <td>   -6.407</td> <td> 0.000</td> <td>   -5.169</td> <td>   -2.747</td>\n",
       "</tr>\n",
       "<tr>\n",
       "  <th>C(major)[T.Computer Science]</th> <td>   -0.8742</td> <td>    0.139</td> <td>   -6.285</td> <td> 0.000</td> <td>   -1.147</td> <td>   -0.602</td>\n",
       "</tr>\n",
       "<tr>\n",
       "  <th>C(major)[T.Engineering]</th>      <td>   -2.2845</td> <td>    0.209</td> <td>  -10.917</td> <td> 0.000</td> <td>   -2.695</td> <td>   -1.874</td>\n",
       "</tr>\n",
       "<tr>\n",
       "  <th>C(major)[T.Humanities]</th>       <td>    0.0752</td> <td>    0.237</td> <td>    0.318</td> <td> 0.751</td> <td>   -0.389</td> <td>    0.539</td>\n",
       "</tr>\n",
       "<tr>\n",
       "  <th>C(major)[T.Life Science]</th>     <td>   -1.4476</td> <td>    0.232</td> <td>   -6.234</td> <td> 0.000</td> <td>   -1.903</td> <td>   -0.993</td>\n",
       "</tr>\n",
       "<tr>\n",
       "  <th>sports_pass</th>                  <td>    1.4989</td> <td>    0.106</td> <td>   14.181</td> <td> 0.000</td> <td>    1.292</td> <td>    1.706</td>\n",
       "</tr>\n",
       "<tr>\n",
       "  <th>alumni_parents</th>               <td>    0.9650</td> <td>    0.109</td> <td>    8.880</td> <td> 0.000</td> <td>    0.752</td> <td>    1.178</td>\n",
       "</tr>\n",
       "<tr>\n",
       "  <th>GPA</th>                          <td>   -0.1134</td> <td>    0.106</td> <td>   -1.065</td> <td> 0.287</td> <td>   -0.322</td> <td>    0.095</td>\n",
       "</tr>\n",
       "<tr>\n",
       "  <th>played_intramurals</th>           <td>    0.0484</td> <td>    0.104</td> <td>    0.465</td> <td> 0.642</td> <td>   -0.156</td> <td>    0.253</td>\n",
       "</tr>\n",
       "<tr>\n",
       "  <th>current_salary</th>               <td>    0.0289</td> <td>    0.005</td> <td>    5.729</td> <td> 0.000</td> <td>    0.019</td> <td>    0.039</td>\n",
       "</tr>\n",
       "</table>"
      ],
      "text/latex": [
       "\\begin{center}\n",
       "\\begin{tabular}{lcccccc}\n",
       "\\toprule\n",
       "                                      & \\textbf{coef} & \\textbf{std err} & \\textbf{z} & \\textbf{P$> |$z$|$} & \\textbf{[0.025} & \\textbf{0.975]}  \\\\\n",
       "\\midrule\n",
       "\\textbf{Intercept}                    &      -3.9580  &        0.618     &    -6.407  &         0.000        &       -5.169    &       -2.747     \\\\\n",
       "\\textbf{C(major)[T.Computer Science]} &      -0.8742  &        0.139     &    -6.285  &         0.000        &       -1.147    &       -0.602     \\\\\n",
       "\\textbf{C(major)[T.Engineering]}      &      -2.2845  &        0.209     &   -10.917  &         0.000        &       -2.695    &       -1.874     \\\\\n",
       "\\textbf{C(major)[T.Humanities]}       &       0.0752  &        0.237     &     0.318  &         0.751        &       -0.389    &        0.539     \\\\\n",
       "\\textbf{C(major)[T.Life Science]}     &      -1.4476  &        0.232     &    -6.234  &         0.000        &       -1.903    &       -0.993     \\\\\n",
       "\\textbf{sports\\_pass}                 &       1.4989  &        0.106     &    14.181  &         0.000        &        1.292    &        1.706     \\\\\n",
       "\\textbf{alumni\\_parents}              &       0.9650  &        0.109     &     8.880  &         0.000        &        0.752    &        1.178     \\\\\n",
       "\\textbf{GPA}                          &      -0.1134  &        0.106     &    -1.065  &         0.287        &       -0.322    &        0.095     \\\\\n",
       "\\textbf{played\\_intramurals}          &       0.0484  &        0.104     &     0.465  &         0.642        &       -0.156    &        0.253     \\\\\n",
       "\\textbf{current\\_salary}              &       0.0289  &        0.005     &     5.729  &         0.000        &        0.019    &        0.039     \\\\\n",
       "\\bottomrule\n",
       "\\end{tabular}\n",
       "\\end{center}"
      ],
      "text/plain": [
       "<class 'statsmodels.iolib.table.SimpleTable'>"
      ]
     },
     "execution_count": 12,
     "metadata": {},
     "output_type": "execute_result"
    }
   ],
   "source": [
    "#Show results of model\n",
    "logit_model.summary().tables[1]"
   ]
  },
  {
   "cell_type": "markdown",
   "id": "1a4e1f8b-fb84-4c78-86fa-6bcaedf68562",
   "metadata": {},
   "source": [
    "Our primary parameter of interest is sports_pass. Our log-odds increase in donation likelihood is 1.4989, which on the odds scale about 4.47. This means that on average, holding all else constant, those with sports passes have 4.47 higher odds of donating than those who do not have sports passes. While this insight is informative, a better metric of the causal effect of sport pass would be the ATE. The equation for ATE and the corresponding result are shown below."
   ]
  },
  {
   "cell_type": "markdown",
   "id": "40ed87ff-8e2f-4796-afd5-663dd8091ead",
   "metadata": {},
   "source": [
    "$$\n",
    "\\text{ATE} = E[Y(1) - Y(0)] = E[Y(1)] - E[Y(0)]\n",
    "$${#eq-ate-1}"
   ]
  },
  {
   "cell_type": "code",
   "execution_count": 22,
   "id": "e3eec6fc-c55d-4004-99bc-9d7a2f3fc4a3",
   "metadata": {
    "tags": []
   },
   "outputs": [
    {
     "name": "stdout",
     "output_type": "stream",
     "text": [
      "ATE: 0.22\n"
     ]
    }
   ],
   "source": [
    "#Calculate ATE\n",
    "temp_all_treat = df.copy().assign(sports_pass = 1)\n",
    "temp_no_treat = df.copy().assign(sports_pass = 0)\n",
    "\n",
    "ate_res = np.mean(logit_model.predict(temp_all_treat)) - np.mean(logit_model.predict(temp_no_treat))\n",
    "print(f\"ATE: {ate_res:.2f}\")"
   ]
  },
  {
   "cell_type": "markdown",
   "id": "430185d5-9317-42f7-83a3-5ecae43ef49c",
   "metadata": {},
   "source": [
    "As shown in @eq-ate-1, the ATE is the difference in expectation between the treated and the untreated groups across the entire population. To calculate this with logistic regression, we fit the model, then predict outcomes for all individuals under both treatment and non-treatment scenarios, and finally take the difference between the two resulting averages. Our result above shows that we obtained an ATE of 0.22. This means that, on average, those who purchased sports passes have a 22 percentage point increase in the probability of becoming a donor compared to those who did not purchase a sports pass."
   ]
  },
  {
   "cell_type": "markdown",
   "id": "e3256a3a-3972-42ad-9701-dae1c3e9e5bc",
   "metadata": {},
   "source": [
    "This result is a strong indication of a causal relationship between sports pass and donation activity. In order to verify this result, we should check that our key causal assumptions hold under the **potential outcomes framework** [@rubin1974estimating]. The first assumption is the **stable unit treatment value assumption (SUTVA)**. This says that treatment assignment of one individual does not affect the outcome of another individual and that treatmnet is a consistent experience for each individual. We will say this assumption holds since there is just one version of sports pass in our study and there is no information saying that individuals who purchase a pass affect the donation behavior of another person."
   ]
  },
  {
   "cell_type": "markdown",
   "id": "af28a26f-6981-4b3c-a3e3-1dbb96f52ef7",
   "metadata": {},
   "source": [
    "The second assumption we need to verify is **unconfoundness**. This states that treatment assignment is independent of potential outcomes, conditioned on the observed covariates. This assumption is currently violated with the presence of our unobserved confounders. However, we can relax this assumption by calculating E-values to perform sensitivity analysis. E-values quantify the minimum \"strength\" that an unmeasured confounder would need to have on the treatment and outcome to explain away any observed association. In our E-value calculation, we use the lower bound of our 95% CI. Our result is shown below."
   ]
  },
  {
   "cell_type": "code",
   "execution_count": 13,
   "id": "0205a119-fa7a-4f12-8980-2cdae8eed8b7",
   "metadata": {
    "tags": []
   },
   "outputs": [
    {
     "name": "stdout",
     "output_type": "stream",
     "text": [
      "E-value for low CI estimate: 6.74\n"
     ]
    }
   ],
   "source": [
    "#Perform sensitivity analysis\n",
    "log_odd_sport_low = np.exp(logit_model.conf_int().loc['sports_pass'][0])\n",
    "\n",
    "if log_odd_sport_low < 1:\n",
    "    log_odd_sport_low = 1 / log_odd_sport_low\n",
    "res = log_odd_sport_low + np.sqrt(log_odd_sport_low * (log_odd_sport_low - 1))\n",
    "\n",
    "print(f\"E-value for low CI estimate: {res:.2f}\")"
   ]
  },
  {
   "cell_type": "markdown",
   "id": "776b7b00-1ddf-42d9-9616-27ecac3f2c57",
   "metadata": {},
   "source": [
    "Our lower bound result is strong with 6.74. This would mean that any unobserved confounder would need to shift the confidence interval of sports pass by this amount to include the null hypothesis. While we still techinically have a biased estimate of ATE, because of our e-value, we can at least assume that this causal relationship of sports pass on donation is robust to a fair amount of unobserved confounding."
   ]
  },
  {
   "cell_type": "markdown",
   "id": "72a44f64-9b86-455d-afbd-5e8a91f30c9f",
   "metadata": {},
   "source": [
    "## Conditional Average Treatment Effect (CATE) via Causal Forests"
   ]
  },
  {
   "cell_type": "markdown",
   "id": "4eb98680-3e5c-42b2-91c5-b87fd5e48bf4",
   "metadata": {},
   "source": [
    "While our ATE estimate is a good indication of a causal relationship between sports pass and donor behavior, we don't expect this effect to be consistent across different demographics. In order to quantify the impact of our treatment on different alumni demographics, we need to obtain the **conditional average treatment effect (CATE)**. The CATE is very similar to @eq-ate-1, but differs in that it is conditioned on a set of covariates, as shown in @eq-cate-1."
   ]
  },
  {
   "cell_type": "markdown",
   "id": "855f492d-7de3-4416-969b-7a7b9a70d4cd",
   "metadata": {},
   "source": [
    "$$\n",
    "\\text{CATE}(X) = E[Y(1) - Y(0) | X] = E[Y(1) | X] - E[Y(0) | X]\n",
    "$${#eq-cate-1}"
   ]
  },
  {
   "cell_type": "markdown",
   "id": "f0b2ce05-64bc-4543-bd22-2e2bf70c44e2",
   "metadata": {},
   "source": [
    "While we technically could obtain CATE estimates from our logistic regression model, one potential downfall to our logistic model is that it takes on a parametric form. In other words, we have strong assumptions about the nature of our data generating problem. To relax this assumption, we can use a nonparametric learner to understand the patterns in our data. In our case, we can utilize Causal Forests [@wager2015estimation]. We briefly walk through how Causal Forests estimate CATE below."
   ]
  },
  {
   "cell_type": "markdown",
   "id": "ef8b52ef-f758-4cc3-b7f3-1db7fd7ebfd1",
   "metadata": {},
   "source": [
    "1. Create Causal Trees: This step involves creating multiple different trees just as a decision tree does, only these trees are to identify different subgroup effects.\n",
    "2. Split Nodes Based on Heterogeneity: At each node, the algorithm finds the split that maximizes the heterogeneity of treatment effect between resulting children nodes. \n",
    "3. Debias using Honesty: To debias the estimates, Causal Forests utilize an honesty metric, which means the splitting metric is independent of the treatment effect metric, as they use different data\n",
    "4. Estimate Local ATE: Once a tree is full, an observation passes through the tree and lands in a terminal node, where then the ATE is calculated between those in treated and those in control.\n",
    "5. Average Across Trees: For new observation with X covariates, we gather the ATE across all the terminal nodes where this observation would land and take the average, resulting in the CATE."
   ]
  },
  {
   "cell_type": "markdown",
   "id": "ddcef694-4bf9-49cb-80ae-52fa56b64b6b",
   "metadata": {},
   "source": [
    "We use `econML` [@econml] to provide us with an implementation of Causal Forests. After fitting our data to the forest, we obtained the following CATE estimates for different majors in @fig-cate-1."
   ]
  },
  {
   "cell_type": "code",
   "execution_count": 14,
   "id": "9f07e952-1b32-46fd-9689-5481ce2b9d80",
   "metadata": {},
   "outputs": [],
   "source": [
    "#Perform train test split\n",
    "X = df[['major', 'alumni_parents', 'GPA', 'played_intramurals', 'current_salary']]\n",
    "y = df['has_donated']\n",
    "T = df['sports_pass']\n",
    "\n",
    "X = pd.get_dummies(X, columns=['major'])"
   ]
  },
  {
   "cell_type": "code",
   "execution_count": 15,
   "id": "9535be7b-d6c0-434f-81e8-53c597defd91",
   "metadata": {
    "tags": []
   },
   "outputs": [],
   "source": [
    "#Instantiate causal forest\n",
    "mod_cf = CausalForestDML(random_state=42)"
   ]
  },
  {
   "cell_type": "code",
   "execution_count": 16,
   "id": "d9cc3257-49ef-4ac4-a1c5-27e1519dd9b9",
   "metadata": {
    "tags": []
   },
   "outputs": [
    {
     "data": {
      "text/plain": [
       "<econml.dml.causal_forest.CausalForestDML at 0x796259357550>"
      ]
     },
     "execution_count": 16,
     "metadata": {},
     "output_type": "execute_result"
    }
   ],
   "source": [
    "#| output: false\n",
    "\n",
    "#Fit causal forest\n",
    "mod_cf.fit(y, T, X=X)"
   ]
  },
  {
   "cell_type": "code",
   "execution_count": 17,
   "id": "249aad9c-c1e1-406d-8b8c-18c3b02638cd",
   "metadata": {
    "tags": []
   },
   "outputs": [],
   "source": [
    "#Add CATE to original df\n",
    "df['cate'] = mod_cf.effect(X)"
   ]
  },
  {
   "cell_type": "code",
   "execution_count": 18,
   "id": "d4547c48-d4f6-4ed0-83c4-f02b7fc514d9",
   "metadata": {
    "tags": []
   },
   "outputs": [
    {
     "data": {
      "image/png": "[encoded data removed]",
      "text/plain": [
       "<Figure size 1200x500 with 1 Axes>"
      ]
     },
     "metadata": {},
     "output_type": "display_data"
    }
   ],
   "source": [
    "#| label: fig-cate-1\n",
    "#| fig-cap: \"CATE across Different Majors\"\n",
    "\n",
    "#Show CATE of sports pass across majors\n",
    "fig, ax = plt.subplots(figsize=(12,5))\n",
    "\n",
    "df.groupby(['major'])['cate'].mean().plot(ax=ax, kind='bar', title='CATE by Major');"
   ]
  },
  {
   "cell_type": "markdown",
   "id": "b14f0d69-867c-4b9c-803f-f9c4c19dd53b",
   "metadata": {},
   "source": [
    "To reiterate what the CATE represents, it is the incremental, or uplift, effect of our treatment. For example, business majors who purchase a sports pass experience, on average, a little more than a 25 percentage point increase in the probability of donating compared to those who do not purchase a sports pass. As we can see, the CATE is fairly different across majors. The effect of the sports pass appears to have the highest impact on Business and Computer Science majors, with the lowest being Engineering. However, since all these CATEs appear to be above 0.2, this strongly indicates that encouraging sports pass purchases can be an effective strategy to increase future donor likelihood among alumni."
   ]
  },
  {
   "cell_type": "markdown",
   "id": "795dfde7-4cec-4414-873e-da34fb5a583e",
   "metadata": {},
   "source": [
    "We can further explore other covariates such as parent alumni status, as shown in @fig-cate-2."
   ]
  },
  {
   "cell_type": "code",
   "execution_count": 19,
   "id": "b2dd2a0c-0a51-4941-9fff-764cbfbfcfcd",
   "metadata": {
    "tags": []
   },
   "outputs": [
    {
     "data": {
      "image/png": "[encoded data removed]",
      "text/plain": [
       "<Figure size 1200x500 with 1 Axes>"
      ]
     },
     "metadata": {},
     "output_type": "display_data"
    }
   ],
   "source": [
    "#| label: fig-cate-2\n",
    "#| fig-cap: \"CATE across Non-Alumni Parents vs Alumi Parents\"\n",
    "\n",
    "#Show CATE by alumni\n",
    "fig, ax = plt.subplots(figsize=(12,5))\n",
    "\n",
    "(df.assign(high_gpa = lambda x: np.where(x['GPA'] >= 3.5, 1, 0))\n",
    " .groupby(['alumni_parents'])['cate']\n",
    " .mean()\n",
    " .plot(kind='bar', ax=ax, title='CATE of Non-Alumni vs Alumni Students')\n",
    ");"
   ]
  },
  {
   "cell_type": "markdown",
   "id": "777ceeeb-158a-4b08-93f5-2aec1474f9ec",
   "metadata": {},
   "source": [
    "Building on the insights from @fig-cate-2, the CATEs appear quite similar and both remain positive. While we do not know the baseline probability of donation for these two categories, our analysis indicates that individuals within both groups react positively towards donating in the future when they purchase a sports pass."
   ]
  },
  {
   "cell_type": "markdown",
   "id": "81ff51bf-9740-4ee9-8d5a-3d15a580826f",
   "metadata": {},
   "source": [
    "# Conclusion"
   ]
  },
  {
   "cell_type": "markdown",
   "id": "5cfe548d-194a-4993-bea9-bfd2834bb2ef",
   "metadata": {},
   "source": [
    "## Strategy Based on Analysis"
   ]
  },
  {
   "cell_type": "markdown",
   "id": "e8442e68-9a5f-4563-ae29-b6bd1882a30f",
   "metadata": {},
   "source": [
    "Despite the relatively concise nature of our analysis, our findings are clearly impactful. Assuming the validity of our causal assumptions and sampling design, we have identified a controllable lever that universities can utilize to increase alumni donor likelihood. If these findings were to guide university strategy, actively encouraging more students to purchase sports passes would require careful strategic planning. For example, our analysis could inform targeted advertisements or promotions aimed at students identified as more likely future donors. Alternatively, the university might consider expanding the number of sports passes offered to broaden the pool of potential donors. Another valuable avenue for future research would be to further analyze which specific aspects of sports pass ownership cultivate stronger donor relations (e.g., fostering positive memories, facilitating social connections). In order to best utilize our findings, we would need to develop sound strategy on how to implement these findings and align it with the mission of the university. "
   ]
  },
  {
   "cell_type": "markdown",
   "id": "0b48ec78-75b2-4f40-8928-7177d5813b8f",
   "metadata": {},
   "source": [
    "## Wrap-up"
   ]
  },
  {
   "cell_type": "markdown",
   "id": "cfc9435b-c932-480a-89de-068a73d13f7c",
   "metadata": {},
   "source": [
    "Overall, this simple analysis demonstrated key frameworks and models to help administrators identify levers within their university to increase philanthropic behavior from their alumni. While we made some strong assumptions on the validity of our data and the nature of our findings, the principles illustrated in this case study can be useful for many different scenarios. In the end, we hope this analysis provided you with the opportunity to see causal inference in action, from problem formulation to analysis and finally realizing that next steps include more strategic planning and research."
   ]
  }
 ],
 "metadata": {
  "kernelspec": {
   "display_name": "Python 3 (ipykernel)",
   "language": "python",
   "name": "python3"
  },
  "language_info": {
   "codemirror_mode": {
    "name": "ipython",
    "version": 3
   },
   "file_extension": ".py",
   "mimetype": "text/x-python",
   "name": "python",
   "nbconvert_exporter": "python",
   "pygments_lexer": "ipython3",
   "version": "3.10.9"
  }
 },
 "nbformat": 4,
 "nbformat_minor": 5
}
