{
 "cells": [
  {
   "cell_type": "raw",
   "id": "140ec186-1006-4f29-b81c-feb304bd64d3",
   "metadata": {},
   "source": [
    "---\n",
    "title: \"(AI)rline Pricing: Estimating Willingness To Pay\"\n",
    "draft: false\n",
    "toc: true\n",
    "author: \"Brandon Scott\"\n",
    "date: \"2025-08-01\"\n",
    "number-sections: false\n",
    "categories: [operations, optimization, causal inference, python]\n",
    "execute:\n",
    "    echo: false\n",
    "    warning: false\n",
    "crossref:\n",
    "    chapters: true\n",
    "format:\n",
    "    html:\n",
    "        code-fold: false\n",
    "jupyter: python3\n",
    "bibliography: ../../references.bib\n",
    "csl: ../../ieee.csl\n",
    "---"
   ]
  },
  {
   "cell_type": "code",
   "execution_count": 1,
   "id": "72567c95-0762-45de-9e59-531cd7afcd04",
   "metadata": {
    "tags": []
   },
   "outputs": [
    {
     "name": "stderr",
     "output_type": "stream",
     "text": [
      "/home/thebscotte/miniconda3/lib/python3.10/site-packages/tqdm/auto.py:22: TqdmWarning: IProgress not found. Please update jupyter and ipywidgets. See https://ipywidgets.readthedocs.io/en/stable/user_install.html\n",
      "  from .autonotebook import tqdm as notebook_tqdm\n"
     ]
    }
   ],
   "source": [
    "import numpy as np\n",
    "import pandas as pd\n",
    "import matplotlib.pyplot as plt\n",
    "import seaborn as sns\n",
    "import graphviz as gr\n",
    "import random as rd\n",
    "import pickle\n",
    "\n",
    "from sklearn.preprocessing import StandardScaler\n",
    "\n",
    "import jax.numpy as jnp\n",
    "import jax.random as random\n",
    "import numpyro\n",
    "import numpyro.distributions as dist\n",
    "from numpyro.infer import MCMC, NUTS, Predictive"
   ]
  },
  {
   "cell_type": "markdown",
   "id": "a0a89405-332b-47bd-98c9-3dc881776d12",
   "metadata": {},
   "source": [
    "# Abstract"
   ]
  },
  {
   "cell_type": "markdown",
   "id": "8393f457-a00b-4ec7-89a3-2633084d30ff",
   "metadata": {},
   "source": [
    "Dynamic pricing has been the dominant approach in airline revenue management systems for decades. This method has continually improved with advances in new algorithms and better computing power. However, even with these improvements, the general pricing system remained rooted in price discrimination principles. Recently, Large Language Models (LLMs) have opened new avenues for many technologies. Their underlying structures and capabilities provide an opportunity for a new pricing paradigm to enter the airline industry: **fully personalized pricing**. In this post, we review the history and current approaches to airline pricing systems, from economic theory to the algorithms generally utilized. We then present information on **Large Market Models (LMMs)**, the new approach companies are leveraging to provide completely personalized prices to airline consumers. We conclude with a basic prototype of personalized pricing using a dynamic hierarchical Bayesian mixed logit model."
   ]
  },
  {
   "cell_type": "markdown",
   "id": "20d3bd16-3d23-431f-a137-824f1e995ac4",
   "metadata": {},
   "source": [
    "# Introduction"
   ]
  },
  {
   "cell_type": "markdown",
   "id": "67c2c7ea-10c4-4ed8-8cd9-5d4d269cec10",
   "metadata": {},
   "source": [
    "In the early history of commercial aviation, airlines were governed by the **Civil Aeronautics Board (CAB)**. The CAB not only set prices and established routes but also oversaw various other operational aspects for these airlines. However, this changed dramatically in 1978 with airline deregulation [@AirlineDeregulationAct]. From that point onward, airlines gained the autonomy to determine their own pricing strategies, establish their own routes, and offer distinct services to differentiate themselves within the industry."
   ]
  },
  {
   "cell_type": "markdown",
   "id": "f6705df3-98e8-438e-83b6-2e8be0c203c2",
   "metadata": {},
   "source": [
    "This new freedom, however, brought the challenge of achieving profitability at each airline. The airline business operates within a high fixed cost, low marginal cost industry. A significant portion of airline expenses is incurred through the acquisition and maintenance of aircraft, personnel, fuel, and other operational overhead. In contrast, the marginal cost of accommodating an additional passenger on a given flight is relatively low. Thus, achieving full or near-full flights—became the primary driver of airline profitability."
   ]
  },
  {
   "cell_type": "markdown",
   "id": "44746381-3b4a-4735-9d0e-4520db4483b6",
   "metadata": {},
   "source": [
    "Like all businesses, airlines sought to move beyond simply selling available seats. They wanted to maximize total revenue (and thus profit) from each flight. To achieve this, airlines recognized the critical need to accurately estimate a consumer's **willingness to pay (WTP)** [@Marshall1890Principles]. Consequently, a sole focus on cost-based pricing was insufficient. Instead, a transition to **market-based pricing** [@Cross1997Revenue] became imperative."
   ]
  },
  {
   "cell_type": "markdown",
   "id": "6e62e98c-6b77-4c76-acbc-dcf755b17bf4",
   "metadata": {},
   "source": [
    "## First Methods: Yield Management"
   ]
  },
  {
   "cell_type": "markdown",
   "id": "f0831e66-d4fa-4eef-8c56-c2bae1f8bcea",
   "metadata": {},
   "source": [
    "This market-based pricing approach became known as **yield management** (a term coined by Robert Cross at American Airlines). Yield management constituted a systematic approach focused on identifying distinct customer segments, setting different prices for these segments, and updating these prices regularly. Essentially, yield management aims to estimate a consumer's WTP and set prices that capture as much of that value as possible."
   ]
  },
  {
   "cell_type": "markdown",
   "id": "64c94ba2-9bf5-4fda-8d12-955c55835062",
   "metadata": {},
   "source": [
    "Airlines recognized that each customer had a unique WTP, but given the computational limitations of the time, calculating individual WTP was impractical. Insetad, general market approaches such as price discrimination were employed [@Pigou1920Economics]. Rather than offering every seat at a uniform price, airlines could differentiate seats with varying perks and sell them at distinct price points, thereby segmenting consumers into different WTP ranges."
   ]
  },
  {
   "cell_type": "markdown",
   "id": "fee14ee0-f4e4-4619-82d7-65f86d46c1a4",
   "metadata": {},
   "source": [
    "![Different seating choices on a Boeing 777](https://media.united.com/assets/m/135e5704439135f4/original/777-200_V1_SeatMap.png)"
   ]
  },
  {
   "cell_type": "markdown",
   "id": "129f5970-ba9d-46d5-8a3f-8cac36da6b53",
   "metadata": {},
   "source": [
    "Beyond differentiating prices based on seating sections, airlines also began to strategically set prices according to supply and demand dynamics. With the increasing prevalence of computer systems, airlines gained the capacity to collect data on passenger booking patterns. For instance, they observed that leisure travelers typically booked tickets well in advance, while business travelers often purchased tickets with short notice. This behavioral insight was leveraged to develop tactics such as **fare classes and fences** [@Belobaba1987Air]."
   ]
  },
  {
   "cell_type": "markdown",
   "id": "4ffcf4c5-6073-4a2d-9c5c-24057a93eec4",
   "metadata": {},
   "source": [
    "The fare class system operates as follows: While seat prices are initially differentiated by section, fare classes further segment inventory by stipulating the order in which seats are sold and at what price points. For example, within the economy section, different fare classes (e.g., A, B, C, D) are established. Seats assigned to class A are priced the lowest, with progressively higher prices for classes B, C, and D. This hierarchical pricing structure continues until a given class is fully booked. This approach is designed to mimic supply-demand principles: once a lower-priced class (e.g., A) is sold out, subsequent bookings are directed to higher-priced classes (e.g., B), reflecting a decrease in the remaining supply for that particular section. Thus, fare classes allowed airlines to \"dynamically\" adjust prices based on the quantity of seats sold within each designated class."
   ]
  },
  {
   "cell_type": "markdown",
   "id": "5161dc9d-dfbb-4e91-88a7-1772477a3ccd",
   "metadata": {},
   "source": [
    "Fences extend the fare class system by further refining price discrimination. These rules aim to retain higher-WTP customers within their designated fare classes while encouraging lower-WTP customers to \"jump\" fences and access more price-sensitive fares. For instance, airlines typically offer lower prices for early bookings to incentivize leisure travelers to commit in advance, whereas business travelers often pay a premium for bookings made closer to the travel date. Another common example is the minimum stay rule. Airlines frequently implement a Saturday-night stay requirement for round-trip tickets to differentiate business travelers from leisure travelers."
   ]
  },
  {
   "cell_type": "markdown",
   "id": "7ba573cc-a3e9-4653-b471-c0883a8e7178",
   "metadata": {},
   "source": [
    "## Modern Methods: Big Data"
   ]
  },
  {
   "cell_type": "markdown",
   "id": "f463f4eb-db02-40dc-aac0-bb936347e81c",
   "metadata": {},
   "source": [
    "While the overall approach to pricing airfare remains deeply rooted in economic theory and operations research, airline revenue management systems have become significantly more sophisticated due to advances in data collection and predictive analytics."
   ]
  },
  {
   "cell_type": "markdown",
   "id": "2822c35b-bbea-4660-8923-f0074b681a7f",
   "metadata": {},
   "source": [
    "A key development in this area, for example, is the application of multi-armed bandit problems to dynamic pricing. Papers such as *A Modern Bayesian Look at the Multi-armed Bandit* [@Scott2010Bayesian] leverage the power of multi-armed bandits to contextualize consumer behavior and optimize prices to encourage purchase behavior."
   ]
  },
  {
   "cell_type": "markdown",
   "id": "cd214038-e874-4f4a-b7ec-f0ca9dc0cb0e",
   "metadata": {},
   "source": [
    "Modern systems have also embraced other machine learning techniques to process a broader array of data points. Instead of relying solely on booking history and fare class availability, algorithms now incorporate factors such as web traffic patterns, historical search data for specific routes, time of day, and even weather forecasts. These models are designed to uncover complex, non-linear relationships between these variables and consumer demand, allowing for more nuanced and responsive pricing adjustments. The goal is to move beyond simple segmentation based on booking time and toward a more data-driven, continuous assessment of market conditions."
   ]
  },
  {
   "cell_type": "markdown",
   "id": "ccac3112-2c3d-4a2e-ad10-a8075188633b",
   "metadata": {},
   "source": [
    "# From Market Personalization to Consumer Personalization"
   ]
  },
  {
   "cell_type": "markdown",
   "id": "8cc652b1-2e96-4e96-b5c2-2344edaeba32",
   "metadata": {},
   "source": [
    "Despite significant advances in machine learning and big data, airline revenue management systems remained limited to personalizing prices based on market segments and prevailing market conditions rather than on individual WTP. Consequently, airlines were still unable to capture the complete consumer surplus from each passenger. However, a new advancement in technology began to emerge in the late 2010s, one that would fundamentally transform personalization across all industries."
   ]
  },
  {
   "cell_type": "markdown",
   "id": "f0e9e633-3e57-4605-a564-0c72df82c736",
   "metadata": {},
   "source": [
    "## Large Language Models"
   ]
  },
  {
   "cell_type": "markdown",
   "id": "c8dcc371-e8b2-4a70-a61b-48fdf87d8784",
   "metadata": {},
   "source": [
    "In 2017, Google released the paper \"Attention Is All You Need\" by Vaswani et al. [@Vaswani2017Attention]. This paper introduced the revolutionary architecture of transformers to process sequences of data, which was a significant breakthrough in natural language processing (NLP). The transformer's ability to handle large amounts of data in parallel was a key enabler for the development of much larger models."
   ]
  },
  {
   "cell_type": "markdown",
   "id": "251d335c-bf2b-43ef-8e9e-507237578669",
   "metadata": {},
   "source": [
    "![Transformer Architecture](https://machinelearningmastery.com/wp-content/uploads/2021/08/attention_research_1-727x1024.png)"
   ]
  },
  {
   "cell_type": "markdown",
   "id": "423694ae-c67b-45a8-a4a0-ba1f519e5c1a",
   "metadata": {},
   "source": [
    "From this foundational paper, research and development in the field accelerated. Examples include companies like **OpenAI**, who began developing their own **Large Language Models (LLMs)** to produce a personalized search engine. The transformer architecture fundamentally changed the landscape of AI, and today, almost all companies are looking to incorporate these powerful models into their services for personalization and advanced data processing."
   ]
  },
  {
   "cell_type": "markdown",
   "id": "e30e0101-7e2a-4c62-95c2-d7f4abd32a07",
   "metadata": {},
   "source": [
    "## Large Market Models"
   ]
  },
  {
   "cell_type": "markdown",
   "id": "71bfb21b-ef8e-43aa-80ae-48bd9e49a21e",
   "metadata": {},
   "source": [
    "From a simplified point of view, the core objective of an LLM is to predict the next token in a sequence of input tokens. This fundamental principle of next-token prediction is now being generalized across various industries to address different problems. A prominent challenge being tackled is **next market dynamic prediction**. That is, using sequential observations of a market's behavior to forecast its subsequent state."
   ]
  },
  {
   "cell_type": "markdown",
   "id": "5535a88a-b377-427b-90c4-eaa7fc4f3d51",
   "metadata": {},
   "source": [
    "This new class of models aiming to predict market dynamics are called **Large Market Models (LMMs)** [@li2024mars]. Just like LLMs, LMMs can process large amounts of data to ultimately predict optimal actions within a given market. In the context of airline revenue management, this optimal action would be the optimal price. However, this pricing approach fundamentally differs from current dynamic pricing strategies. Instead of the \"hard jumps\" between fare classes (as previously discussed), LMMs can generate a continuous function for pricing **at the individual consumer level**."
   ]
  },
  {
   "cell_type": "markdown",
   "id": "1d390350-c13c-4f42-bef8-aea092c5fadd",
   "metadata": {},
   "source": [
    "One company at the forefront of this research is Fetcherr. Founded in 2019 by Roy Cohen, Uri Yerushalmi, and Robby Nissan, the company believed that traditional business decision-making was not leveraging the full potential of modern AI and machine learning tools. Consequently, they developed a new revenue management system centered on the use of LMMs to revolutionize the airline industry. As their technology is proprietary, the specific implementation details cannot be discussed here. However, for those interested in a deeper understanding, a presentation on their approach is available in the video below."
   ]
  },
  {
   "cell_type": "markdown",
   "id": "28871acc-be1d-4927-a085-41ab42db8437",
   "metadata": {},
   "source": [
    "{{< video https://www.youtube.com/watch?v=nzkeJgzS-Pk >}}"
   ]
  },
  {
   "cell_type": "markdown",
   "id": "959d2154-d288-4217-920d-44dce10cbfc0",
   "metadata": {},
   "source": [
    "# Personalized Pricing Prototype"
   ]
  },
  {
   "cell_type": "markdown",
   "id": "6545175a-98c2-4c83-8a68-ac2b29b3a227",
   "metadata": {},
   "source": [
    "Due to hardware constraints and data availability, a prototype LMM cannot be presented in this post. However, to illustrate the core principles of personalized pricing, we instead present a **hierarchical mixed logit model**."
   ]
  },
  {
   "cell_type": "markdown",
   "id": "2f8846a1-5977-43b7-9311-2a0d831c32a4",
   "metadata": {},
   "source": [
    "To achieve this, we take the perspective of an airline aiming to optimize pricing to maximize revenue per customer through personalized offers. For the purpose of simulation, we created a data-generating function that attempts to mimic the dynamics of different consumer segments purchasing airline tickets. Each customer is presented with two options: Flight 1 and Flight 2. Each flight has its own attributes (e.g., number of layovers, price), and each customer has their own attributes (e.g., age group, income level, business traveler status). The dataset includes three scenarios for each customer, who can choose between Flight 1, Flight 2, or no flight. A sample of this dataset is provided below."
   ]
  },
  {
   "cell_type": "code",
   "execution_count": 2,
   "id": "04a67bf4-99de-4247-928d-bd29ae116107",
   "metadata": {
    "tags": []
   },
   "outputs": [],
   "source": [
    "class Flight:\n",
    "    def __init__(self, f_id, stops, price):\n",
    "        self.f_id = f_id\n",
    "        self.stops = stops\n",
    "        self.price = price"
   ]
  },
  {
   "cell_type": "code",
   "execution_count": 3,
   "id": "1dc789b0-0b80-425d-ad24-25e6791505ff",
   "metadata": {
    "tags": []
   },
   "outputs": [],
   "source": [
    "class Customer:\n",
    "    def __init__(self, c_id, age, income, is_bus):\n",
    "        self.c_id = c_id\n",
    "        self.age = age\n",
    "        self.income = income\n",
    "        self.is_bus = is_bus"
   ]
  },
  {
   "cell_type": "code",
   "execution_count": 4,
   "id": "d2ff10bb-a002-4574-b560-32103bdea8ed",
   "metadata": {
    "tags": []
   },
   "outputs": [],
   "source": [
    "#Define multinomial logit\n",
    "def multilogit(num, denom_lst):\n",
    "    return np.exp(num) / (np.exp(denom_lst[0]) + np.exp(denom_lst[1]) + np.exp(denom_lst[2]))"
   ]
  },
  {
   "cell_type": "code",
   "execution_count": 5,
   "id": "8a09c389-a299-4618-815e-7e703953b765",
   "metadata": {
    "tags": []
   },
   "outputs": [],
   "source": [
    "#Define customer generating function\n",
    "def gen_cust(n_cust, r_seed=42):\n",
    "    np.random.seed(r_seed)\n",
    "    \n",
    "    my_cust = {}\n",
    "    age_lst = ['18-24', '25-34', '35-44']\n",
    "    income_lst = ['low', 'med', 'high']\n",
    "    bus_lst = [1, 0]\n",
    "    \n",
    "    for i in range(n_cust):\n",
    "        c_age = np.random.choice(age_lst, p=[0.3, 0.4, 0.3])\n",
    "        c_income = np.random.choice(income_lst, p=[0.25, 0.5, 0.25])\n",
    "        c_bus = np.random.choice(bus_lst, p=[0.3, 0.7])\n",
    "        my_cust[i] = Customer(i, c_age, c_income, c_bus)\n",
    "        \n",
    "    return my_cust"
   ]
  },
  {
   "cell_type": "code",
   "execution_count": 6,
   "id": "bd634590-9325-4278-acdb-1c6a7ba741c8",
   "metadata": {},
   "outputs": [],
   "source": [
    "#Define data generating function\n",
    "def gen_data(all_cust, r_seed=42):\n",
    "    np.random.seed(r_seed)\n",
    "    rd.seed(r_seed)\n",
    "    \n",
    "    data_dict = {\n",
    "        'cust_id': [],\n",
    "        'scen_id': [],\n",
    "        'age': [],\n",
    "        'income': [],\n",
    "        'is_business': [],\n",
    "        'seat_browsed': [],\n",
    "        'price_f1': [],\n",
    "        'stops_f1': [],\n",
    "        'price_f2': [],\n",
    "        'stops_f2': [],\n",
    "        'choice': []\n",
    "    }\n",
    "    \n",
    "    alpha_f1 = 25.0\n",
    "    alpha_f2 = 25.0\n",
    "    alpha_price = -0.02\n",
    "    alpha_stop = -1.0\n",
    "    alpha_seat = 1.0\n",
    "    \n",
    "    delta_price_med = 0.002\n",
    "    delta_price_high = 0.004\n",
    "    delta_price_bus = 0.006\n",
    "    delta_stops_bus = -1.0\n",
    "    delta_seat_25 = 1.0\n",
    "    delta_seat_35 = 1.5\n",
    "    delta_seat_bus = 2.5\n",
    "    \n",
    "    phi_f1 = 0.7\n",
    "    phi_f2 = 0.6\n",
    "    phi_price = 0.5\n",
    "    phi_stop = 0.7\n",
    "    phi_seat = 0.7\n",
    "    phi_lst = [phi_f1, phi_f2, phi_price, phi_stop, phi_seat]\n",
    "    \n",
    "    sig_mat = np.diag([0.2, 0.2, 0.005, 0.2, 0.2])\n",
    "    \n",
    "    q_f1 = 0.1\n",
    "    q_f2 = 0.09\n",
    "    q_price = 0.001\n",
    "    q_stop = 0.08\n",
    "    q_seat = 0.05\n",
    "    q_lst = [q_f1, q_f2, q_price, q_stop, q_seat]\n",
    "    \n",
    "    max_stop = 3\n",
    "    max_scen = 3\n",
    "    seat_choice = ['econ', 'prem']\n",
    "    base_econ = 200\n",
    "    base_2_econ = 225\n",
    "    prem_charge = 75\n",
    "    price_std = 20\n",
    "    endog_shock_std = 0.3\n",
    "    endog_shock_price = 25\n",
    "    \n",
    "    for key, val in all_cust.items():\n",
    "        \n",
    "        mu_price_b = (alpha_price + np.where(val.income == 'med', delta_price_med, 0) + np.where(val.income == 'high', delta_price_high, 0) + \n",
    "                     np.where(val.is_bus == 1, delta_price_bus, 0))  \n",
    "        \n",
    "        mu_stop_b = (alpha_stop + np.where(val.is_bus == 1, delta_stops_bus, 0))\n",
    "        \n",
    "        mu_seat_b = (alpha_seat + np.where(val.age == '25-34', delta_seat_25, 0) + np.where(val.age == '35-44', delta_seat_35, 0) + \n",
    "                    np.where(val.is_bus == 1, delta_seat_bus, 0))\n",
    "        \n",
    "        mu_lst = [alpha_f1, alpha_f2, mu_price_b, mu_stop_b, mu_seat_b]\n",
    "        mu_mat = np.zeros((max_scen, len(mu_lst)))\n",
    "        beta_mat = mu_mat.copy()\n",
    "        \n",
    "        for s in range(0, max_scen):\n",
    "            if s == 0:\n",
    "                mu_mat[s,:] = [x + np.random.normal(0, q) for x, q in zip(mu_lst, q_lst)]\n",
    "            else:\n",
    "                mu_mat[s,:] = [x + (p * (mu_mat[s-1,i] - mu_lst[i])) + np.random.normal(0, q) for i, (x, q, p) in enumerate(zip(mu_lst, q_lst, phi_lst))]\n",
    "            \n",
    "            beta_mat[s,:] = np.random.multivariate_normal(mu_mat[s,:], sig_mat)\n",
    "            \n",
    "            seat_type = None\n",
    "            if val.income == 'low':\n",
    "                seat_type = 'econ'\n",
    "            else:\n",
    "                seat_type = np.random.choice(seat_choice, p=[.7, .3])\n",
    "                \n",
    "            demand_shock = np.random.normal(0, endog_shock_std) * endog_shock_price\n",
    "            \n",
    "            flight_1 = Flight(1, np.random.randint(0,3), np.round(np.where(seat_type == 'econ', base_econ + demand_shock + np.random.normal(0, price_std), \n",
    "                                                                           base_econ + demand_shock + prem_charge + np.random.normal(0, price_std))))\n",
    "            flight_2 = Flight(2, np.random.randint(0,3), np.round(np.where(seat_type == 'econ', base_2_econ + demand_shock + np.random.normal(0, price_std), \n",
    "                                                                           base_2_econ + demand_shock + prem_charge + np.random.normal(0, price_std))))\n",
    "            \n",
    "            util_f1 = beta_mat[s,0] + (-abs(beta_mat[s,2]) * flight_1.price) + (beta_mat[s,3] * flight_1.stops) + np.where(seat_type == 'prem', beta_mat[s,4], 0)\n",
    "            util_f2 = beta_mat[s,1] + (-abs(beta_mat[s,2]) * flight_2.price) + (beta_mat[s,3] * flight_2.stops) + np.where(seat_type == 'prem', beta_mat[s,4], 0)\n",
    "            util_none = 0\n",
    "            \n",
    "            prob_f1 = multilogit(util_f1, [util_f1, util_f2, util_none])\n",
    "            prob_f2 = multilogit(util_f2, [util_f1, util_f2, util_none])\n",
    "            prob_none = multilogit(util_none, [util_f1, util_f2, util_none])\n",
    "            \n",
    "            #print(f\"Probs: {[prob_f1, prob_f2, prob_none]}\")\n",
    "            \n",
    "            rand_uni = np.random.uniform()\n",
    "            chosen_opt = rd.choices([0,1,2], weights=[rand_uni, prob_f1, prob_f2])[0]\n",
    "                \n",
    "            data_dict['cust_id'].append(key)\n",
    "            data_dict['scen_id'].append(s)\n",
    "            data_dict['age'].append(val.age)\n",
    "            data_dict['income'].append(val.income)\n",
    "            data_dict['is_business'].append(val.is_bus)\n",
    "            data_dict['seat_browsed'].append(seat_type)\n",
    "            data_dict['price_f1'].append(flight_1.price)\n",
    "            data_dict['stops_f1'].append(flight_1.stops)\n",
    "            data_dict['price_f2'].append(flight_2.price)\n",
    "            data_dict['stops_f2'].append(flight_2.stops)\n",
    "            data_dict['choice'].append(chosen_opt)\n",
    "            \n",
    "    return pd.DataFrame(data_dict)"
   ]
  },
  {
   "cell_type": "code",
   "execution_count": 7,
   "id": "3c88a34c-d3ac-4694-b4f5-d7b97392a778",
   "metadata": {
    "tags": []
   },
   "outputs": [],
   "source": [
    "#Generate customer\n",
    "my_cust = gen_cust(100)"
   ]
  },
  {
   "cell_type": "code",
   "execution_count": 8,
   "id": "c031d3cb-4320-4776-b7b0-d876771719d1",
   "metadata": {
    "tags": []
   },
   "outputs": [],
   "source": [
    "#Generate data\n",
    "df = gen_data(my_cust)"
   ]
  },
  {
   "cell_type": "code",
   "execution_count": 9,
   "id": "accd2e92-58c4-402c-be91-90f25d03af15",
   "metadata": {
    "tags": []
   },
   "outputs": [
    {
     "data": {
      "text/html": [
       "<div>\n",
       "<style scoped>\n",
       "    .dataframe tbody tr th:only-of-type {\n",
       "        vertical-align: middle;\n",
       "    }\n",
       "\n",
       "    .dataframe tbody tr th {\n",
       "        vertical-align: top;\n",
       "    }\n",
       "\n",
       "    .dataframe thead th {\n",
       "        text-align: right;\n",
       "    }\n",
       "</style>\n",
       "<table border=\"1\" class=\"dataframe\">\n",
       "  <thead>\n",
       "    <tr style=\"text-align: right;\">\n",
       "      <th></th>\n",
       "      <th>cust_id</th>\n",
       "      <th>scen_id</th>\n",
       "      <th>age</th>\n",
       "      <th>income</th>\n",
       "      <th>is_business</th>\n",
       "      <th>seat_browsed</th>\n",
       "      <th>price_f1</th>\n",
       "      <th>stops_f1</th>\n",
       "      <th>price_f2</th>\n",
       "      <th>stops_f2</th>\n",
       "      <th>choice</th>\n",
       "    </tr>\n",
       "  </thead>\n",
       "  <tbody>\n",
       "    <tr>\n",
       "      <th>0</th>\n",
       "      <td>0</td>\n",
       "      <td>0</td>\n",
       "      <td>25-34</td>\n",
       "      <td>high</td>\n",
       "      <td>0</td>\n",
       "      <td>econ</td>\n",
       "      <td>177.0</td>\n",
       "      <td>1</td>\n",
       "      <td>233.0</td>\n",
       "      <td>2</td>\n",
       "      <td>1</td>\n",
       "    </tr>\n",
       "    <tr>\n",
       "      <th>1</th>\n",
       "      <td>0</td>\n",
       "      <td>1</td>\n",
       "      <td>25-34</td>\n",
       "      <td>high</td>\n",
       "      <td>0</td>\n",
       "      <td>econ</td>\n",
       "      <td>191.0</td>\n",
       "      <td>2</td>\n",
       "      <td>198.0</td>\n",
       "      <td>1</td>\n",
       "      <td>0</td>\n",
       "    </tr>\n",
       "    <tr>\n",
       "      <th>2</th>\n",
       "      <td>0</td>\n",
       "      <td>2</td>\n",
       "      <td>25-34</td>\n",
       "      <td>high</td>\n",
       "      <td>0</td>\n",
       "      <td>econ</td>\n",
       "      <td>194.0</td>\n",
       "      <td>2</td>\n",
       "      <td>189.0</td>\n",
       "      <td>2</td>\n",
       "      <td>0</td>\n",
       "    </tr>\n",
       "    <tr>\n",
       "      <th>3</th>\n",
       "      <td>1</td>\n",
       "      <td>0</td>\n",
       "      <td>25-34</td>\n",
       "      <td>low</td>\n",
       "      <td>1</td>\n",
       "      <td>econ</td>\n",
       "      <td>169.0</td>\n",
       "      <td>2</td>\n",
       "      <td>255.0</td>\n",
       "      <td>2</td>\n",
       "      <td>0</td>\n",
       "    </tr>\n",
       "    <tr>\n",
       "      <th>4</th>\n",
       "      <td>1</td>\n",
       "      <td>1</td>\n",
       "      <td>25-34</td>\n",
       "      <td>low</td>\n",
       "      <td>1</td>\n",
       "      <td>econ</td>\n",
       "      <td>201.0</td>\n",
       "      <td>0</td>\n",
       "      <td>228.0</td>\n",
       "      <td>1</td>\n",
       "      <td>1</td>\n",
       "    </tr>\n",
       "  </tbody>\n",
       "</table>\n",
       "</div>"
      ],
      "text/plain": [
       "   cust_id  scen_id    age income  is_business seat_browsed  price_f1  \\\n",
       "0        0        0  25-34   high            0         econ     177.0   \n",
       "1        0        1  25-34   high            0         econ     191.0   \n",
       "2        0        2  25-34   high            0         econ     194.0   \n",
       "3        1        0  25-34    low            1         econ     169.0   \n",
       "4        1        1  25-34    low            1         econ     201.0   \n",
       "\n",
       "   stops_f1  price_f2  stops_f2  choice  \n",
       "0         1     233.0         2       1  \n",
       "1         2     198.0         1       0  \n",
       "2         2     189.0         2       0  \n",
       "3         2     255.0         2       0  \n",
       "4         0     228.0         1       1  "
      ]
     },
     "execution_count": 9,
     "metadata": {},
     "output_type": "execute_result"
    }
   ],
   "source": [
    "#View data\n",
    "df.head()"
   ]
  },
  {
   "cell_type": "markdown",
   "id": "f3265b8a-0786-41ca-aaab-35f677ad0211",
   "metadata": {},
   "source": [
    "In total, our dataset consists of one hundred unique customers each with three distinct scenarios. Our analysis continues with some simple EDA to better understand the synthetic data, starting with @fig-eda-1."
   ]
  },
  {
   "cell_type": "code",
   "execution_count": 10,
   "id": "9a7bca19-6f35-48f4-95cb-3a095a05f984",
   "metadata": {
    "tags": []
   },
   "outputs": [
    {
     "data": {
      "image/png": "[encoded data removed]",
      "text/plain": [
       "<Figure size 1200x500 with 1 Axes>"
      ]
     },
     "metadata": {},
     "output_type": "display_data"
    }
   ],
   "source": [
    "#| label: fig-eda-1\n",
    "#| fig-cap: \"Count of customer by age and income\"\n",
    "\n",
    "#Show number of observations by age bin and income\n",
    "fig, ax = plt.subplots(figsize=(12,5))\n",
    "\n",
    "df.groupby(['age', 'income']).size().unstack().plot(kind='bar', ax=ax, title='Count of Customer by Age and Income');"
   ]
  },
  {
   "cell_type": "markdown",
   "id": "75e45aca-249a-4d01-9a81-45e67b518ad9",
   "metadata": {},
   "source": [
    "Our data appears to have a higher proportion of middle class income customers with approximately an even split between high and low income customers. There also seems to be more customers in the age range of 25-34 than other categories. "
   ]
  },
  {
   "cell_type": "code",
   "execution_count": 11,
   "id": "4cf92a7b-d5c5-4142-9d30-ead3242189a9",
   "metadata": {
    "tags": []
   },
   "outputs": [
    {
     "data": {
      "image/png": "[encoded data removed]",
      "text/plain": [
       "<Figure size 1200x500 with 1 Axes>"
      ]
     },
     "metadata": {},
     "output_type": "display_data"
    }
   ],
   "source": [
    "#| label: fig-eda-2\n",
    "#| fig-cap: \"Count of choices between flight 1, flight 2, or no flight\"\n",
    "\n",
    "#Show count of choices\n",
    "fig, ax = plt.subplots(figsize=(12,5))\n",
    "\n",
    "df.groupby(['choice']).size().plot(kind='bar', ax=ax, title='Count of Choices');"
   ]
  },
  {
   "cell_type": "markdown",
   "id": "05abdaa6-a8c8-4092-bc57-8f1dfba84f6f",
   "metadata": {},
   "source": [
    "@fig-eda-2 shows the count of choices for flight 1 (0), flight 2 (2), or no flight (2). The graph shows that the general consumer selected flight 1 slightly more often than flight 2. "
   ]
  },
  {
   "cell_type": "code",
   "execution_count": 12,
   "id": "cb1ea362-52d0-4d15-9480-2a0bda747135",
   "metadata": {
    "tags": []
   },
   "outputs": [
    {
     "data": {
      "image/png": "[encoded data removed]",
      "text/plain": [
       "<Figure size 1200x500 with 1 Axes>"
      ]
     },
     "metadata": {},
     "output_type": "display_data"
    }
   ],
   "source": [
    "#| label: fig-eda-3\n",
    "#| fig-cap: \"Average price of seat split by class and flight number\"\n",
    "\n",
    "#Show average price of ticket between f1 and f2 in econ and prem\n",
    "fig, ax = plt.subplots(figsize=(12,5))\n",
    "\n",
    "df.groupby(['seat_browsed']).agg({'price_f1': 'mean', 'price_f2': 'mean'}).plot(kind='bar', ax=ax);"
   ]
  },
  {
   "cell_type": "markdown",
   "id": "595d5542-d595-4322-be4a-8e56b5d3aba8",
   "metadata": {},
   "source": [
    "@fig-eda-3 shows the average price between flight 1 and flight 2 tickets, split by class type. Flight two in both categories had higher average ticket prices than flight 1. "
   ]
  },
  {
   "cell_type": "code",
   "execution_count": 13,
   "id": "0af27c58-42cb-42b9-adb7-2fb07c5c902e",
   "metadata": {},
   "outputs": [
    {
     "data": {
      "image/png": "[encoded data removed]",
      "text/plain": [
       "<Figure size 1200x500 with 1 Axes>"
      ]
     },
     "metadata": {},
     "output_type": "display_data"
    }
   ],
   "source": [
    "#| label: fig-eda-4\n",
    "#| fig-cap: \"Proportion of ticket purchases by seat type\"\n",
    "\n",
    "#Show econ vs prem acceptance\n",
    "fig, ax = plt.subplots(figsize=(12,5))\n",
    "\n",
    "(df.assign(bought_seat = lambda x: np.where(x['choice'] >= 1, 1, 0))\n",
    " .groupby(['seat_browsed'])\n",
    " .agg({'bought_seat': ['count', 'sum']})\n",
    " .assign(norm_values = lambda x: x[('bought_seat', 'sum')] / x[('bought_seat', 'count')])\n",
    " .reset_index()[['seat_browsed', 'norm_values']]\n",
    " .plot(kind='bar', x='seat_browsed', y='norm_values', ax=ax, title='Proportion of Purchase by Seat Type', legend=False));"
   ]
  },
  {
   "cell_type": "markdown",
   "id": "ca518c18-97fa-4f03-9f70-29bcc0c5096d",
   "metadata": {},
   "source": [
    "@fig-eda-4 shows that both economy and premium class seats were about equally purchased, around 60% purchase rate. "
   ]
  },
  {
   "cell_type": "markdown",
   "id": "157ff232-e5a7-482b-8660-b91ebc750cd4",
   "metadata": {},
   "source": [
    "## Utility Theory"
   ]
  },
  {
   "cell_type": "markdown",
   "id": "5e261c9f-c28c-42ad-92a6-28b623e403a3",
   "metadata": {},
   "source": [
    "The theory for our modeling approach stems from microeconomics, namely utility theory [@bernoulli1738exposition]. As previously discussed, the primary objective for airlines is to capture as much consumer surplus as possible by accurately estimating a customer's WTP. WTP itself is derived from the principle that individuals seek to maximize their utility from the consumption of a good or service. Therefore, if an airline's service provides a consumer with utility, the goal is to set a price that is optimally aligned with the value of that utility, thereby maximizing the revenue captured."
   ]
  },
  {
   "cell_type": "markdown",
   "id": "16dc34c2-6436-4e5a-9d9c-bb7e472af0e3",
   "metadata": {},
   "source": [
    "In our simulation, given the discrete consumer choice between alternatives, we use the random utility model [@mcfadden1974conditional], as shown in @eq-rum-1."
   ]
  },
  {
   "cell_type": "markdown",
   "id": "c898f9e1-378f-4d3b-b47b-38b48f1a5b9b",
   "metadata": {},
   "source": [
    "$$\n",
    "U_{ijt} = V_{ijt} + \\epsilon_{ijt}\n",
    "$$\n",
    "$$\n",
    "\\epsilon_{ijt} \\overset{i.i.d.}{\\sim} \\text{Gumbel}(0,1)\n",
    "$${#eq-rum-1}"
   ]
  },
  {
   "cell_type": "markdown",
   "id": "a77c7118-4c86-465f-b9b2-dc9f5b5ffbc9",
   "metadata": {},
   "source": [
    "$U_{ijt}$ is the utility derived by the $i$th customer choosing the $j$th alternative in the $t$th scenario. This utility is composed of a deterministic portion $V_{ijt}$ (our \"observed\" utility from purchased ticket data) and a stochastic term $\\epsilon_{ijt}$ that we assume follows a Gumbel distribution. "
   ]
  },
  {
   "cell_type": "markdown",
   "id": "54b2847f-d487-49d5-9dc3-a783562b5b87",
   "metadata": {},
   "source": [
    "While we don't observe an exact \"utility\" estimate in this data (or in any data for that matter), we postulate that utility is derived as a linear combination of observed features. This is illustrated in @eq-rum-2."
   ]
  },
  {
   "cell_type": "markdown",
   "id": "3ba20b1a-3122-4f81-8f57-e4c5f057088d",
   "metadata": {},
   "source": [
    "$$\n",
    "V_{ijt} = \\text{ASC}_{flight1,i,t} I(\\text{Flight 1}) + \\text{ASC}_{flight2,i,t} I(\\text{Flight 2}) + \\beta_{i,price,t} Price_{jt} + \\beta_{i,stops,t} Stops_{jt} + \\beta_{i,seat,t} Seat_{jt}\n",
    "$${#eq-rum-2}"
   ]
  },
  {
   "cell_type": "markdown",
   "id": "f5a16daa-527c-4b35-9f70-1a5a3cda270c",
   "metadata": {},
   "source": [
    "The equation @eq-rum-2 illustrates that the observed utility, $V_{ijt}$, is a function of several key attributes of both the alternatives and the customer. Specifically, the utility is dependent on the flight's price, the number of stops, and the type of seat purchased."
   ]
  },
  {
   "cell_type": "markdown",
   "id": "7bb2216a-9cce-458b-8095-7db0cac8201a",
   "metadata": {},
   "source": [
    "The utility we derive in @eq-rum-2 is then used to calculate the probability of choosing a given alternative in a given scenario. This is illustrated in @eq-rum-3."
   ]
  },
  {
   "cell_type": "markdown",
   "id": "1664f0ef-82c6-48cb-b419-5dc69aa6e6ec",
   "metadata": {},
   "source": [
    "$$\n",
    "P(Y_{ijt} = 1) = \\frac{exp(V_{ijt})}{\\sum_{z=1}^{J}exp(V_{izt})}\n",
    "$${#eq-rum-3}"
   ]
  },
  {
   "cell_type": "markdown",
   "id": "ef8fe68d-4e9f-4702-805d-4c4d18f4cb51",
   "metadata": {},
   "source": [
    "Essentially, we assume that the probability of a consumer's observed choice is a function of the utility of a given alternative ($V_{ijt}) relative to the utilities of all other available alternatives."
   ]
  },
  {
   "cell_type": "markdown",
   "id": "b4b33f58-16ee-4713-be30-2d2758b579cb",
   "metadata": {},
   "source": [
    "## Hierarchical Bayesian"
   ]
  },
  {
   "cell_type": "markdown",
   "id": "d44cc562-d6ae-493f-8811-0ef7522e8aed",
   "metadata": {},
   "source": [
    "As mentioned at the outset of this section, we are modeling this scenario hierarchically. This approach is based on the belief that individuals derive their preferences from a \"global\" distribution, which is then adjusted based on personal differences. To implement this, we model each $\\beta$ value as a draw from a global population distribution, as shown in @eq-bay-1."
   ]
  },
  {
   "cell_type": "markdown",
   "id": "ba77d9d3-476e-4771-835d-13651321bccc",
   "metadata": {},
   "source": [
    "$$\n",
    "\\beta_{it} = \\begin{pmatrix} \\text{ASC}_{flight1,i,t} \\\\ \\text{ASC}_{flight2,i,t} \\\\ \\beta_{i,price,t} \\\\ \\beta_{i,stops,t} \\\\ \\beta_{i,seat,t} \\end{pmatrix} \\sim N(\\mu_{t}, \\Sigma)\n",
    "$${#eq-bay-1}"
   ]
  },
  {
   "cell_type": "markdown",
   "id": "b9060db8-35cc-4da8-84f6-fb4b5f0914cc",
   "metadata": {},
   "source": [
    "Each customer $i$ in scenario $t$ has a vector $\\beta$ that is drawn from a multivariate normal distribution with mean $\\mu_{t}$ and covariance $\\Sigma$. $\\mu_{t}$ is our vector of population parameter estimates for the average preference for each attribute of a flight at time $t$. $\\Sigma$ represents the unobserved heterogeneity around $\\mu_{t}$ (Note: we hold this value constant throughout to simplify modeling). "
   ]
  },
  {
   "cell_type": "markdown",
   "id": "4d11d563-bea4-42f8-98bd-b4bb60fb23c6",
   "metadata": {},
   "source": [
    "We model $\\mu_{t}$ as an AR(1) process, as shown in @eq-bay-2."
   ]
  },
  {
   "cell_type": "markdown",
   "id": "154cfbdb-9f02-4218-8b00-69552bc998db",
   "metadata": {},
   "source": [
    "$$\n",
    "\\mu_{kt} = \\mu_{k,base} + \\phi_{k}(\\mu_{kt-1} - \\mu_{k,base}) + \\eta_{kt}\n",
    "$${#eq-bay-2}"
   ]
  },
  {
   "cell_type": "markdown",
   "id": "fc4024b3-1e98-4017-bfde-d7c43c30572a",
   "metadata": {},
   "source": [
    "$\\mu_{kt}$ is the average preference for attribute $k$ at time $t$. This is a linear combination of three key components: The base preference ($\\mu_{k,base}$), the difference between the past average preference and the base preference scaled by autoregressive component $\\phi_{k}$ (how much the past mean influences the current mean), and the random shock $\\eta_{kt}$ which accounts for unobserved fluctuations in the average preference. (Note: We assume $\\eta_{kt}$ is drawn from $N(0,q_{k})$. Interested readers can see the code for $q_{k}$ prior)."
   ]
  },
  {
   "cell_type": "markdown",
   "id": "c6ce7181-0c40-4332-86a0-1568a4099634",
   "metadata": {},
   "source": [
    "The $\\mu_{k,base}$ parameter is estimated from the baseline population hyperparameters, as shown in @eq-bay-3."
   ]
  },
  {
   "cell_type": "markdown",
   "id": "a57addc2-12fb-4761-8c9b-1da063d59948",
   "metadata": {},
   "source": [
    "$$\n",
    "\\mu_{k,base} = \\alpha_{k} + \\delta_{kc}\n",
    "$${#eq-bay-3}"
   ]
  },
  {
   "cell_type": "markdown",
   "id": "5c8bc380-b146-4738-bb4e-07b10751f098",
   "metadata": {},
   "source": [
    "$\\alpha_{k}$ is the intercept for the baseline population mean for each attribute $k$. This is then adjusted based on different customer demographics $c$ for each attribute $k$. Each $\\alpha_{k}$ and $\\delta_{kc}$ has prior $N(\\mu, \\sigma)$ (interested readers can view the numpyro code for specific numbers)."
   ]
  },
  {
   "cell_type": "markdown",
   "id": "2c9636db-5ab6-47ed-944c-34e6f28832bc",
   "metadata": {},
   "source": [
    "The likelihood function based on all these parameters is modeled in @eq-bay-4."
   ]
  },
  {
   "cell_type": "markdown",
   "id": "530466c8-68ab-4f15-99f7-62512ad02062",
   "metadata": {},
   "source": [
    "$$\n",
    "L(Y|\\beta, \\mu, \\Sigma, \\phi, Q) = \\prod_{i=1}^{N} \\prod_{j=1}^{J} \\prod_{t=1}^{T_{i}} P(Y_{ijt} = 1)\n",
    "$${#eq-bay-4}"
   ]
  },
  {
   "cell_type": "markdown",
   "id": "0587e29c-aef4-465c-b19e-3e8979508a9c",
   "metadata": {},
   "source": [
    "Once these parameters are estimated, we can calculate individual WTP using @eq-wtp-1."
   ]
  },
  {
   "cell_type": "markdown",
   "id": "ee3ce128-d664-4b5b-80fd-303a1ba1b299",
   "metadata": {},
   "source": [
    "$$\n",
    "\\text{WTP}_{ikt} = -\\frac{\\beta_{ikt}}{\\beta_{i,price,t}}\n",
    "$${#eq-wtp-1}"
   ]
  },
  {
   "cell_type": "markdown",
   "id": "ee6bfed9-8f1a-48aa-acb9-98cd22dd7ca0",
   "metadata": {},
   "source": [
    "WTP is formally defined as the marginal rate of substitution between a non-monetary attribute and price. Within our logit framework, this is calculated as the ratio of an attribute's coefficient to the absolute value of the price coefficient. A positive WTP indicates the amount a customer is willing to pay to gain an attribute, while a negative WTP represents the cost a customer is willing to incur to avoid an undesirable attribute."
   ]
  },
  {
   "cell_type": "markdown",
   "id": "ce8f6718-87c3-4ca6-8875-f842505c4573",
   "metadata": {},
   "source": [
    "To model this data, we used `numpyro` [@phan2019composable] using a NUTS kernel [@hoffman2014no] and collected 1000 samples."
   ]
  },
  {
   "cell_type": "code",
   "execution_count": 14,
   "id": "6d8f5ae2-97cc-4287-bc53-e4117558c73e",
   "metadata": {
    "tags": []
   },
   "outputs": [],
   "source": [
    "#Instantiate standard scaler\n",
    "scaler = StandardScaler()"
   ]
  },
  {
   "cell_type": "code",
   "execution_count": 15,
   "id": "3a1dd827-95ce-4626-9b17-e856a8addc65",
   "metadata": {
    "tags": []
   },
   "outputs": [],
   "source": [
    "#Instantiate features and reponse\n",
    "X = (df.drop(['choice'], axis=1)\n",
    "     .pipe(lambda x: pd.get_dummies(x, columns=['income', 'age', 'seat_browsed'], dtype='int'))\n",
    "     .drop(['income_low', 'seat_browsed_econ', 'age_18-24'], axis=1))\n",
    "X[['price_f1', 'price_f2', 'stops_f1', 'stops_f2']] = scaler.fit_transform(X[['price_f1', 'price_f2', 'stops_f1', 'stops_f2']])\n",
    "y = df['choice']"
   ]
  },
  {
   "cell_type": "code",
   "execution_count": 16,
   "id": "81a1d158-e6a1-47d1-999f-bff7b8359448",
   "metadata": {},
   "outputs": [],
   "source": [
    "#Define bayes model\n",
    "def hb_mixed_logit(X_vars, cust_id, scenario_id, y_vars=None):\n",
    "    num_cust = 100\n",
    "    num_scenario = 3\n",
    "    num_params = 5\n",
    "    \n",
    "    alpha_f1 = numpyro.sample(\"alpha_f1\", dist.Normal(0, 2))\n",
    "    alpha_f2 = numpyro.sample(\"alpha_f2\", dist.Normal(0, 2))\n",
    "    alpha_price = numpyro.sample(\"alpha_price\", dist.Normal(-0.02, .005))\n",
    "    alpha_stop = numpyro.sample(\"alpha_stop\", dist.Normal(-1, 1))\n",
    "    alpha_seat = numpyro.sample(\"alpha_seat\", dist.Normal(1, 1))\n",
    "    \n",
    "    delta_price_med = numpyro.sample(\"delta_price_med\", dist.Normal(.002, .001))\n",
    "    delta_price_high = numpyro.sample(\"delta_price_high\", dist.Normal(.004, .001))\n",
    "    delta_price_bus = numpyro.sample(\"delta_price_bus\", dist.Normal(.006, .001))\n",
    "    delta_stops_bus = numpyro.sample(\"delta_stops_bus\", dist.Normal(-1, 1))\n",
    "    delta_seat_25 = numpyro.sample(\"delta_seat_25\", dist.Normal(1, 1))\n",
    "    delta_seat_35 = numpyro.sample(\"delta_seat_35\", dist.Normal(1.5, 1))\n",
    "    delta_seat_bus = numpyro.sample(\"delta_seat_bus\", dist.Normal(2, 1))\n",
    "    \n",
    "    phi_f1 = numpyro.sample(\"phi_f1\", dist.Uniform(-1, 1))\n",
    "    phi_f2 = numpyro.sample(\"phi_f2\", dist.Uniform(-1, 1))\n",
    "    phi_price = numpyro.sample(\"phi_price\", dist.Uniform(-1, 1))\n",
    "    phi_stop = numpyro.sample(\"phi_stop\", dist.Uniform(-1, 1))\n",
    "    phi_seat = numpyro.sample(\"phi_seat\", dist.Uniform(-1, 1))\n",
    "    phi_stack = jnp.stack([phi_f1, phi_f2, phi_price, phi_stop, phi_seat])\n",
    "    \n",
    "    q_f1 = numpyro.sample(\"q_f1\", dist.HalfNormal(1))\n",
    "    q_f2 = numpyro.sample(\"q_f2\", dist.HalfNormal(1))\n",
    "    q_price = numpyro.sample(\"q_price\", dist.HalfNormal(1))\n",
    "    q_stop = numpyro.sample(\"q_stop\", dist.HalfNormal(1))\n",
    "    q_seat = numpyro.sample(\"q_seat\", dist.HalfNormal(1))\n",
    "    q_stack = jnp.stack([q_f1, q_f2, q_price, q_stop, q_seat], axis=-1)\n",
    "    \n",
    "    sig_mat = jnp.diag(jnp.array([0.2, 0.2, 0.005, 0.2, 0.2]))\n",
    "    \n",
    "    with numpyro.plate(\"customer_plate\", num_cust * num_scenario):\n",
    "        mu_price_b = alpha_price + (X_vars[:, 6] * delta_price_med) + (X_vars[:, 5] * delta_price_high) + (X_vars[:, 0] * delta_price_bus)\n",
    "        mu_stop_b = alpha_stop + (X_vars[:, 0] * delta_stops_bus)\n",
    "        mu_seat_b = alpha_seat + (X_vars[:, 7] * delta_seat_25) + (X_vars[:, 8] * delta_seat_35) + (X_vars[:, 0] * delta_seat_bus)\n",
    "\n",
    "        mu_base = jnp.stack([jnp.full(num_cust * num_scenario, alpha_f1), jnp.full(num_cust * num_scenario, alpha_f2), \n",
    "                             mu_price_b, mu_stop_b, mu_seat_b], axis=-1)\n",
    "        \n",
    "        q_noise_0 = numpyro.sample(\"q_noise_0\", dist.Normal(0, q_stack.reshape(-1, 1)))\n",
    "        mu_s_0 = mu_base + q_noise_0.T\n",
    "        beta_s_0 = numpyro.sample(\"beta_s_0\", dist.MultivariateNormal(mu_s_0, sig_mat))\n",
    "        \n",
    "        q_noise_1 = numpyro.sample(\"q_noise_1\", dist.Normal(0, q_stack.reshape(-1,1)))\n",
    "        mu_s_1 = mu_base + (phi_stack * (mu_s_0 - mu_base)) + q_noise_1.T\n",
    "        beta_s_1 = numpyro.sample(\"beta_s_1\", dist.MultivariateNormal(mu_s_1, sig_mat))\n",
    "        \n",
    "        q_noise_2 = numpyro.sample(\"q_noise_2\", dist.Normal(0, q_stack.reshape(-1,1)))\n",
    "        mu_s_2 = mu_base + (phi_stack * (mu_s_1 - mu_base)) + q_noise_2.T\n",
    "        beta_s_2 = numpyro.sample(\"beta_s_2\", dist.MultivariateNormal(mu_s_2, sig_mat))\n",
    "        \n",
    "        beta_sep = jnp.stack([beta_s_0, beta_s_1, beta_s_2], axis=1)[cust_id, scenario_id, :]\n",
    "        \n",
    "        beta_f1 = beta_sep[:, 0]\n",
    "        beta_f2 = beta_sep[:, 1]\n",
    "        beta_price = -jnp.abs(beta_sep[:, 2])\n",
    "        beta_stops = -jnp.abs(beta_sep[:, 3])\n",
    "        beta_seat = jnp.abs(beta_sep[:, 4])\n",
    "        \n",
    "        util_f1 = beta_f1 + (beta_price * X_vars[:,1]) + (beta_stops * X_vars[:,2]) + (beta_seat * X_vars[:,9])\n",
    "        util_f2 = beta_f2 + (beta_price * X_vars[:,3]) + (beta_stops * X_vars[:,4]) + (beta_seat * X_vars[:,9])\n",
    "        util_none = jnp.zeros_like(util_f1)\n",
    "        \n",
    "        all_util = jnp.stack([util_f1, util_f2, util_none], axis=-1)\n",
    "        \n",
    "        numpyro.sample(\"choice\", dist.Categorical(logits=all_util), obs=y_vars)"
   ]
  },
  {
   "cell_type": "code",
   "execution_count": 17,
   "id": "1cbebe94-6e56-41cd-aedf-b2eeb1dd2709",
   "metadata": {
    "tags": []
   },
   "outputs": [],
   "source": [
    "# #Intialize sampler parameters\n",
    "# rng_key = random.PRNGKey(0)\n",
    "# kernel = NUTS(hb_mixed_logit)\n",
    "# mcmc = MCMC(kernel, num_warmup=1000, num_samples=1000)"
   ]
  },
  {
   "cell_type": "code",
   "execution_count": 18,
   "id": "9bfc68a7-bb48-429e-afa9-94e13d657544",
   "metadata": {
    "tags": []
   },
   "outputs": [],
   "source": [
    "# #Run sampler\n",
    "# mcmc.run(rng_key, jnp.array(X)[:,2:], jnp.array(X)[:,0].astype(int), jnp.array(X)[:,1].astype(int), jnp.array(y).astype(int))"
   ]
  },
  {
   "cell_type": "code",
   "execution_count": 19,
   "id": "f277de3b-0a7a-40b2-9ad1-129971e76fed",
   "metadata": {
    "tags": []
   },
   "outputs": [],
   "source": [
    "# #Save mcmc\n",
    "# with open('mcmc_wtp.pkl', 'wb') as file:\n",
    "#     pickle.dump(mcmc, file)\n",
    "#     file.close()"
   ]
  },
  {
   "cell_type": "code",
   "execution_count": 20,
   "id": "9f9b7631-d5fe-4877-82ac-ea8b24032596",
   "metadata": {
    "tags": []
   },
   "outputs": [
    {
     "name": "stderr",
     "output_type": "stream",
     "text": [
      "An NVIDIA GPU may be present on this machine, but a CUDA-enabled jaxlib is not installed. Falling back to cpu.\n"
     ]
    }
   ],
   "source": [
    "#Open mcmc\n",
    "with open('mcmc_wtp.pkl', 'rb') as file:\n",
    "    mcmc_wtp = pickle.load(file)\n",
    "    file.close()"
   ]
  },
  {
   "cell_type": "code",
   "execution_count": 21,
   "id": "ba6407ba-0149-4104-8b57-86d4870a98a4",
   "metadata": {
    "tags": []
   },
   "outputs": [],
   "source": [
    "#Get betas for each scenario\n",
    "beta_s_0 = mcmc_wtp.get_samples()['beta_s_0']\n",
    "beta_s_1 = mcmc_wtp.get_samples()['beta_s_1']\n",
    "beta_s_2 = mcmc_wtp.get_samples()['beta_s_2']"
   ]
  },
  {
   "cell_type": "code",
   "execution_count": 22,
   "id": "fecc8cc4-bad4-41f7-94cd-4133d0c0fa47",
   "metadata": {
    "scrolled": true,
    "tags": []
   },
   "outputs": [],
   "source": [
    "#Calculate WTP for stops\n",
    "wtp_stop_0 = -(-np.abs(beta_s_0[:,:,3]) / -np.abs(beta_s_0[:,:,2]))\n",
    "wtp_stop_1 = -(-np.abs(beta_s_1[:,:,3]) / -np.abs(beta_s_1[:,:,2]))\n",
    "wtp_stop_2 = -(-np.abs(beta_s_2[:,:,3]) / -np.abs(beta_s_2[:,:,2]))"
   ]
  },
  {
   "cell_type": "code",
   "execution_count": 23,
   "id": "c3a7e048-fb81-469d-a3b6-2dbe5ef553d9",
   "metadata": {
    "tags": []
   },
   "outputs": [],
   "source": [
    "#Clip WTP for stops\n",
    "wtp_stop_0 = np.clip(wtp_stop_0, -60, 0)\n",
    "wtp_stop_1 = np.clip(wtp_stop_1, -60, 0)\n",
    "wtp_stop_2 = np.clip(wtp_stop_2, -60, 0)"
   ]
  },
  {
   "cell_type": "code",
   "execution_count": 24,
   "id": "760c318d-e1c4-4ffc-90ce-89aeb0984cef",
   "metadata": {
    "tags": []
   },
   "outputs": [],
   "source": [
    "#Calculate WTP for seat\n",
    "wtp_seat_0 = -(np.abs(beta_s_0[:,:,4]) / -np.abs(beta_s_0[:,:,2]))\n",
    "wtp_seat_1 = -(np.abs(beta_s_1[:,:,4]) / -np.abs(beta_s_0[:,:,2]))\n",
    "wtp_seat_2 = -(np.abs(beta_s_2[:,:,4]) / -np.abs(beta_s_0[:,:,2]))"
   ]
  },
  {
   "cell_type": "code",
   "execution_count": 25,
   "id": "d08ad451-8270-484c-b307-58942790ebdb",
   "metadata": {
    "tags": []
   },
   "outputs": [],
   "source": [
    "#Clip WTP for seat\n",
    "wtp_seat_0 = np.clip(wtp_seat_0, 0, 60)\n",
    "wtp_seat_1 = np.clip(wtp_seat_1, 0, 60)\n",
    "wtp_seat_2 = np.clip(wtp_seat_2, 0, 60)"
   ]
  },
  {
   "cell_type": "markdown",
   "id": "496be5ed-a30e-47cb-b768-04ead7518bf6",
   "metadata": {},
   "source": [
    "## Results"
   ]
  },
  {
   "cell_type": "markdown",
   "id": "c80886c5-6beb-4045-a98f-7e5abec7cab5",
   "metadata": {},
   "source": [
    "In the context of airline pricing, we'd like to understand the WTP for customers avoiding layovers (stops) on their flights and the WTP for customers seeking a premium class seat. If we can identify different WTP for each customer, we can better personalize pricing based on these attributes to capture more revenue per customer. "
   ]
  },
  {
   "cell_type": "markdown",
   "id": "85ce2dca-f91d-472e-8cbf-f2ddc183f7d0",
   "metadata": {},
   "source": [
    "To illustrate the results of our model, we present the average WTP estimate for stops along with 95% credible interval for customer 5. These results are shown below for each scenario $t$."
   ]
  },
  {
   "cell_type": "code",
   "execution_count": 26,
   "id": "bfa429af-3b47-4e9c-a700-fa6e809f4096",
   "metadata": {
    "tags": []
   },
   "outputs": [
    {
     "name": "stdout",
     "output_type": "stream",
     "text": [
      "Average WTP stop for customer 5: -11.361211776733398\n",
      "95% CI for customer 5: [-60.          -0.18702286]\n"
     ]
    }
   ],
   "source": [
    "#Show WTP for stops for single customer (scen 0)\n",
    "cust_id = 5\n",
    "print(f\"Average WTP stop for customer {cust_id}: {np.mean(wtp_stop_0, axis=0)[cust_id]}\")\n",
    "print(f\"95% CI for customer {cust_id}: {np.percentile(wtp_stop_0, q=[2.5, 97.5], axis=0)[:,cust_id]}\")"
   ]
  },
  {
   "cell_type": "code",
   "execution_count": 27,
   "id": "df63158a-9d77-4212-be94-c977e630a34d",
   "metadata": {
    "tags": []
   },
   "outputs": [
    {
     "name": "stdout",
     "output_type": "stream",
     "text": [
      "Average WTP stop for customer 5: -10.813233375549316\n",
      "95% CI for customer 5: [-60.         -0.1928775]\n"
     ]
    }
   ],
   "source": [
    "#Show WTP for stops for single customer (scen 1)\n",
    "cust_id = 5\n",
    "print(f\"Average WTP stop for customer {cust_id}: {np.mean(wtp_stop_1, axis=0)[cust_id]}\")\n",
    "print(f\"95% CI for customer {cust_id}: {np.percentile(wtp_stop_1, q=[2.5, 97.5], axis=0)[:,cust_id]}\")"
   ]
  },
  {
   "cell_type": "code",
   "execution_count": 28,
   "id": "e8a3424c-4708-48ee-af76-24c278eb61d8",
   "metadata": {
    "tags": []
   },
   "outputs": [
    {
     "name": "stdout",
     "output_type": "stream",
     "text": [
      "Average WTP stop for customer 5: -10.883264541625977\n",
      "95% CI for customer 5: [-60.          -0.17119325]\n"
     ]
    }
   ],
   "source": [
    "#Show WTP for stops for single customer (scen 2)\n",
    "cust_id = 5\n",
    "print(f\"Average WTP stop for customer {cust_id}: {np.mean(wtp_stop_2, axis=0)[cust_id]}\")\n",
    "print(f\"95% CI for customer {cust_id}: {np.percentile(wtp_stop_2, q=[2.5, 97.5], axis=0)[:,cust_id]}\")"
   ]
  },
  {
   "cell_type": "code",
   "execution_count": 29,
   "id": "9fcd2828-6d66-4497-9626-7182716dfcce",
   "metadata": {
    "tags": []
   },
   "outputs": [
    {
     "data": {
      "image/png": "[encoded data removed]",
      "text/plain": [
       "<Figure size 1500x500 with 3 Axes>"
      ]
     },
     "metadata": {},
     "output_type": "display_data"
    }
   ],
   "source": [
    "#| label: fig-wtp-1\n",
    "#| fig-cap: \"Posterior distributions for WTP on stops across different scenarios\"\n",
    "\n",
    "#Show posterior density for each scenario\n",
    "fig, ax = plt.subplots(1,3, figsize=(15,5))\n",
    "wtp_stop_lst = [wtp_stop_0, wtp_stop_1, wtp_stop_2]\n",
    "\n",
    "for i, a in enumerate(ax.flatten()):\n",
    "    sns.kdeplot(wtp_stop_lst[i][cust_id], ax=a)\n",
    "    a.set_title(f\"WTP for stops (scen {i}, cust_id {cust_id})\")\n",
    "    a.set_xlim(left=0, right=-60)"
   ]
  },
  {
   "cell_type": "code",
   "execution_count": 30,
   "id": "66a3919e-ddb7-4821-ac75-912d2b448ead",
   "metadata": {
    "tags": []
   },
   "outputs": [
    {
     "data": {
      "text/html": [
       "<div>\n",
       "<style scoped>\n",
       "    .dataframe tbody tr th:only-of-type {\n",
       "        vertical-align: middle;\n",
       "    }\n",
       "\n",
       "    .dataframe tbody tr th {\n",
       "        vertical-align: top;\n",
       "    }\n",
       "\n",
       "    .dataframe thead th {\n",
       "        text-align: right;\n",
       "    }\n",
       "</style>\n",
       "<table border=\"1\" class=\"dataframe\">\n",
       "  <thead>\n",
       "    <tr style=\"text-align: right;\">\n",
       "      <th></th>\n",
       "      <th>cust_id</th>\n",
       "      <th>scen_id</th>\n",
       "      <th>age</th>\n",
       "      <th>income</th>\n",
       "      <th>is_business</th>\n",
       "      <th>seat_browsed</th>\n",
       "      <th>price_f1</th>\n",
       "      <th>stops_f1</th>\n",
       "      <th>price_f2</th>\n",
       "      <th>stops_f2</th>\n",
       "      <th>choice</th>\n",
       "    </tr>\n",
       "  </thead>\n",
       "  <tbody>\n",
       "    <tr>\n",
       "      <th>15</th>\n",
       "      <td>5</td>\n",
       "      <td>0</td>\n",
       "      <td>18-24</td>\n",
       "      <td>med</td>\n",
       "      <td>0</td>\n",
       "      <td>econ</td>\n",
       "      <td>207.0</td>\n",
       "      <td>1</td>\n",
       "      <td>237.0</td>\n",
       "      <td>1</td>\n",
       "      <td>1</td>\n",
       "    </tr>\n",
       "    <tr>\n",
       "      <th>16</th>\n",
       "      <td>5</td>\n",
       "      <td>1</td>\n",
       "      <td>18-24</td>\n",
       "      <td>med</td>\n",
       "      <td>0</td>\n",
       "      <td>prem</td>\n",
       "      <td>323.0</td>\n",
       "      <td>0</td>\n",
       "      <td>328.0</td>\n",
       "      <td>0</td>\n",
       "      <td>0</td>\n",
       "    </tr>\n",
       "    <tr>\n",
       "      <th>17</th>\n",
       "      <td>5</td>\n",
       "      <td>2</td>\n",
       "      <td>18-24</td>\n",
       "      <td>med</td>\n",
       "      <td>0</td>\n",
       "      <td>econ</td>\n",
       "      <td>180.0</td>\n",
       "      <td>2</td>\n",
       "      <td>228.0</td>\n",
       "      <td>0</td>\n",
       "      <td>1</td>\n",
       "    </tr>\n",
       "  </tbody>\n",
       "</table>\n",
       "</div>"
      ],
      "text/plain": [
       "    cust_id  scen_id    age income  is_business seat_browsed  price_f1  \\\n",
       "15        5        0  18-24    med            0         econ     207.0   \n",
       "16        5        1  18-24    med            0         prem     323.0   \n",
       "17        5        2  18-24    med            0         econ     180.0   \n",
       "\n",
       "    stops_f1  price_f2  stops_f2  choice  \n",
       "15         1     237.0         1       1  \n",
       "16         0     328.0         0       0  \n",
       "17         2     228.0         0       1  "
      ]
     },
     "execution_count": 30,
     "metadata": {},
     "output_type": "execute_result"
    }
   ],
   "source": [
    "df.query(\"cust_id == 5\")"
   ]
  },
  {
   "cell_type": "markdown",
   "id": "43b79481-9aef-4322-a633-fc607d2be8c0",
   "metadata": {},
   "source": [
    "Customer 5, an individual aged 18-24 with a middle income who is not a business traveler, shows a WTP of approximately \\$11 to avoid one additional stop. This is the marginal value that customer 5 would be willing to add to the ticket, on average, to avoid an additional stop on their flight. If we were to set prices at the customer level, we could use this information to set a price below this ceiling amount to better capture the additional consumer surplus."
   ]
  },
  {
   "cell_type": "markdown",
   "id": "cc2657fc-dbe3-42a2-96de-a5a4bee2d16b",
   "metadata": {},
   "source": [
    "We also can view customer 5's WTP for seat upgradge (going up from economy to premium). These results are shown below."
   ]
  },
  {
   "cell_type": "code",
   "execution_count": 33,
   "id": "e5297928-7d58-415b-a8e1-ebab7f95d908",
   "metadata": {
    "tags": []
   },
   "outputs": [
    {
     "name": "stdout",
     "output_type": "stream",
     "text": [
      "Average WTP seat for customer 5: 26.012453079223633\n",
      "95% CI for customer 5: [ 0.8786044 60.       ]\n"
     ]
    }
   ],
   "source": [
    "#Show WTP for seat for single customer\n",
    "cust_id = 5\n",
    "print(f\"Average WTP seat for customer {cust_id}: {np.mean(wtp_seat_0, axis=0)[cust_id]}\")\n",
    "print(f\"95% CI for customer {cust_id}: {np.percentile(wtp_seat_0, q=[2.5, 97.5], axis=0)[:,cust_id]}\")"
   ]
  },
  {
   "cell_type": "code",
   "execution_count": 34,
   "id": "de8c2a34-810f-43cf-b4b2-e55276529fbb",
   "metadata": {},
   "outputs": [
    {
     "name": "stdout",
     "output_type": "stream",
     "text": [
      "Average WTP seat for customer 5: 26.450408935546875\n",
      "95% CI for customer 5: [ 0.83505126 60.        ]\n"
     ]
    }
   ],
   "source": [
    "cust_id = 5\n",
    "print(f\"Average WTP seat for customer {cust_id}: {np.mean(wtp_seat_1, axis=0)[cust_id]}\")\n",
    "print(f\"95% CI for customer {cust_id}: {np.percentile(wtp_seat_1, q=[2.5, 97.5], axis=0)[:,cust_id]}\")"
   ]
  },
  {
   "cell_type": "code",
   "execution_count": 35,
   "id": "407fad9c-eeef-456c-8288-31e8bc83889a",
   "metadata": {
    "tags": []
   },
   "outputs": [
    {
     "name": "stdout",
     "output_type": "stream",
     "text": [
      "Average WTP seat for customer 5: 26.11977767944336\n",
      "95% CI for customer 5: [ 1.03312797 60.        ]\n"
     ]
    }
   ],
   "source": [
    "ust_id = 5\n",
    "print(f\"Average WTP seat for customer {cust_id}: {np.mean(wtp_seat_2, axis=0)[cust_id]}\")\n",
    "print(f\"95% CI for customer {cust_id}: {np.percentile(wtp_seat_2, q=[2.5, 97.5], axis=0)[:,cust_id]}\")"
   ]
  },
  {
   "cell_type": "code",
   "execution_count": 36,
   "id": "b88bacf8-b4a9-4600-ba84-f57de483e162",
   "metadata": {
    "tags": []
   },
   "outputs": [
    {
     "data": {
      "image/png": "[encoded data removed]",
      "text/plain": [
       "<Figure size 1500x500 with 3 Axes>"
      ]
     },
     "metadata": {},
     "output_type": "display_data"
    }
   ],
   "source": [
    "#| label: fig-wtp-2\n",
    "#| fig-cap: \"Posterior distribution for WTP on seat upgrade across different scenarios\"\n",
    "\n",
    "#Show posterior density for each scenario\n",
    "fig, ax = plt.subplots(1,3, figsize=(15,5))\n",
    "wtp_seat_lst = [wtp_seat_0, wtp_seat_1, wtp_seat_2]\n",
    "\n",
    "for i, a in enumerate(ax.flatten()):\n",
    "    sns.kdeplot(wtp_seat_lst[i][cust_id], ax=a)\n",
    "    a.set_title(f\"WTP for seat (scen {i}, cust_id {cust_id})\")\n",
    "    a.set_xlim(left=0, right=60)"
   ]
  },
  {
   "cell_type": "markdown",
   "id": "94dcb731-b805-47cf-82da-4669924dae6e",
   "metadata": {},
   "source": [
    "The posterior distributions for seat upgrades are more spread out, indicating a higher degree of uncertainty in our estimates compared to those for stops. Similar to the distributions in @fig-wtp-1, these posterior distributions do not vary significantly across each scenario. It is worth noting that the mean WTP for seat upgrades is higher for Customer 5, reflecting a greater potential value, though this estimate comes with higher uncertainty due to the wider distribution. This uncertainty can be incorporated directly into our pricing strategy to create a more robust offering system."
   ]
  },
  {
   "cell_type": "markdown",
   "id": "d86b2cea-ff35-4599-9f94-49041a69c667",
   "metadata": {},
   "source": [
    "## Price Offer Strategy"
   ]
  },
  {
   "cell_type": "markdown",
   "id": "7326167c-cda8-4d9a-ae5a-d0fcf69e9d47",
   "metadata": {},
   "source": [
    "Our goal is to maximize the expected profit from a given price point for a particular customer. While we could set the price as the base fare plus the mean of the posterior distribution, a more optimal approach would be finding a price point $p$ that would maximize @eq-profit-1. "
   ]
  },
  {
   "cell_type": "markdown",
   "id": "248b2b3f-e1e7-4f90-8fd6-ab63f0d65970",
   "metadata": {},
   "source": [
    "$$\n",
    "E[p-c] = (p-c)P(WTP_{ikt} > p)\n",
    "$${#eq-profit-1}"
   ]
  },
  {
   "cell_type": "markdown",
   "id": "237cc3f7-0a2d-4119-b023-e9aa94ef458e",
   "metadata": {},
   "source": [
    "$p$ is the price and $c$ is the cost associated with the flight. The probabilities from @eq-profit-1 can be pulled from our posterior distributions."
   ]
  },
  {
   "cell_type": "markdown",
   "id": "11028f97-e8b1-4072-9272-2f4e5e2cadb3",
   "metadata": {},
   "source": [
    "Assuming a cost $c$ of \\$200 and a base fare $p$ of \\$200, we determine the optimal price for a flight based on the WTP for avoiding a stop. To do this, we test integer price points ranging from \\$5 to \\$30 above the base fare. Using the posterior distribution derived from scenario 2 for customer 5, the resulting optimal price is shown below."
   ]
  },
  {
   "cell_type": "code",
   "execution_count": 41,
   "id": "1acfc07f-71a9-4caf-83cf-d545798e76ab",
   "metadata": {
    "tags": []
   },
   "outputs": [],
   "source": [
    "#Find max price point\n",
    "prices_lst = np.arange(5, 30, 1)\n",
    "exp_profit = []\n",
    "for i in prices_lst:\n",
    "    res = i * (np.sum((wtp_stop_2[:,cust_id] * -1) > i) / wtp_stop_2.shape[0])\n",
    "    exp_profit.append(res)"
   ]
  },
  {
   "cell_type": "code",
   "execution_count": 47,
   "id": "8cb71962-8bdf-4ea3-849e-220f3d450ef9",
   "metadata": {
    "tags": []
   },
   "outputs": [
    {
     "name": "stdout",
     "output_type": "stream",
     "text": [
      "Optimal price to maximize profit: $218\n"
     ]
    }
   ],
   "source": [
    "print(f\"Optimal price to maximize profit: ${200 + prices_lst[np.argmax(exp_profit)]}\")"
   ]
  },
  {
   "cell_type": "markdown",
   "id": "82710d2b-d193-4a8e-b4e7-23216e596ab7",
   "metadata": {},
   "source": [
    "# Conclusion"
   ]
  },
  {
   "cell_type": "markdown",
   "id": "a4e7bc02-8283-4ad2-a188-ba46b33b8f00",
   "metadata": {},
   "source": [
    "In this post, we reviewed the history of airline revenue management, from the 1978 deregulation act to today's more sophisticated approaches. We discussed how these systems have attempted to maximize revenue by constantly adjusting prices based on market dynamics and leveraging techniques like price discrimination. We then introduced a new technological disruption with the advent of LLMs and LMMs. Following this, we presented a simpler approach using a dynamic hierarchical mixed logit model to estimate individual customer WTP. We concluded by demonstrating how these estimates can be used within a basic profit optimization framework to offer prices that maximize profitability for each customer."
   ]
  },
  {
   "cell_type": "markdown",
   "id": "4dc99a20-ca39-4848-982f-43c0d2d4eac4",
   "metadata": {},
   "source": [
    "Overall, we hope this post has provided a clear overview of the complexities of pricing within the airline industry. The practices currently in use are the result of a considerable amount of research and development. Now, with the revolution of AI powered by LLMs, the airline industry appears to primed for yet another pricing revolution."
   ]
  }
 ],
 "metadata": {
  "kernelspec": {
   "display_name": "Python 3 (ipykernel)",
   "language": "python",
   "name": "python3"
  },
  "language_info": {
   "codemirror_mode": {
    "name": "ipython",
    "version": 3
   },
   "file_extension": ".py",
   "mimetype": "text/x-python",
   "name": "python",
   "nbconvert_exporter": "python",
   "pygments_lexer": "ipython3",
   "version": "3.10.9"
  }
 },
 "nbformat": 4,
 "nbformat_minor": 5
}
