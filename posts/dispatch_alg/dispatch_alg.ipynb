{
 "cells": [
  {
   "cell_type": "raw",
   "id": "901ab432-3e18-4534-8071-513504db4303",
   "metadata": {},
   "source": [
    "---\n",
    "title: \"Optimizing Optimization: A Tutorial on Dispatch Algorithms with Applications in the Gig Economy\"\n",
    "draft: false\n",
    "toc: true\n",
    "author: \"Brandon Scott\"\n",
    "date: \"2025-06-19\"\n",
    "number-sections: false\n",
    "categories: [operations, optimization, python]\n",
    "execute:\n",
    "    echo: false\n",
    "    warning: false\n",
    "crossref:\n",
    "    chapters: true\n",
    "format:\n",
    "    html:\n",
    "        code-fold: false\n",
    "jupyter: python3\n",
    "bibliography: ../../references.bib\n",
    "csl: ../../ieee.csl\n",
    "---"
   ]
  },
  {
   "cell_type": "code",
   "execution_count": 1,
   "id": "a1c87057-e45f-4e7b-adee-fbd34e4136b5",
   "metadata": {
    "tags": []
   },
   "outputs": [],
   "source": [
    "#Import libraries\n",
    "import numpy as np\n",
    "import pandas as pd\n",
    "import matplotlib.pyplot as plt\n",
    "import seaborn as sns\n",
    "\n",
    "import pulp\n",
    "\n",
    "from sklearn.preprocessing import MinMaxScaler"
   ]
  },
  {
   "cell_type": "markdown",
   "id": "e970d9a3-4d6b-4bcf-a0b5-059f2a530eb0",
   "metadata": {},
   "source": [
    "# Abstract"
   ]
  },
  {
   "cell_type": "markdown",
   "id": "870d8ba1-eef4-4ffa-8486-61ffbe1f7d15",
   "metadata": {},
   "source": [
    "In this post, we present an implementation for *Next-Generation Optimization for Dasher Dispatch at DoorDash* [@doordash_optimization_2020] and *Using ML and Optimization to Solve DoorDash’s Dispatch Problem* [@weinstein_ml_optimization_2021]. We demonstrate this implementation in the context of a smaller, simpler food delivery system. We conclude by presenting some simple sensitivity analysis from changes in our hyperparameters weights in our scoring methods. The code for this simulation can be found at the [github repo](https://github.com/thebayesianbandit/thebayesianbandit.github.io/blob/main/posts/dispatch_alg/dispatch_alg.ipynb)."
   ]
  },
  {
   "cell_type": "markdown",
   "id": "1c3bcaae-c6c8-42d4-9a25-1d789909d3e4",
   "metadata": {},
   "source": [
    "# Introduction"
   ]
  },
  {
   "cell_type": "markdown",
   "id": "6dc5e176-83b2-4a19-b1aa-635e4304242e",
   "metadata": {},
   "source": [
    "**Food-Ez** is a new food delivery service specializing in delivering food in small, walkable cities. Like other companies like DoorDash and UberEats, Food-Ez is a three sided marketplace, dealing with the needs and wants of customers (those who place the orders), restaurants (those who create the orders), and deliverers (those who fulfill the orders). Understanding this, Food-Ez developed a novel dispatch algorithm to maximize efficiency in their marketplace. Specifically, they created an algorithm that minimized delivery time by matching orders to drivers closest to the restaurant. While this approach has been effective for Food-Ez, they are looking to upgrade their current algorithm in a few ways. First, they are **allowing deliverers to be assigned up to 2 orders at a time**. Second, they want to have more efficient operations. Their current algorithm has drivers waiting quite a bit of time for food to be prepped at restaurants. They want to **maximize deliverer efficiency by minimizing driver wait and idle time**. "
   ]
  },
  {
   "cell_type": "markdown",
   "id": "b694850b-c7fd-4a42-8bd7-ee6c689997bd",
   "metadata": {},
   "source": [
    "# Designing the Problem via Control"
   ]
  },
  {
   "cell_type": "markdown",
   "id": "2c7a14dc-eba4-41ba-a382-ccd5ea96b29e",
   "metadata": {},
   "source": [
    "Before going into the details of how each algorithm operates within this problem, we first present how to formulate the problem to achieve optimal solutions. One way to approach this problem is by viewing it as a **control problem**. Control theory offers a rich framework by which we can design our problem and solutions. In essence, control theory aims to stabilize/optimize some system that we'll denote as $P$ (commonly known as the Plant). The system creates outputs that include feedback signals that are fed back to a **controller** denoted as $C$. @fig-control-diag is an example control diagram."
   ]
  },
  {
   "cell_type": "markdown",
   "id": "a14f4225-d728-4aa1-b0bd-22b3cf508a9e",
   "metadata": {},
   "source": [
    "![An example control diagram](http://www.polytechnichub.com/wp-content/uploads/2017/04/closed_loop.jpg){#fig-control-diag}"
   ]
  },
  {
   "cell_type": "markdown",
   "id": "5b0c1b2b-bd45-4746-9480-2b0ec2272929",
   "metadata": {},
   "source": [
    "Control theory excels at helping us model dynamical systems and how we can control them even in the face of uncertainty (i.e. not knowing all the dynamics of the system). In our scenario specifically, the delivery marketplace is a highly dynamic system. Orders come in at varying times and locations with an unknown supply of drivers to deliver orders. With control theory, we can boil down this complex problem into essentially three parts: First, what is the system we are trying to control? Second, what information can we gain from the system? Third, what actions can we take to ensure the system operates accordingly?"
   ]
  },
  {
   "cell_type": "markdown",
   "id": "ec72758e-b4a6-4e2b-a8df-9da514dd65d2",
   "metadata": {},
   "source": [
    "## What's the system?"
   ]
  },
  {
   "cell_type": "markdown",
   "id": "3ec44d51-be50-48f9-a020-50cc6af29342",
   "metadata": {},
   "source": [
    "The first question can be answered by understanding the business objective. We want customers to utilize our service for their food delivery needs. We promote our service by promising fast and accurate delivery right to their doors. Additionally, since our drivers are critical to the operations of this business, we want to keep our drivers as busy as possible to ensure they maximize earnings. Essentially, our business objective is to maintain optimal customer service to those who order while also providing good opportunities to our deliverers to make money. How can we optimize for both objectives simultaneously? Or rather, what system are we trying to control to fulfill this objective? **The system we are aiming to control for Food-Ez is the queue**. If we can control the queue (i.e. drive the queue to zero), customers orders will be assigned quickly and be delivered quickly. Subsequently, if the queue is managed correctly, drivers' objective of maximizing earnings will also be optimized. The queue is the system for which we will be designing a controller."
   ]
  },
  {
   "cell_type": "markdown",
   "id": "0217fffe-6258-403b-bb19-a322a0b43819",
   "metadata": {},
   "source": [
    "## What should we feedback?"
   ]
  },
  {
   "cell_type": "markdown",
   "id": "dc063533-2cf5-43b9-b637-a8a804e34edf",
   "metadata": {},
   "source": [
    "Now that we have identified what the system is, we can identify what elements of the system we should report back to the controller. If we are aiming to optimize the queue, we should report back metrics of queue health. Things like queue length, status of orders, status of drivers, location of dropoff and pickup, etc. The list below enumerates some of the crucial feedback elements we will provide to the controller. "
   ]
  },
  {
   "cell_type": "markdown",
   "id": "16b0254d-07d8-4177-b15e-eb9026cbd187",
   "metadata": {},
   "source": [
    "1. Order Status (Pending, Assigned, En Route, Delivered)\n",
    "2. Driver Status (Idle, Assigned, En Route, Delivered)\n",
    "3. Order Location (Pickup Location, Dropoff Location)\n",
    "4. Driver Location \n",
    "5. Driver Assigned Orders"
   ]
  },
  {
   "cell_type": "markdown",
   "id": "78399c47-ad5f-44b8-a02e-9dd6d9278a87",
   "metadata": {},
   "source": [
    "For question two, we are essentially defining **the states** of important elements in our system. In control theory, this fundamental approach is known as representing a system using state-space equations. The formal equations are found in @eq-cont-1."
   ]
  },
  {
   "cell_type": "markdown",
   "id": "eebe3a61-0765-41f6-b3d6-324f6fd6bb0d",
   "metadata": {},
   "source": [
    "$$\n",
    "\\dot{\\mathbf{x}}(t) = \\mathbf{A}\\mathbf{x}(t) + \\mathbf{B}\\mathbf{u}(t)\n",
    "$$\n",
    "$$\n",
    "\\mathbf{y}(t) = \\mathbf{C}\\mathbf{x}(t) + \\mathbf{D}\\mathbf{u}(t)\n",
    "$${#eq-cont-1}"
   ]
  },
  {
   "cell_type": "markdown",
   "id": "0e7c2ca0-a108-479d-a7ce-5826f81d6c45",
   "metadata": {},
   "source": [
    "@eq-cont-1 states that the rate of change of the state vector $\\dot{x}(t)$ at time $t$ is equal to the current state vector $x(t)$ multiplied by the dynamics matrix $A$, plus the input vector $u(t)$ multiplied by the input matrix $B$. The system's output, $y(t)$, is equal to the current state vector of the system $x(t)$ multiplied by the output matrix $C$ plus input vector $u(t)$ multiplied by the feedthrough matrix $D$. Relating these equations back to our control diagram, the controller observes $y(t)$ and compares it against a predetermined reference or baseline. Based on that judgement, the controller sends inputs $u(t)$ back to the system. This input, along with the current state of the system, determines the instantaneous rate of change of the system's state. This state then produces output $y(t)$, and the process repeats itself. "
   ]
  },
  {
   "cell_type": "markdown",
   "id": "e5e5389b-7a0c-4aab-85ee-785e91babe37",
   "metadata": {},
   "source": [
    "A classic example of this is cruise control in a car. The controller observes the car's speed and compares it against the set cruise speed. It then sends inputs to the engine to adjust the speed accordingly. These inputs, alongside other dynamics (e.g., drag, incline), influence the car's state, which in turn contributes to the measured output $y(t)$."
   ]
  },
  {
   "cell_type": "markdown",
   "id": "b94da888-30f8-4e97-a185-f4b1ccfdc171",
   "metadata": {},
   "source": [
    "While these explanations have been incredibly simplified, they illustrate the important principle that a system can be adjusted in a closed-loop by providing crucial feedback to the controller on its current operation. In our scenario, we want to know the locations and destinations of drivers, the status of food preparation, and other relevant parameters, in order to optimally assign orders within the queue and achieve our business objectives."
   ]
  },
  {
   "cell_type": "markdown",
   "id": "50a72611-7d6d-4601-803c-20a67ecec722",
   "metadata": {},
   "source": [
    "## What actions can we take to adjust the system?"
   ]
  },
  {
   "cell_type": "markdown",
   "id": "188af667-9968-4a92-8673-248be31d7122",
   "metadata": {},
   "source": [
    "We identified the system and listed some information that would be useful for us to understand how the system is operating. We now need to implement actions that optimize the system's efficiency. In the previous section(s), we have identified the key objective. We need to assign orders to drivers such that orders get to their locations ASAP while also providing enough work to the drivers. There are several approaches to address this problem and each has its own advantages and disadvantages. We could implement logic such that we always assign the closest driver the order that comes in. Another approach would be holding orders for longer in the queue to see if a more \"optimally\" positioned driver comes along to take multiple orders nearby. We need sound strategy to identify which algorithmic process we should implement. For Food-Ez, it is optimizing the queue such that we minimize delivery time and maximize driver utilization (i.e. minimize driver idle time). Therefore, we need to design a controller that will balance these two objectives. "
   ]
  },
  {
   "cell_type": "markdown",
   "id": "d5cde97f-3000-426a-843d-2b4f364d97a7",
   "metadata": {},
   "source": [
    "# Establishing Operations"
   ]
  },
  {
   "cell_type": "markdown",
   "id": "72bacd19-7cc6-4a54-a3ce-0291a655c63c",
   "metadata": {},
   "source": [
    "Before getting into the controller logic, we'll first walk through the operational flow of our system. This is illustrated in @fig-op-1 (which is provided by [@doordash_optimization_2020])."
   ]
  },
  {
   "cell_type": "markdown",
   "id": "2b78d784-ed5b-4441-ae20-d822349a6885",
   "metadata": {},
   "source": [
    "![Flow of operations for delivery services like DoorDash and Food-Ez](https://doordash.engineering/wp-content/uploads/2020/08/life-cycle-12.jpg){#fig-op-1}"
   ]
  },
  {
   "cell_type": "markdown",
   "id": "4a2f98e3-e5b8-4c1d-93ee-8048ab0023ae",
   "metadata": {},
   "source": [
    "Walking through @fig-op-1, the process begins with a customer placing an order. The order is processed by the food delivery service and enters the queue. Returning to our control design, the queue sends pertinent information to the controller. The controller \"analyzes\" the information and sends its \"suggested action\" back to the queue. The queue then performs the actions by notifying orders to the restaurant (merchant) and sending orders to the \"optimal\" deliverer (dasher). The order is then picked up by the deliverer and drops off the order. "
   ]
  },
  {
   "cell_type": "markdown",
   "id": "54676d06-34f0-453f-a2f0-d737d7ff0ff6",
   "metadata": {},
   "source": [
    "Once again, we realize the importance of the \"controller\" in this system. The entirety of the delivery process is determined by the controller. In the next sections, we'll walk through the previous controller logic and the new proposed controller logic. "
   ]
  },
  {
   "cell_type": "markdown",
   "id": "13a7a7fc-9dc1-4450-828e-8affc1cd3a5b",
   "metadata": {},
   "source": [
    "## Current approach: bipartite matching"
   ]
  },
  {
   "cell_type": "markdown",
   "id": "fb4836aa-dcbf-4899-be8a-3ac4a980dced",
   "metadata": {},
   "source": [
    "The original logic followed by Food-Ez (and additionally DoorDash) was designed by framing the task as a **bipartite matching problem**. Essentially, this problem involves finding a set of edges in a bipartite graph such that no two edges share a common vertex, thereby matching elements from two distinct sets. In the context of food delivery, this essentially means every order can only have one driver and every driver can only have one order. To do this efficiently to fulfill business objectives such as minimizing delivery time, problems like this can be solved using algorithms like the Hungarian algorithm [@kuhn1955hungarian]. "
   ]
  },
  {
   "cell_type": "markdown",
   "id": "27268011-a436-481a-9efd-9f57e5c8932c",
   "metadata": {},
   "source": [
    "While this approach fulfills the business objective, simple examples illustrate the weaknesses of this approach. Suppose a deliverer is assigned an order and is heading to the restaurant. On the way, the driver passes another restaurant that just received an order that will be ready shortly. Furthermore, the dropoff location of this order is nearby the dropoff location of the first order. Instead of assigning this order to the driver, the system must assign another driver to this order. While more drivers are utilized in this approach, drivers could be used more efficiently. "
   ]
  },
  {
   "cell_type": "markdown",
   "id": "88037b34-e646-4d5f-a88c-adefbf785506",
   "metadata": {},
   "source": [
    "## An example via queue theory"
   ]
  },
  {
   "cell_type": "markdown",
   "id": "6dd678da-280b-44c2-9100-a631d7814e18",
   "metadata": {},
   "source": [
    "To illustrate this, let's pose the simple scenario of a single deliverer working for Food-Ez. Utilizing queue theory, we'll assume this is an M/M/1 queue where the arrival process is modeled by a Poisson distribution with parameter $\\lambda = 1$ (per hour), the service distribution is an exponential distribution with $\\mu = 2$ (per hour), and there is a single server (deliverer)."
   ]
  },
  {
   "cell_type": "markdown",
   "id": "86f9e4b2-b76a-46ae-b477-15d2d6e23e5b",
   "metadata": {},
   "source": [
    "With these metrics, we can calculate system utilization (or driver utilization in our case). This is defined as $\\rho = \\frac{\\lambda}{\\mu}$, or the ratio between arrival rate and service rate. In our case, for a deliverer in the bipartite matching system, we get 50% driver utilization. While this is not bad, the average queue wait time for an order is defined as $W_{q} = \\frac{L_{q}}{\\lambda}$, where $L_{q}$ is average length of queue. The average length of the queue here is .5 so in our scenario, queue wait time is about .5 hours or 30 minutes. Since our deliverer can only handle one order at a time, every order on average would have to wait 30 minutes in the queue. "
   ]
  },
  {
   "cell_type": "markdown",
   "id": "bd020cdd-609b-4308-9f9c-383c7ab9aed0",
   "metadata": {},
   "source": [
    "In a different approach, let's say a deliverer can now take two orders concurrently and assume it is no further than a 10 minute drive to complete. In this case, a deliverer can fulfill 2 orders in about 40 minutes (1 order / 30 mins was the rate before). Converting this to hours, a deliverer can now fulfill 3 orders per hour, thus changing our deliverer utilization rate from 50% to 33%. More importantly, the queue wait time decreases from 30 minutes to 10 minutes (average queue length in this scenario is ~.167 orders, which is then divided by 1 order per hour). Not only could our drivers stay more busy if arrival rates increased, but our customers would have to wait only a third of the old time (if our simple assumptions hold)!"
   ]
  },
  {
   "cell_type": "markdown",
   "id": "a5a9b321-5eca-465a-9729-8189e05418ee",
   "metadata": {},
   "source": [
    "# Optimizing Dispatch using Integer Programming"
   ]
  },
  {
   "cell_type": "markdown",
   "id": "bd23d5e3-6665-45c2-83a1-d973f04287a6",
   "metadata": {},
   "source": [
    "So far we have demonstrated from a high-level the current operations of Food-Ez: a customer places an order, the controller (using a dispatch algorithm) matches orders to restaurants and deliverers to orders such that we minimize delivery time from order placement to order delivery. To accommodate other business objectives, we need a new optimization framework for our dispatch algorithm. Once implemented, we can substitute the current dispatch algorithm for the newly enhanced one and it should fit into our control design seamlessly. Our proposed solution for accomodating multiple business objectives is **integer programming with a weighted sum score** [@Gomory1958] (Note: [@doordash_optimization_2020] uses a mixed integer program approach due to the more complex and wholistic approach to addressing the dispatch problem, but for our simple scenario, we reduce the problem to an integer program). Our formulation is found in @eq-int-1."
   ]
  },
  {
   "cell_type": "markdown",
   "id": "5fc831d7-c5b6-4534-b3fd-54505add033e",
   "metadata": {},
   "source": [
    "$$\n",
    "min \\sum_{i=1}^{N}\\sum_{j=1}^{D} c_{ij}x_{ij}\n",
    "$$\n",
    "$$\n",
    "\\sum_{j=1}^{D} x_{ij} = 1 \\; \\forall i \\in N\n",
    "$$\n",
    "$$\n",
    "\\sum_{i=1}^{N} x_{ij} \\le 2 \\; \\forall j \\in D\n",
    "$$\n",
    "$$\n",
    "c_{ij} = \\sum_{m=1}^{W} w_{m}p_{m}\n",
    "$${#eq-int-1}"
   ]
  },
  {
   "cell_type": "markdown",
   "id": "67584caa-a200-41b5-8331-b0c414f42a71",
   "metadata": {},
   "source": [
    "Let $N$ be the set of unassigned orders and let $D$ be the set of available drivers. We filter these sets such that only orders not yet assigned (orders can only be assigned and accepted once) and drivers with fewer than two active orders are considered. Once we have our viable sets, we aim to minimize the cost function (objective function) where $c_{ij}$ is the cost associated with assigning the $ith$ order to the $jth$ driver. $x_{ij}$ is the decision variable in our program, which is a binary variable of whether we assign the $ith$ order to the $jth$ driver. The cost associated with each order is determine by the last line of @eq-int-1, where we define the cost as a weighted sum of different predictors. In our scenario with Food-Ez, we define four key variables below. "
   ]
  },
  {
   "cell_type": "markdown",
   "id": "8c1ae645-1d29-4174-89f4-3ed698d6bee6",
   "metadata": {},
   "source": [
    "1. Route Time (total time duration of driver arriving to restaurant, picking up the order, and dropping off the order)\n",
    "2. Wait Time (total prep time of the order)\n",
    "3. Drive Acceptance (probability of a driving accepting an order)\n",
    "4. Driver Idleness (binary of whether or not driver has any orders or no)"
   ]
  },
  {
   "cell_type": "markdown",
   "id": "2b14cbcd-5841-4116-88e2-9e23115f10c8",
   "metadata": {},
   "source": [
    "This new approach allows us to determine which of our four factors are most pressing for our current business needs since we can adjust the weights of these accordingly and allow the objective function to recognize those changes. For the complete code up of our algorithm, see the [github repo](https://github.com/thebayesianbandit/thebayesianbandit.github.io/blob/main/posts/dispatch_alg/dispatch_alg.ipynb)."
   ]
  },
  {
   "cell_type": "code",
   "execution_count": 2,
   "id": "8c5334f7-acd5-46df-adf5-b7bcc3ede62d",
   "metadata": {
    "tags": []
   },
   "outputs": [],
   "source": [
    "#Define order class\n",
    "class Order:\n",
    "    def __init__(self, order_id, placement_time, pickup_loc, dropoff_loc, prep_time):\n",
    "        self.order_id = order_id\n",
    "        self.placement_time = placement_time\n",
    "        self.pickup_loc = pickup_loc\n",
    "        self.dropoff_loc = dropoff_loc\n",
    "        self.status = \"pending\"\n",
    "        self.prep_time = prep_time\n",
    "        \n",
    "        self.assigned_driver = None\n",
    "        self.assigned_time = None\n",
    "        self.pickup_time = None\n",
    "        self.dropoff_time = None"
   ]
  },
  {
   "cell_type": "code",
   "execution_count": 3,
   "id": "87afcb6a-cf72-4042-a485-f998f4f70ff5",
   "metadata": {
    "tags": []
   },
   "outputs": [],
   "source": [
    "#Define driver class\n",
    "class Driver:\n",
    "    def __init__(self, driver_id, current_loc, speed=2):\n",
    "        self.driver_id = driver_id\n",
    "        self.current_loc = current_loc\n",
    "        self.status = \"idle\"\n",
    "        self.speed = speed\n",
    "        \n",
    "        self.assigned_order = []\n",
    "        self.accept_prob = 0.0\n",
    "        self.last_order_time = 0.0\n",
    "        self.total_idle_time = 0.0\n",
    "        self.total_wait_time = 0.0"
   ]
  },
  {
   "cell_type": "code",
   "execution_count": 4,
   "id": "7bee19eb-797f-4fde-a985-f3223b235f8f",
   "metadata": {
    "tags": []
   },
   "outputs": [],
   "source": [
    "#Define restaurant class\n",
    "class Restaurant:\n",
    "    def __init__(self, rest_id, loc):\n",
    "        self.rest_id = rest_id\n",
    "        self.loc = loc"
   ]
  },
  {
   "cell_type": "code",
   "execution_count": 5,
   "id": "3adfc1e7-0fbc-4b81-b2ae-d7e1e9fb28c3",
   "metadata": {
    "tags": []
   },
   "outputs": [],
   "source": [
    "#Define simulation class\n",
    "class Simulation:\n",
    "    def __init__(self, num_drivers, num_rest, grid_size, \n",
    "                 order_freq, travel_time_w, wait_time_w, \n",
    "                 accept_w, idle_driver_w):\n",
    "        self.num_drivers = num_drivers\n",
    "        self.num_rest = num_rest\n",
    "        self.grid_size = grid_size\n",
    "        self.order_freq = order_freq\n",
    "        \n",
    "        self.travel_time_w = travel_time_w\n",
    "        self.wait_time_w = wait_time_w\n",
    "        self.accept_w = accept_w\n",
    "        self.idle_driver_w = idle_driver_w\n",
    "        \n",
    "        self.current_time = 0.0\n",
    "        self.order_id_counter = 0\n",
    "        self.rests = {}\n",
    "        self.orders = {}\n",
    "        self.drivers = {}\n",
    "        \n",
    "    #Calculate distance using euclidean distance\n",
    "    def calc_dist(self, loc_1, loc_2):\n",
    "        return np.sqrt((loc_1[0] - loc_2[0])**2 + (loc_1[1] - loc_2[1])**2)\n",
    "        \n",
    "    #Generate orders\n",
    "    def gen_order(self):\n",
    "        num_orders = np.random.poisson(self.order_freq)\n",
    "        \n",
    "        for i in range(num_orders):\n",
    "            placement_time = self.current_time\n",
    "            rest = np.random.choice(list(self.rests.keys()))\n",
    "            pickup_loc = self.rests[rest].loc\n",
    "            dropoff_loc = (np.random.uniform(0, self.grid_size), np.random.uniform(0, self.grid_size))\n",
    "            prep_time = np.random.gamma(3, 2)\n",
    "            \n",
    "            order = Order(self.order_id_counter, placement_time, pickup_loc, dropoff_loc, prep_time)\n",
    "            self.orders[order.order_id] = order\n",
    "            self.order_id_counter += 1\n",
    "          \n",
    "    #Generate drivers\n",
    "    def gen_driver(self):\n",
    "        for i in range(self.num_drivers):\n",
    "            driver_id = i\n",
    "            current_loc = (np.random.uniform(0, self.grid_size), np.random.uniform(0, self.grid_size))\n",
    "            speed = max(1, np.random.normal(3, 1))\n",
    "            \n",
    "            driver = Driver(driver_id, current_loc, speed)\n",
    "            self.drivers[driver.driver_id] = driver\n",
    "            \n",
    "    #Generate restaurants\n",
    "    def gen_rest(self):\n",
    "        for i in range(self.num_rest):\n",
    "            rest_id = i\n",
    "            loc = (np.random.uniform(0, self.grid_size), np.random.uniform(0, self.grid_size))\n",
    "            \n",
    "            rest = Restaurant(rest_id, loc)\n",
    "            self.rests[rest.rest_id] = rest\n",
    "            \n",
    "    #Normalize features\n",
    "    def get_scores(self, feat_dict):\n",
    "        temp_lst = []\n",
    "        scaled_dict = {}\n",
    "        \n",
    "        for o_id, d in feat_dict.items():\n",
    "            scaler = MinMaxScaler()\n",
    "            scaled_feat = scaler.fit_transform(np.array(list(d.values())).reshape(-1, 1))\n",
    "            scaled_feat = 1 - scaled_feat\n",
    "            \n",
    "            scaled_dict[o_id] = {}\n",
    "            counter = 0\n",
    "            for d_id in d.keys():\n",
    "                scaled_dict[o_id][d_id] = scaled_feat[counter][0]\n",
    "                counter += 1\n",
    "        \n",
    "        return scaled_dict\n",
    "    \n",
    "    #Weight normalized features by pre-determined weights\n",
    "    def weight_scores(self, feat_dict, w):\n",
    "        for o_id, d in feat_dict.items():\n",
    "            for d_id, v in d.items():\n",
    "                feat_dict[o_id][d_id] = v * w\n",
    "        \n",
    "        return feat_dict\n",
    "    \n",
    "    #Combine feature scores across dictionaries\n",
    "    def comb_scores(self, lst_dict):\n",
    "        agg_data = lst_dict[0].copy()\n",
    "        \n",
    "        for i in lst_dict:\n",
    "            for o_id, d in i.items():\n",
    "                for d_id, v in d.items():\n",
    "                    agg_data[o_id][d_id] += v\n",
    "        \n",
    "        return agg_data\n",
    "                 \n",
    "    #Perform distpatch operations\n",
    "    def dispatch(self):\n",
    "        orders_pending = [order_id for order_id, order in self.orders.items() if order.status == \"pending\"]\n",
    "        drivers_avail = [driver_id for driver_id, driver in self.drivers.items() if len(driver.assigned_order) < 2]\n",
    "        \n",
    "        assigned_orders = {}\n",
    "        pred_eta_dict = {}\n",
    "        pred_it_dict = {}\n",
    "        pred_accept_dict = {}\n",
    "        idle_drivers_dict = {}\n",
    "        \n",
    "        if len(drivers_avail) == 0:\n",
    "            #print(f\"No available drivers\")\n",
    "            return assigned_orders\n",
    "        \n",
    "        for order_id in orders_pending:\n",
    "            current_order = self.orders[order_id]\n",
    "            pred_eta_dict[order_id] = {}\n",
    "            pred_it_dict[order_id] = {}\n",
    "            pred_accept_dict[order_id] = {}\n",
    "            idle_drivers_dict[order_id] = {}\n",
    "            \n",
    "            for driver_id in drivers_avail:\n",
    "                current_driver = self.drivers[driver_id]\n",
    "                \n",
    "                dist_to_pickup = self.calc_dist(current_order.pickup_loc, current_driver.current_loc)\n",
    "                dist_to_dropoff = self.calc_dist(current_order.pickup_loc, current_order.dropoff_loc)\n",
    "                time_to_pickup = max(2, (dist_to_pickup / current_driver.speed) + np.random.normal(1, .2))\n",
    "                time_to_dropoff = max(2, (dist_to_dropoff / current_driver.speed) + np.random.normal(1, .2))\n",
    "                pred_eta = max(self.current_time + time_to_pickup, self.current_time + current_order.prep_time) + time_to_dropoff\n",
    "                pred_eta_dict[order_id][driver_id] = pred_eta\n",
    "                \n",
    "                idle_time = max(0, current_order.prep_time - time_to_pickup)\n",
    "                pred_it_dict[order_id][driver_id] = idle_time\n",
    "                \n",
    "                pred_accept_dict[order_id][driver_id] = -np.random.beta(5,2)\n",
    "                current_driver.accept_prob = pred_accept_dict[order_id][driver_id] * -1\n",
    "                \n",
    "                idle_drivers_dict[order_id][driver_id] = -np.where(len(current_driver.assigned_order) == 0, 1, 0).item()\n",
    "        \n",
    "        pred_eta_dict = self.get_scores(pred_eta_dict)\n",
    "        pred_it_dict = self.get_scores(pred_it_dict)\n",
    "        \n",
    "        pred_eta_dict = self.weight_scores(pred_eta_dict, self.travel_time_w)\n",
    "        pred_it_dict = self.weight_scores(pred_it_dict, self.wait_time_w)\n",
    "        pred_accept_dict = self.weight_scores(pred_accept_dict, self.accept_w)\n",
    "        idle_drivers_dict = self.weight_scores(idle_drivers_dict, self.idle_driver_w)\n",
    "        \n",
    "        scores_dict = self.comb_scores([pred_eta_dict, pred_it_dict, pred_accept_dict, idle_drivers_dict])\n",
    "        \n",
    "        prob = pulp.LpProblem(\"Dispatch_Problem\", pulp.LpMinimize)\n",
    "        x = pulp.LpVariable.dicts(\"x\", ((i, j) for i in orders_pending for j in drivers_avail), 0, 1, pulp.LpBinary)\n",
    "        x = {i: {j: x[(i, j)] for j in drivers_avail} for i in orders_pending}\n",
    "        prob += pulp.lpSum(scores_dict[i][j] * x[i][j] for i in orders_pending for j in drivers_avail), \"total_sum\"\n",
    "        \n",
    "        for i in orders_pending:\n",
    "            prob += pulp.lpSum(x[i][j] for j in drivers_avail) == 1, f\"order_{i}_assignment\"\n",
    "        for j in drivers_avail:\n",
    "            prob += pulp.lpSum(x[i][j] for i in orders_pending) <= 2, f\"max_{j}_orders\"\n",
    "            \n",
    "        prob.solve(pulp.PULP_CBC_CMD(msg=0))\n",
    "        \n",
    "        if prob.status == pulp.LpStatusOptimal:\n",
    "            #print(f\"Optimal solution found for time {self.current_time}\")\n",
    "            for i in orders_pending:\n",
    "                for j in drivers_avail:\n",
    "                    if x[i][j].varValue == 1:\n",
    "                        assigned_orders[i] = j\n",
    "        else:\n",
    "            #print(f\"No optimal solution found\")\n",
    "            pass\n",
    "        \n",
    "        return assigned_orders\n",
    "    \n",
    "    #Update driver assignments\n",
    "    def update_assign(self, assign_dict):\n",
    "        for o_id, d_id in assign_dict.items():\n",
    "            current_driver = self.drivers[d_id]\n",
    "            current_order = self.orders[o_id]\n",
    "            \n",
    "            if current_driver.accept_prob > np.random.random():\n",
    "                current_order.status = \"assigned\"\n",
    "                current_order.assigned_driver = d_id\n",
    "                current_order.assigned_time = self.current_time\n",
    "                \n",
    "                current_driver.status = \"assigned\"\n",
    "                current_driver.assigned_order.append(o_id)\n",
    "            else:\n",
    "                pass\n",
    "    \n",
    "    #Update system states\n",
    "    def update_state(self):\n",
    "        orders_assign = [order_id for order_id, order in self.orders.items() if order.status == \"assigned\"]\n",
    "        orders_route = [order_id for order_id, order in self.orders.items() if order.status == \"en route\"]\n",
    "        drivers_idle = [driver_id for driver_id, driver in self.drivers.items() if driver.status == \"idle\"]\n",
    "        \n",
    "        for order_id in orders_assign:\n",
    "            current_order = self.orders[order_id]\n",
    "            current_driver = self.drivers[current_order.assigned_driver]\n",
    "            \n",
    "            current_order.prep_time = max(0, current_order.prep_time - 1)\n",
    "            \n",
    "            dx = current_order.pickup_loc[0] - current_driver.current_loc[0]\n",
    "            dy = current_order.pickup_loc[1] - current_driver.current_loc[1]\n",
    "            \n",
    "            distance = self.calc_dist(current_order.pickup_loc, current_driver.current_loc)\n",
    "            \n",
    "            if order_id != current_driver.assigned_order[0]:\n",
    "                pass\n",
    "            \n",
    "            elif distance <= current_driver.speed and current_order.prep_time == 0:\n",
    "                current_driver.current_loc = current_order.pickup_loc\n",
    "                current_driver.status = \"en route\"\n",
    "                \n",
    "                current_order.pickup_time = self.current_time\n",
    "                current_order.status = \"en route\"\n",
    "            elif distance <= current_driver.speed:\n",
    "                current_driver.current_loc = current_order.pickup_loc\n",
    "                current_driver.total_wait_time += 1\n",
    "            else:\n",
    "                dx /= distance\n",
    "                dy /= distance\n",
    "                \n",
    "                current_driver.current_loc = (current_driver.current_loc[0] + (dx * current_driver.speed), \n",
    "                                              current_driver.current_loc[1] + (dy * current_driver.speed))\n",
    "            \n",
    "        for order_id in orders_route:\n",
    "            current_order = self.orders[order_id]\n",
    "            current_driver = self.drivers[current_order.assigned_driver]\n",
    "           \n",
    "            dx = current_order.dropoff_loc[0] - current_driver.current_loc[0]\n",
    "            dy = current_order.dropoff_loc[1] - current_driver.current_loc[1]\n",
    "            \n",
    "            distance = self.calc_dist(current_order.dropoff_loc, current_driver.current_loc)\n",
    "            \n",
    "            if distance <= current_driver.speed and len(current_driver.assigned_order) < 2:\n",
    "                current_driver.current_loc = current_order.dropoff_loc\n",
    "                current_driver.status = \"idle\"\n",
    "                current_driver.last_order_time = self.current_time\n",
    "                current_driver.assigned_order.pop(0)\n",
    "                \n",
    "                current_order.status = \"delivered\"\n",
    "                current_order.dropoff_time = self.current_time\n",
    "            elif distance <= current_driver.speed:\n",
    "                current_driver.current_loc = current_order.dropoff_loc\n",
    "                current_driver.status = \"assigned\"\n",
    "                current_driver.last_order_time = self.current_time\n",
    "                current_driver.assigned_order.pop(0)\n",
    "                \n",
    "                current_order.status = \"delivered\"\n",
    "                current_order.dropoff_time = self.current_time\n",
    "            else:\n",
    "                dx /= distance\n",
    "                dy /= distance\n",
    "                \n",
    "                current_driver.current_loc = (current_driver.current_loc[0] + (dx * current_driver.speed), \n",
    "                                              current_driver.current_loc[1] + (dy * current_driver.speed))\n",
    "        \n",
    "        for driver_id in drivers_idle:\n",
    "            current_driver = self.drivers[driver_id]\n",
    "            current_driver.total_idle_time += 1\n",
    "            \n",
    "    def run(self, sim_duration):\n",
    "        print(f\"Starting simulation for {sim_duration} minutes\")\n",
    "        np.random.seed(42)\n",
    "        self.gen_driver()\n",
    "        self.gen_rest()\n",
    "        \n",
    "        while self.current_time < sim_duration:\n",
    "            np.random.seed(42)\n",
    "            self.gen_order()\n",
    "            dispatch_dict = self.dispatch()\n",
    "            self.update_assign(dispatch_dict)\n",
    "            self.update_state()\n",
    "            # if self.current_time % 10 == 0:\n",
    "            #     for i, j in self.orders.items():\n",
    "            #         print(f\"Order {i} status: {j.status}\")\n",
    "            #     print(\"\\n\")\n",
    "            self.current_time += 1\n",
    "            "
   ]
  },
  {
   "cell_type": "markdown",
   "id": "fd39184a-39c9-4afe-9108-d45d3b830a90",
   "metadata": {},
   "source": [
    "# Simulation Results"
   ]
  },
  {
   "cell_type": "markdown",
   "id": "e4aea021-da17-4cea-904d-40f60e3ade39",
   "metadata": {},
   "source": [
    "We have successfully defined a new approach for our Food-Ez dispatch algorithm. To assess its efficacy in real-world scenarios, we designed a simulation to test it. We ran 5 simulations for 120 iterations (120 simulation \"minutes\"). The simulation parameters consist of the following: number of drivers (which we hold constant throughout), number of restaurants, grid size of city, order arrival rate, route time weight, wait time weight, driver acceptance weight, and driver idleness weight. Each simulation with their respective parameters are found below."
   ]
  },
  {
   "cell_type": "markdown",
   "id": "f3db85b0-5bb8-4b8d-8013-8a007a8bc284",
   "metadata": {},
   "source": [
    "1. Simulation(10, 10, 5, 1, .5, .2, .1, .2)\n",
    "2. Simulation(5, 10, 5, 1, .5, .2, .1, .2)\n",
    "3. Simulation(10, 10, 5, 1, .05, .7, .05, .2)\n",
    "4. Simulation(10, 10, 5, 1, .25, .25, .25, .25)\n",
    "5. Simulation(10, 10, 5, 1, .8, .05, .1, .05)"
   ]
  },
  {
   "cell_type": "markdown",
   "id": "23e55768-5402-4e2d-8c40-664e40177e26",
   "metadata": {},
   "source": [
    "For example, simulation 1 has 10 drivers with 10 restaurants, a city that is 5x5 units, an order arrival rate of 1 (per minute), .5 weight on route time, .2 weight on wait time, .1 weight on driver acceptance, and .2 weight on driver idleness. The results of each simulation is found below in @tbl-res-1. (Note: we ran each simulation with the same random seed settings for consistency in comparison)."
   ]
  },
  {
   "cell_type": "code",
   "execution_count": 6,
   "id": "56dd6b8d-998c-49ac-a6bb-8f21e8f5cf15",
   "metadata": {
    "tags": []
   },
   "outputs": [],
   "source": [
    "#Define simulations\n",
    "sim_1 = Simulation(10, 10, 5, 1, .5, .2, .1, .2)\n",
    "sim_2 = Simulation(5, 10, 5, 1, .5, .2, .1, .2)\n",
    "sim_3 = Simulation(10, 10, 5, 1, .05, .7, .05, .2)\n",
    "sim_4 = Simulation(10, 10, 5, 1, .25, .25, .25, .25)\n",
    "sim_5 = Simulation(10, 10, 5, 1, .8, .05, .1, .05)"
   ]
  },
  {
   "cell_type": "code",
   "execution_count": 7,
   "id": "d6231eb4-27ca-434f-9369-9d7ca0212e9b",
   "metadata": {
    "scrolled": true,
    "tags": []
   },
   "outputs": [
    {
     "name": "stdout",
     "output_type": "stream",
     "text": [
      "Starting simulation for 120 minutes\n",
      "Starting simulation for 120 minutes\n",
      "Starting simulation for 120 minutes\n",
      "Starting simulation for 120 minutes\n",
      "Starting simulation for 120 minutes\n"
     ]
    }
   ],
   "source": [
    "#| output: false\n",
    "\n",
    "#Run simulations\n",
    "sim_1.run(120)\n",
    "sim_2.run(120)\n",
    "sim_3.run(120)\n",
    "sim_4.run(120)\n",
    "sim_5.run(120)"
   ]
  },
  {
   "cell_type": "code",
   "execution_count": 8,
   "id": "7e5106ab-8846-4961-855d-f7e829c3ea39",
   "metadata": {
    "tags": []
   },
   "outputs": [],
   "source": [
    "#Define function for reporting simulation statistics\n",
    "def get_sum_stats(sim_object):\n",
    "    status_counts = {\n",
    "        \"# orders\": 0,\n",
    "        \"pending\": 0,\n",
    "        \"assigned\": 0,\n",
    "        \"en route\": 0,\n",
    "        \"delivered\": 0\n",
    "    }\n",
    "\n",
    "    for i, j in sim_object.orders.items():\n",
    "        status_counts[j.status] += 1\n",
    "        status_counts[\"# orders\"] += 1\n",
    "    print(f\"Order Status Summary: {status_counts}\")\n",
    "    \n",
    "    total_wait_time = 0\n",
    "    total_idle_time = 0\n",
    "    \n",
    "    for i, j in sim_object.drivers.items():\n",
    "        total_wait_time += j.total_wait_time\n",
    "        total_idle_time += j.total_idle_time\n",
    "    print(f\"Average Driver Wait Time: {total_wait_time / len(sim_object.drivers.keys()):.2f}\")\n",
    "    print(f\"Average Driver Idle Time: {total_idle_time / len(sim_object.drivers.keys()):.2f}\")\n",
    "    \n",
    "    total_time_pick = 0\n",
    "    total_time_drop = 0\n",
    "    total_time_route = 0\n",
    "    total_time_pending = 0\n",
    "    delivered_ids = []\n",
    "    en_route_ids = []\n",
    "    assigned_ids = []\n",
    "\n",
    "    for i, j in sim_object.orders.items():\n",
    "        if j.status == \"delivered\":\n",
    "            total_time_pick += (j.pickup_time - j.assigned_time)\n",
    "            total_time_drop += (j.dropoff_time - j.pickup_time)\n",
    "            total_time_route += (j.dropoff_time - j.assigned_time)\n",
    "            total_time_pending += (j.assigned_time - j.placement_time)\n",
    "            \n",
    "            delivered_ids.append(i)\n",
    "            en_route_ids.append(i)\n",
    "            assigned_ids.append(i)\n",
    "        elif j.status == \"en route\":\n",
    "            total_time_pick += (j.pickup_time - j.assigned_time)\n",
    "            total_time_pending += (j.assigned_time - j.placement_time)\n",
    "            \n",
    "            en_route_ids.append(i)\n",
    "            assigned_ids.append(i)\n",
    "        elif j.status == \"assigned\":\n",
    "            total_time_pending += (j.assigned_time - j.placement_time)\n",
    "            assigned_ids.append(i)\n",
    "    print(f\"Average Time To Pickup: {total_time_pick / len(en_route_ids):.2f}\")\n",
    "    print(f\"Average Time To Dropoff: {total_time_drop / len(delivered_ids):.2f}\")\n",
    "    print(f\"Average Time Of Total Route: {total_time_route / len(delivered_ids):.2f}\")\n",
    "    print(f\"Average Time Pending: {total_time_pending / len(assigned_ids):.2f}\")"
   ]
  },
  {
   "cell_type": "code",
   "execution_count": 9,
   "id": "0a50cb0f-397f-4ff9-b7ce-e9b07e18b8ad",
   "metadata": {
    "tags": []
   },
   "outputs": [
    {
     "name": "stdout",
     "output_type": "stream",
     "text": [
      "Order Status Summary: {'# orders': 120, 'pending': 0, 'assigned': 7, 'en route': 1, 'delivered': 112}\n",
      "Average Driver Wait Time: 21.50\n",
      "Average Driver Idle Time: 59.50\n",
      "Average Time To Pickup: 6.78\n",
      "Average Time To Dropoff: 1.73\n",
      "Average Time Of Total Route: 8.52\n",
      "Average Time Pending: 0.40\n"
     ]
    }
   ],
   "source": [
    "#| output: false\n",
    "\n",
    "#Show stats for sim 1\n",
    "get_sum_stats(sim_1)"
   ]
  },
  {
   "cell_type": "code",
   "execution_count": 10,
   "id": "a616f852-f049-472e-ae74-6d566b5524db",
   "metadata": {},
   "outputs": [
    {
     "name": "stdout",
     "output_type": "stream",
     "text": [
      "Order Status Summary: {'# orders': 120, 'pending': 0, 'assigned': 6, 'en route': 1, 'delivered': 113}\n",
      "Average Driver Wait Time: 71.40\n",
      "Average Driver Idle Time: 2.80\n",
      "Average Time To Pickup: 6.00\n",
      "Average Time To Dropoff: 1.00\n",
      "Average Time Of Total Route: 7.00\n",
      "Average Time Pending: 0.00\n"
     ]
    }
   ],
   "source": [
    "#| output: false\n",
    "\n",
    "#Show stats for sim 2\n",
    "get_sum_stats(sim_2)"
   ]
  },
  {
   "cell_type": "code",
   "execution_count": 11,
   "id": "53b4c59f-3869-4d3a-8662-6988030a1f27",
   "metadata": {
    "tags": []
   },
   "outputs": [
    {
     "name": "stdout",
     "output_type": "stream",
     "text": [
      "Order Status Summary: {'# orders': 120, 'pending': 0, 'assigned': 7, 'en route': 1, 'delivered': 112}\n",
      "Average Driver Wait Time: 53.20\n",
      "Average Driver Idle Time: 41.30\n",
      "Average Time To Pickup: 6.24\n",
      "Average Time To Dropoff: 1.13\n",
      "Average Time Of Total Route: 7.38\n",
      "Average Time Pending: 0.42\n"
     ]
    }
   ],
   "source": [
    "#| output: false\n",
    "\n",
    "#Show stats for sim 3\n",
    "get_sum_stats(sim_3)"
   ]
  },
  {
   "cell_type": "code",
   "execution_count": 12,
   "id": "a2cb995c-302c-4497-8e37-999b933908da",
   "metadata": {
    "tags": []
   },
   "outputs": [
    {
     "name": "stdout",
     "output_type": "stream",
     "text": [
      "Order Status Summary: {'# orders': 120, 'pending': 0, 'assigned': 7, 'en route': 1, 'delivered': 112}\n",
      "Average Driver Wait Time: 31.90\n",
      "Average Driver Idle Time: 51.00\n",
      "Average Time To Pickup: 6.32\n",
      "Average Time To Dropoff: 1.64\n",
      "Average Time Of Total Route: 7.96\n",
      "Average Time Pending: 0.25\n"
     ]
    }
   ],
   "source": [
    "#| output: false\n",
    "\n",
    "#Show stats for sim 4\n",
    "get_sum_stats(sim_4)"
   ]
  },
  {
   "cell_type": "code",
   "execution_count": 13,
   "id": "30a730ed-636b-49f6-899a-ae1811954184",
   "metadata": {
    "tags": []
   },
   "outputs": [
    {
     "name": "stdout",
     "output_type": "stream",
     "text": [
      "Order Status Summary: {'# orders': 120, 'pending': 1, 'assigned': 6, 'en route': 2, 'delivered': 111}\n",
      "Average Driver Wait Time: 19.40\n",
      "Average Driver Idle Time: 61.00\n",
      "Average Time To Pickup: 6.73\n",
      "Average Time To Dropoff: 1.76\n",
      "Average Time Of Total Route: 8.50\n",
      "Average Time Pending: 0.32\n"
     ]
    }
   ],
   "source": [
    "#| output: false\n",
    "\n",
    "#Show stats for sim 5\n",
    "get_sum_stats(sim_5)"
   ]
  },
  {
   "cell_type": "markdown",
   "id": "c4be6893-c11b-45c8-bc3b-18b7e14b3466",
   "metadata": {},
   "source": [
    "| Simulation | Orders | Pending | Assigned | En Route | Delivered | Avg Driver Wait Time | Avg Driver Idle Time | Avg Time To Pickup | Avg Time To Dropoff | Avg Time Of Total Route | Avg Time Pending |\n",
    "|:----------:|:------:|:-------:|:--------:|:--------:|:---------:|:--------------------:|:--------------------:|:------------------:|:-------------------:|:-----------------------:|:----------------:|\n",
    "| 1          | 120    | 0       | 7        | 1        | 112       | 21.50                | 59.50                | 6.78               | 1.73                | 8.52                    | 0.40             |\n",
    "| 2          | 120    | 0       | 6        | 1        | 113       | 71.40                | 2.80                 | 6.00               | 1.00                | 7.00                    | 0.00             |\n",
    "| 3          | 120    | 0       | 7        | 1        | 112       | 53.20                | 41.30                | 6.24               | 1.13                | 7.38                    | 0.42             |\n",
    "| 4          | 120    | 0       | 7        | 1        | 112       | 31.90                | 51.00                | 6.32               | 1.64                | 7.96                    | 0.25             |\n",
    "| 5          | 120    | 1       | 6        | 2        | 111       | 19.40                | 61.00                | 6.73               | 1.76                | 8.50                    | 0.32             |\n",
    "\n",
    ": Simulation Results {#tbl-res-1}"
   ]
  },
  {
   "cell_type": "markdown",
   "id": "5bfbd4ba-5831-4ca6-a55a-7c2574275df4",
   "metadata": {},
   "source": [
    "From @tbl-res-1, the number of deliveries performed appear to be consistent even with the change of parameter weights. This is a nice observation since simulation 2 had half of the drivers that the other simulations had, but delivered the most orders. Furthermore, simulation 2 shows that drivers were used efficiently as most drivers were only idle for on about 3 minutes on average, compared to the other simulations that had far more idle time. We continue to see this trend in other metrics for simulation 2. Simulation 2 had the lowest average time to dropoff, lowest average time of total route, and even lowest pending time for orders in the queue. Further investigation is needed to see what the optimal driver supply would be in different scenarios, but this is a telling sign at the moment that our new algorithm utilizes driver supply more efficiently."
   ]
  },
  {
   "cell_type": "markdown",
   "id": "1cfd569b-32bb-483b-968e-dcdd2de006d0",
   "metadata": {},
   "source": [
    "There are many other interesting findings from these 5 simulations, but we will leave these to the reader to discover. "
   ]
  },
  {
   "cell_type": "markdown",
   "id": "4f4447c2-f006-41b8-9722-324c415fb0a4",
   "metadata": {},
   "source": [
    "# Conclusion"
   ]
  },
  {
   "cell_type": "markdown",
   "id": "3b4ccdbd-24d2-4618-b247-cfc36484aa2e",
   "metadata": {},
   "source": [
    "In this post, we presented a business case where a food-delivery company, Food-Ez, is looking to optimize their dispatch algorithm to accomodate more business objectives. We then walked through how this problem can be designed as a control problem and identified the system to be controlled, the feedback data needed to control it, and how to design our controller. "
   ]
  },
  {
   "cell_type": "markdown",
   "id": "f735a214-560a-4947-9ba2-3ec8d751bb09",
   "metadata": {},
   "source": [
    "Our controller in this scenario is the dispatch algorithm itself, designed to more efficiently assign orders by raising the limit on orders a driver can carry along with other business objectives within our objective function. To do this, we changed our algorithm foundation from a bipartite matching problem to an integer programming program. We formulated how we would minimize this new objective function and designed a simulation to demonstrate the usefulness of it."
   ]
  },
  {
   "cell_type": "markdown",
   "id": "da2cd39a-64d7-4e6d-8275-ad96c450f98d",
   "metadata": {},
   "source": [
    "Next steps would include further simulations with more \"real-world\" dynamics involved and potential experimentation using things like switchback experiments. Overall, we hope this post demonstrated key frameworks that one can use in designing real-world applications to enhance operational efficiency for businesses."
   ]
  }
 ],
 "metadata": {
  "kernelspec": {
   "display_name": "Python 3 (ipykernel)",
   "language": "python",
   "name": "python3"
  },
  "language_info": {
   "codemirror_mode": {
    "name": "ipython",
    "version": 3
   },
   "file_extension": ".py",
   "mimetype": "text/x-python",
   "name": "python",
   "nbconvert_exporter": "python",
   "pygments_lexer": "ipython3",
   "version": "3.10.9"
  }
 },
 "nbformat": 4,
 "nbformat_minor": 5
}
