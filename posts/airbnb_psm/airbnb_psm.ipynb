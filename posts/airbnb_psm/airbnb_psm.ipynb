{
 "cells": [
  {
   "cell_type": "raw",
   "id": "7588c909-76ef-45fa-b02a-0c8714a20351",
   "metadata": {},
   "source": [
    "---\n",
    "title: \"Air PSM: Measuring the effects of dynamic pricing on host revenue\"\n",
    "draft: false\n",
    "toc: true\n",
    "author: \"Brandon Scott\"\n",
    "date: \"2025-09-25\"\n",
    "number-sections: false\n",
    "categories: [operations, marketing, causal inference, python]\n",
    "execute:\n",
    "    echo: false\n",
    "    warning: false\n",
    "crossref:\n",
    "    chapters: true\n",
    "format:\n",
    "    html:\n",
    "        code-fold: false\n",
    "jupyter: python3\n",
    "bibliography: ../../references.bib\n",
    "csl: ../../ieee.csl\n",
    "---"
   ]
  },
  {
   "cell_type": "code",
   "execution_count": 1,
   "id": "c53fc4cc-b701-4086-9372-6ce0a127f7fb",
   "metadata": {
    "tags": []
   },
   "outputs": [],
   "source": [
    "import pandas as pd\n",
    "import numpy as np\n",
    "import matplotlib.pyplot as plt\n",
    "import seaborn as sns\n",
    "import graphviz as gr\n",
    "\n",
    "import statsmodels.formula.api as smf\n",
    "\n",
    "from sklearn.linear_model import LogisticRegression\n",
    "\n",
    "from causalinference import CausalModel"
   ]
  },
  {
   "cell_type": "markdown",
   "id": "1471162f-4167-40a8-b112-eb8977f4945c",
   "metadata": {},
   "source": [
    "# Abstract"
   ]
  },
  {
   "cell_type": "markdown",
   "id": "5ee520b6-fe64-430d-a2ed-cc80f0cf8fa1",
   "metadata": {},
   "source": [
    "A core component of vacation planning is reserving accommodations for the duration of a stay. Many vacationers use platforms like Airbnb to immerse themselves in the local experience. Since all listings on Airbnb are owned by hosts, hosts are charged with setting prices for their respective listings. To help with this, Airbnb developed Smart Pricing to dynamically set prices for hosts. Though this tool is available to all hosts, some hosts for different reasons choose to continue to set their own prices. This scenario allows us to perform a \"natural experiment\" using causal inference techniques to measure the causal impact of the Smart Pricing tool on host revenue. Specifically, we use propensity score matching (PSM) to identify the causal effect of hosts using vs not using dynamic pricing. "
   ]
  },
  {
   "cell_type": "markdown",
   "id": "6894167d-5db8-4fca-87a3-b39c4ad22a0a",
   "metadata": {},
   "source": [
    "# Introduction"
   ]
  },
  {
   "cell_type": "markdown",
   "id": "333d894c-4f62-428e-9fe3-595c999b77ac",
   "metadata": {},
   "source": [
    "**Airbnb** was founded in 2007 by Brian Chesky and Joe Gebbia. Brian and Joe were short on rent and needed supplemental income to make ends meet. As luck would have it, there was a large conference happening in San Francisco at the time. Brian and Joe decided to \"rent\" out their living room to conference goers at a fraction of a price of hotels. They provided air mattresses and breakfast for their guests. From this idea, Brian and Joe set out to solve the problem of helping travelers find alternative dwelling arrangements when hotels were at capacity. "
   ]
  },
  {
   "cell_type": "markdown",
   "id": "8b4cf73e-6bea-4296-8896-a798874d7243",
   "metadata": {},
   "source": [
    "Now, 18 years later, Airbnb is the largest home rental platform in the world. With over 5 million hosts, 8 million listings, and 200 million users. Though at times controversial, Airbnb has revolutionized the travel industry. "
   ]
  },
  {
   "cell_type": "markdown",
   "id": "0a20b5e5-db89-42bb-a739-88a2e099ac93",
   "metadata": {},
   "source": [
    "## Airbnb as a Platform"
   ]
  },
  {
   "cell_type": "markdown",
   "id": "f0b39c3b-4d3e-4310-9d76-5252bec9efa6",
   "metadata": {},
   "source": [
    "Airbnb can be described as a platform that connects two sides of a market: hosts and guests. Hosts provide the supply by listing their dwellings for rent, while guests create the demand with their preferences for locations, dates, and other criteria. The goal of Airbnb is to help both hosts and guests have \"good\" experiences on the platform by ensuring that hosts' dwellings are rented and that guests' preferences are met. This cycle is illustrated in Figure @fig-air-1."
   ]
  },
  {
   "cell_type": "markdown",
   "id": "6372589f-c93b-4771-b88f-87cfb6cfe0a4",
   "metadata": {},
   "source": [
    "![Airbnb Platform](https://fourweekmba.com/airbnb-business-model/airbnb-business-model-3/){#fig-air-1}"
   ]
  },
  {
   "cell_type": "markdown",
   "id": "c150e3f3-0476-4eba-8d88-c941620564dc",
   "metadata": {},
   "source": [
    "Platform businesses like Airbnb face the \"chicken or the egg\" problem. Guests want to find the right dwelling for their trip, which requires an adequate supply to meet their needs. Likewise, hosts want their dwellings to be rented so they can earn money. Each side of the market is dependent on the other to fulfill its role. Airbnb acts as the \"mediator\" by attempting to balance this marketplace through various actions like incentives, policies, and technology tools."
   ]
  },
  {
   "cell_type": "markdown",
   "id": "c1c6b412-101b-43b9-ba56-7a02cd0b9bb5",
   "metadata": {},
   "source": [
    "# Modeling Market Dynamics"
   ]
  },
  {
   "cell_type": "markdown",
   "id": "b9f02c52-776c-4855-8977-9055cbc406af",
   "metadata": {},
   "source": [
    "Ensuring the platform runs at peak efficiency is paramount to Airbnb. To do this, we can create models to approximate different market dynamics. For example, [@srinivasan2018] models the lead time of bookings for more robust host pricing mechanisms. "
   ]
  },
  {
   "cell_type": "markdown",
   "id": "b747c4fe-a6fa-4bd5-b3de-0c17290c9f7c",
   "metadata": {},
   "source": [
    "There are a plethora of different market dynamics that we can model on a platform like Airbnb. However, the dynamics of most interest to Airbnb are the ones we can control. That is, what are the different levers we can adjust to make the market behave as we desire? This area is known as causal inference."
   ]
  },
  {
   "cell_type": "markdown",
   "id": "5d8533c0-76ff-48f6-ae79-1c6ae67ecf9d",
   "metadata": {},
   "source": [
    "In this post, we focus our causal modeling on the relationship between host revenue earned and the use of Airbnb's dynamic pricing tool, Smart Pricing."
   ]
  },
  {
   "cell_type": "markdown",
   "id": "59b23748-110d-43a1-b254-8d70c315a1cd",
   "metadata": {},
   "source": [
    "## Dynamic Pricing for Hosts"
   ]
  },
  {
   "cell_type": "markdown",
   "id": "b2f493ea-a18b-4ecf-8334-8585af839010",
   "metadata": {},
   "source": [
    "According to microeconomic theory, price is determined by the supply and demand of a marketplace. Someone trained in economic theory could develop models to understand the trend, seasonality, and other factors that affect supply and demand to best price their product. However, most hosts on Airbnb are not trained economists (and even if they were, they don't have the time or data to model the market). Thus, knowing a good price point to maximize revenue while minimizing lost booking opportunities is a difficult problem."
   ]
  },
  {
   "cell_type": "markdown",
   "id": "6e75846d-a92d-4cf6-8b95-036234bb4db9",
   "metadata": {},
   "source": [
    "To reduce this friction for hosts, Airbnb developed Smart Pricing to optimally set prices for hosts based on their developed models. This tool is available to all hosts on the platform. Even though it is freely available, not all hosts use the tool. For example, some hosts may be more aggresive in pricing and want to capture more revenue per booking. "
   ]
  },
  {
   "cell_type": "markdown",
   "id": "43b451f4-7012-4a8f-b560-a95ef6ec4f89",
   "metadata": {},
   "source": [
    "For Airbnb, an important question is whether there is a true difference in host revenue between those who use Smart Pricing and those who do not. In most scenarios, we would want to run a randomized experiment to easily measure a causal effect. This is no longer feasible since the feature has been rolled out for some time. However, this scenario allows us to analyze a \"natural experiment.\" If we can adjust for the confounding effects of those who opted into the treatment (those who use Smart Pricing) and those who chose not to (those who set their own prices), we can potentially extract a quantified causal effect of dynamic pricing on host revenue."
   ]
  },
  {
   "cell_type": "markdown",
   "id": "87ca50d0-88eb-4b1b-80f8-680b5be98655",
   "metadata": {},
   "source": [
    "# Causal Inference"
   ]
  },
  {
   "cell_type": "markdown",
   "id": "3c257c65-a258-444b-99c6-2e36df4e8237",
   "metadata": {},
   "source": [
    "## Propensity Score Matching"
   ]
  },
  {
   "cell_type": "markdown",
   "id": "e559cf5f-4c3d-4857-934a-f8eacbf45723",
   "metadata": {},
   "source": [
    "Finding causal effects in observational is difficult due to the presence of potential confounders. In randomized control trials like A/B tests, we control for these confounders by isolating the effects of a given treatment through random assignment. In observational studies, we can attempt to control these confounders by balancing the distribution of confounders between \"treatment\" and \"control groups. To do this, we'll use **propensity score matching (PSM)** [@rosenbaum1983]."
   ]
  },
  {
   "cell_type": "markdown",
   "id": "eba472a6-107f-4f83-a59b-4fc913801782",
   "metadata": {},
   "source": [
    "Propensity Score Matching (PSM) uses the theory that we can control for confounders by matching individuals from both the treated group and the untreated group who have a relatively similar probability of receiving the treatment. In our case, this would involve matching hosts who use Smart Pricing with those who do not, based on their similar probabilities of using Smart Pricing. The flow of causality in this model is shown in @fig-dag-1."
   ]
  },
  {
   "cell_type": "code",
   "execution_count": 2,
   "id": "1642b0b4-8ca7-4834-b76e-05fec43be0d9",
   "metadata": {
    "tags": []
   },
   "outputs": [
    {
     "data": {
      "image/svg+xml": [
       "<?xml version=\"1.0\" encoding=\"UTF-8\" standalone=\"no\"?>\n",
       "<!DOCTYPE svg PUBLIC \"-//W3C//DTD SVG 1.1//EN\"\n",
       " \"http://www.w3.org/Graphics/SVG/1.1/DTD/svg11.dtd\">\n",
       "<!-- Generated by graphviz version 2.43.0 (0)\n",
       " -->\n",
       "<!-- Title: %3 Pages: 1 -->\n",
       "<svg width=\"94pt\" height=\"260pt\"\n",
       " viewBox=\"0.00 0.00 93.60 260.00\" xmlns=\"http://www.w3.org/2000/svg\" xmlns:xlink=\"http://www.w3.org/1999/xlink\">\n",
       "<g id=\"graph0\" class=\"graph\" transform=\"scale(1 1) rotate(0) translate(4 256)\">\n",
       "<title>%3</title>\n",
       "<polygon fill=\"white\" stroke=\"transparent\" points=\"-4,4 -4,-256 89.6,-256 89.6,4 -4,4\"/>\n",
       "<!-- T -->\n",
       "<g id=\"node1\" class=\"node\">\n",
       "<title>T</title>\n",
       "<ellipse fill=\"none\" stroke=\"black\" cx=\"56\" cy=\"-90\" rx=\"27\" ry=\"18\"/>\n",
       "<text text-anchor=\"middle\" x=\"56\" y=\"-86.3\" font-family=\"Times,serif\" font-size=\"14.00\">T</text>\n",
       "</g>\n",
       "<!-- Y -->\n",
       "<g id=\"node2\" class=\"node\">\n",
       "<title>Y</title>\n",
       "<ellipse fill=\"none\" stroke=\"black\" cx=\"27\" cy=\"-18\" rx=\"27\" ry=\"18\"/>\n",
       "<text text-anchor=\"middle\" x=\"27\" y=\"-14.3\" font-family=\"Times,serif\" font-size=\"14.00\">Y</text>\n",
       "</g>\n",
       "<!-- T&#45;&gt;Y -->\n",
       "<g id=\"edge1\" class=\"edge\">\n",
       "<title>T&#45;&gt;Y</title>\n",
       "<path fill=\"none\" stroke=\"black\" d=\"M49.13,-72.41C45.73,-64.22 41.56,-54.14 37.75,-44.95\"/>\n",
       "<polygon fill=\"black\" stroke=\"black\" points=\"40.88,-43.37 33.82,-35.47 34.42,-46.05 40.88,-43.37\"/>\n",
       "</g>\n",
       "<!-- X -->\n",
       "<g id=\"node3\" class=\"node\">\n",
       "<title>X</title>\n",
       "<ellipse fill=\"none\" stroke=\"black\" cx=\"28\" cy=\"-234\" rx=\"27\" ry=\"18\"/>\n",
       "<text text-anchor=\"middle\" x=\"28\" y=\"-230.3\" font-family=\"Times,serif\" font-size=\"14.00\">X</text>\n",
       "</g>\n",
       "<!-- X&#45;&gt;Y -->\n",
       "<g id=\"edge2\" class=\"edge\">\n",
       "<title>X&#45;&gt;Y</title>\n",
       "<path fill=\"none\" stroke=\"black\" d=\"M24.35,-215.91C22.32,-205.57 20.02,-192.09 19,-180 17.65,-163.93 18.85,-87.88 20,-72 20.62,-63.54 21.68,-54.36 22.8,-46.06\"/>\n",
       "<polygon fill=\"black\" stroke=\"black\" points=\"26.27,-46.53 24.22,-36.13 19.34,-45.54 26.27,-46.53\"/>\n",
       "</g>\n",
       "<!-- e(x) -->\n",
       "<g id=\"node4\" class=\"node\">\n",
       "<title>e(x)</title>\n",
       "<ellipse fill=\"none\" stroke=\"black\" cx=\"57\" cy=\"-162\" rx=\"28.7\" ry=\"18\"/>\n",
       "<text text-anchor=\"middle\" x=\"57\" y=\"-158.3\" font-family=\"Times,serif\" font-size=\"14.00\">e(x)</text>\n",
       "</g>\n",
       "<!-- X&#45;&gt;e(x) -->\n",
       "<g id=\"edge3\" class=\"edge\">\n",
       "<title>X&#45;&gt;e(x)</title>\n",
       "<path fill=\"none\" stroke=\"black\" d=\"M34.87,-216.41C38.22,-208.34 42.32,-198.43 46.08,-189.35\"/>\n",
       "<polygon fill=\"black\" stroke=\"black\" points=\"49.38,-190.53 49.98,-179.96 42.91,-187.86 49.38,-190.53\"/>\n",
       "</g>\n",
       "<!-- e(x)&#45;&gt;T -->\n",
       "<g id=\"edge4\" class=\"edge\">\n",
       "<title>e(x)&#45;&gt;T</title>\n",
       "<path fill=\"none\" stroke=\"black\" d=\"M56.75,-143.7C56.64,-135.98 56.51,-126.71 56.39,-118.11\"/>\n",
       "<polygon fill=\"black\" stroke=\"black\" points=\"59.89,-118.05 56.24,-108.1 52.89,-118.15 59.89,-118.05\"/>\n",
       "</g>\n",
       "</g>\n",
       "</svg>\n"
      ],
      "text/plain": [
       "<graphviz.graphs.Digraph at 0x7833157aaad0>"
      ]
     },
     "execution_count": 2,
     "metadata": {},
     "output_type": "execute_result"
    }
   ],
   "source": [
    "#| label: fig-dag-1\n",
    "#| fig-cap: DAG for a simple PSM\n",
    "\n",
    "g = gr.Digraph()\n",
    "g.edge(\"T\", \"Y\")\n",
    "g.edge(\"X\", \"Y\")\n",
    "g.edge(\"X\", \"e(x)\")\n",
    "g.edge(\"e(x)\", \"T\")\n",
    "g"
   ]
  },
  {
   "cell_type": "markdown",
   "id": "162c965a-61c4-4eca-89e7-182aa7b08a9a",
   "metadata": {},
   "source": [
    "$e(x)$ is the **propensity score** that we calculate for each individual. With it, we can say that certain features $X$ are a cause of an individuals propensity score, which in turn determines if they use the treatment which ultimately determines the response variable $Y$. The propensity score is the conditional probability of receiving the treatment given certain features $X$. This formula is shown in @eq-prop-1."
   ]
  },
  {
   "cell_type": "markdown",
   "id": "1683664e-252f-4889-a4ec-41678661f7fb",
   "metadata": {},
   "source": [
    "$$\n",
    "e(x) = Pr(T=1|X=x)\n",
    "$${#eq-prop-1}"
   ]
  },
  {
   "cell_type": "markdown",
   "id": "ed80aff8-6137-41e3-8825-d18f8ef9b5d2",
   "metadata": {},
   "source": [
    "Once we generate propensity scores for individuals within our dataset, we match them based on an arbitraty distance criteria that finds the minimum distance between individuals based on propensity scores. In our analysis, we use the KNN algorithm. After creating the matches, we can then calculate our causal estimate, the **average treatment effect (ATE)** (assuming our PSM keeps essential causal model assumptions intact). "
   ]
  },
  {
   "cell_type": "markdown",
   "id": "7e99d46e-b4dd-4ead-88f3-8cc91bf64326",
   "metadata": {},
   "source": [
    "## EDA"
   ]
  },
  {
   "cell_type": "code",
   "execution_count": 3,
   "id": "bbffc722-5643-463c-bc38-e08ab52b4544",
   "metadata": {
    "tags": []
   },
   "outputs": [],
   "source": [
    "#Define data generating function\n",
    "def gen_data(n_obs, r_seed=42):\n",
    "    np.random.seed(r_seed)\n",
    "    \n",
    "    data_dict = {\n",
    "        'host_id': [],\n",
    "        'yrs_host': [],\n",
    "        'gender': [],\n",
    "        'use_smart': [],\n",
    "        'avg_revenue': []\n",
    "    }\n",
    "    \n",
    "    true_params = {\n",
    "        'true_yrs': 20,\n",
    "        'true_bed': 10,\n",
    "        'true_bath': 15,\n",
    "        'true_gender_f': 5,\n",
    "        'true_treat': 12\n",
    "    }\n",
    "    \n",
    "    for i in range(n_obs):\n",
    "        yrs_host = round(np.random.lognormal(.5, .3))\n",
    "        num_beds = 2\n",
    "        num_bath = 1\n",
    "        gender = np.random.choice(['m', 'f'])\n",
    "        treat = np.random.choice([True, False])\n",
    "        \n",
    "        avg_rev = ((true_params['true_yrs'] * yrs_host) + (true_params['true_bed'] * num_beds) + (true_params['true_bath'] * num_bath) \n",
    "                  + (true_params['true_gender_f']) * np.where(gender == 'f', 1, 0) + (true_params['true_treat'] * treat) + np.random.normal(5, 2)) \n",
    "        \n",
    "        data_dict['host_id'].append(i)\n",
    "        data_dict['yrs_host'].append(yrs_host)\n",
    "        data_dict['gender'].append(gender)\n",
    "        data_dict['use_smart'].append(treat)\n",
    "        data_dict['avg_revenue'].append(round(avg_rev,2))\n",
    "        \n",
    "    return pd.DataFrame(data_dict)"
   ]
  },
  {
   "cell_type": "code",
   "execution_count": 4,
   "id": "0afda534-ae22-4654-a599-9990e433ba4b",
   "metadata": {
    "tags": []
   },
   "outputs": [],
   "source": [
    "#Generate synthetic data\n",
    "df = gen_data(500)"
   ]
  },
  {
   "cell_type": "markdown",
   "id": "7bc26e13-3956-4d59-b3c5-c0c696bc9bf6",
   "metadata": {},
   "source": [
    "Our data consists of 500 hosts from a single geographic region with similar listing types (in this case, 2 bed, 1 bath listings with similar sq ft). A subset of our data is shown below."
   ]
  },
  {
   "cell_type": "code",
   "execution_count": 5,
   "id": "83a6c3f7-9a2a-4dca-a800-d8ec54e8ac5a",
   "metadata": {
    "tags": []
   },
   "outputs": [
    {
     "data": {
      "text/html": [
       "<div>\n",
       "<style scoped>\n",
       "    .dataframe tbody tr th:only-of-type {\n",
       "        vertical-align: middle;\n",
       "    }\n",
       "\n",
       "    .dataframe tbody tr th {\n",
       "        vertical-align: top;\n",
       "    }\n",
       "\n",
       "    .dataframe thead th {\n",
       "        text-align: right;\n",
       "    }\n",
       "</style>\n",
       "<table border=\"1\" class=\"dataframe\">\n",
       "  <thead>\n",
       "    <tr style=\"text-align: right;\">\n",
       "      <th></th>\n",
       "      <th>host_id</th>\n",
       "      <th>yrs_host</th>\n",
       "      <th>gender</th>\n",
       "      <th>use_smart</th>\n",
       "      <th>avg_revenue</th>\n",
       "    </tr>\n",
       "  </thead>\n",
       "  <tbody>\n",
       "    <tr>\n",
       "      <th>0</th>\n",
       "      <td>0</td>\n",
       "      <td>2</td>\n",
       "      <td>m</td>\n",
       "      <td>False</td>\n",
       "      <td>79.72</td>\n",
       "    </tr>\n",
       "    <tr>\n",
       "      <th>1</th>\n",
       "      <td>1</td>\n",
       "      <td>1</td>\n",
       "      <td>m</td>\n",
       "      <td>True</td>\n",
       "      <td>72.64</td>\n",
       "    </tr>\n",
       "    <tr>\n",
       "      <th>2</th>\n",
       "      <td>2</td>\n",
       "      <td>3</td>\n",
       "      <td>f</td>\n",
       "      <td>True</td>\n",
       "      <td>118.53</td>\n",
       "    </tr>\n",
       "    <tr>\n",
       "      <th>3</th>\n",
       "      <td>3</td>\n",
       "      <td>1</td>\n",
       "      <td>m</td>\n",
       "      <td>True</td>\n",
       "      <td>70.95</td>\n",
       "    </tr>\n",
       "    <tr>\n",
       "      <th>4</th>\n",
       "      <td>4</td>\n",
       "      <td>2</td>\n",
       "      <td>f</td>\n",
       "      <td>True</td>\n",
       "      <td>93.17</td>\n",
       "    </tr>\n",
       "  </tbody>\n",
       "</table>\n",
       "</div>"
      ],
      "text/plain": [
       "   host_id  yrs_host gender  use_smart  avg_revenue\n",
       "0        0         2      m      False        79.72\n",
       "1        1         1      m       True        72.64\n",
       "2        2         3      f       True       118.53\n",
       "3        3         1      m       True        70.95\n",
       "4        4         2      f       True        93.17"
      ]
     },
     "execution_count": 5,
     "metadata": {},
     "output_type": "execute_result"
    }
   ],
   "source": [
    "#Show head of data\n",
    "df.head()"
   ]
  },
  {
   "cell_type": "markdown",
   "id": "a1f9c006-b042-4787-a04c-9fe92781721c",
   "metadata": {},
   "source": [
    "The dataset is a simple datset that consists of only 2 features (*years as host* and *gender*) the treatment binary variable if the host uses Smart Pricing, and the response variable *average revenue* which is the simple average of total revenue over number of bookings (Note: we assume these hosts are booked at a similar frequency)."
   ]
  },
  {
   "cell_type": "markdown",
   "id": "2afcbf54-1d5e-4654-8617-c2f5318ea086",
   "metadata": {},
   "source": [
    "We begin exploring the data by visualizing the count data of between those who use Smart Pricing in the dataset and those who do not. This is shown in @fig-eda-1."
   ]
  },
  {
   "cell_type": "code",
   "execution_count": 6,
   "id": "19911abe-ac74-432b-8375-936d09a7f8ce",
   "metadata": {
    "tags": []
   },
   "outputs": [
    {
     "data": {
      "image/png": "[encoded data removed]",
      "text/plain": [
       "<Figure size 1200x500 with 1 Axes>"
      ]
     },
     "metadata": {},
     "output_type": "display_data"
    }
   ],
   "source": [
    "#| label: fig-eda-1\n",
    "#| fig-cap: \"Count of users of smart pricing vs non users\"\n",
    "\n",
    "fig, ax = plt.subplots(figsize=(12,5))\n",
    "\n",
    "df['use_smart'].value_counts().plot(kind='bar', ax=ax)\n",
    "ax.set_title(\"Non Users vs Users\");"
   ]
  },
  {
   "cell_type": "markdown",
   "id": "174b63ed-dc39-477b-b5fe-ecd0f521a441",
   "metadata": {},
   "source": [
    "The dataset appears to be fairly evenly split between non users and users of Smart Pricing, with a slight edge to non users. This is a good sign for our causal modeling purposes since a key assumption is good overlap between the treated and untreated. We continue our investigation in @fig-eda-2 by visualizing the average revenue distribution by treated and untreated."
   ]
  },
  {
   "cell_type": "code",
   "execution_count": 7,
   "id": "aa6b3af2-9a36-4c0d-b657-4e137cd0c2f5",
   "metadata": {},
   "outputs": [
    {
     "data": {
      "image/png": "[encoded data removed]",
      "text/plain": [
       "<Figure size 1200x500 with 1 Axes>"
      ]
     },
     "metadata": {},
     "output_type": "display_data"
    }
   ],
   "source": [
    "#| label: fig-eda-2\n",
    "#| fig-cap: \"Histogram of treated vs untreated average revenue\"\n",
    "\n",
    "fig, ax = plt.subplots(figsize=(12,5))\n",
    "\n",
    "df.query(\"use_smart == True\")['avg_revenue'].plot(kind='hist', ax=ax, label='Treated', alpha=0.5)\n",
    "df.query(\"use_smart == False\")['avg_revenue'].plot(kind='hist', ax=ax, label='Untreated', alpha=0.5)\n",
    "ax.legend();"
   ]
  },
  {
   "cell_type": "markdown",
   "id": "bb070017-6305-4337-ac6d-7088616f37f9",
   "metadata": {},
   "source": [
    "@fig-eda-2 shows that the distribution of those who use Smart Pricing is a bit higher than those who do not use it. This is a good indication that Smart Pricing helps hosts have an increase in revenue. We can continue to investigate this relationship in @fig-eda-3."
   ]
  },
  {
   "cell_type": "code",
   "execution_count": 8,
   "id": "be983017-78e3-45c0-8dbd-0cba8cf4b613",
   "metadata": {
    "tags": []
   },
   "outputs": [
    {
     "data": {
      "image/png": "[encoded data removed]",
      "text/plain": [
       "<Figure size 1200x500 with 1 Axes>"
      ]
     },
     "metadata": {},
     "output_type": "display_data"
    }
   ],
   "source": [
    "#| label: fig-eda-3\n",
    "#| fig-cap: \"Bar plot comparing average revenue by years as host and smart pricing users\"\n",
    "\n",
    "fig, ax = plt.subplots(figsize=(12,5))\n",
    "\n",
    "df.groupby(['yrs_host', 'use_smart'])['avg_revenue'].mean().unstack().plot(kind='bar', ax=ax);"
   ]
  },
  {
   "cell_type": "markdown",
   "id": "a5b5f31d-d039-4d0f-84c2-bb5cefffdd1d",
   "metadata": {},
   "source": [
    "There appears to be a relationship between the number of years as a host and the average revenue. While those who use Smart Pricing consistently outperform hosts without Smart Pricing, for each year increase as host, the average revenue increases. One small note is that there aren't any hosts by year 4 who don't use Smart Pricing. We may need to account for this in our model."
   ]
  },
  {
   "cell_type": "markdown",
   "id": "ce066726-ac88-4d5d-9e70-4ae8e3e7b9fb",
   "metadata": {},
   "source": [
    "## Calculating Propensity Scores"
   ]
  },
  {
   "cell_type": "markdown",
   "id": "4df15766-8aff-4806-b5fa-2b9500674318",
   "metadata": {},
   "source": [
    "As mentioned previously, once we calculate the propensity scores for our observations, we don't need to account for other attributes $X$ since it adds no additional information that is already captured in the propensity score. To calculate the propensity score, we can use any arbitrary classification model to estimate @eq-prop-1. In our case, we use logistic regression, as shown in @eq-prop-2. Some of our resulting propensity scores are shown in the table below."
   ]
  },
  {
   "cell_type": "markdown",
   "id": "8a18a7f6-54f4-45e7-b7d7-f04233ee3f76",
   "metadata": {},
   "source": [
    "$$\n",
    "log(\\frac{p}{1-p}) = \\beta^{T}X + \\epsilon\n",
    "$${#eq-prop-2}"
   ]
  },
  {
   "cell_type": "code",
   "execution_count": 9,
   "id": "007d3ab2-8815-442c-a053-46fc87935d2f",
   "metadata": {
    "tags": []
   },
   "outputs": [],
   "source": [
    "#Get dummies and drop unnecessary columns\n",
    "df_mod = (df.pipe(lambda x: pd.get_dummies(x, columns=['gender']))\n",
    " .drop(['host_id', 'gender_m'], axis=1))"
   ]
  },
  {
   "cell_type": "code",
   "execution_count": 10,
   "id": "218c99f9-60a1-4d05-81e9-c573d0a8c1d7",
   "metadata": {
    "tags": []
   },
   "outputs": [],
   "source": [
    "#Train logistic and get propensity scores\n",
    "X = df_mod[['yrs_host', 'gender_f']]\n",
    "T = df_mod['use_smart']\n",
    "\n",
    "ps_mod = LogisticRegression().fit(X, T)\n",
    "df_mod['prop_score'] = ps_mod.predict_proba(X)[:,1]"
   ]
  },
  {
   "cell_type": "code",
   "execution_count": 11,
   "id": "14f52787-4a23-40da-8309-12aa806fcbc4",
   "metadata": {
    "tags": []
   },
   "outputs": [
    {
     "data": {
      "text/html": [
       "<div>\n",
       "<style scoped>\n",
       "    .dataframe tbody tr th:only-of-type {\n",
       "        vertical-align: middle;\n",
       "    }\n",
       "\n",
       "    .dataframe tbody tr th {\n",
       "        vertical-align: top;\n",
       "    }\n",
       "\n",
       "    .dataframe thead th {\n",
       "        text-align: right;\n",
       "    }\n",
       "</style>\n",
       "<table border=\"1\" class=\"dataframe\">\n",
       "  <thead>\n",
       "    <tr style=\"text-align: right;\">\n",
       "      <th></th>\n",
       "      <th>yrs_host</th>\n",
       "      <th>use_smart</th>\n",
       "      <th>avg_revenue</th>\n",
       "      <th>gender_f</th>\n",
       "      <th>prop_score</th>\n",
       "    </tr>\n",
       "  </thead>\n",
       "  <tbody>\n",
       "    <tr>\n",
       "      <th>0</th>\n",
       "      <td>2</td>\n",
       "      <td>False</td>\n",
       "      <td>79.72</td>\n",
       "      <td>False</td>\n",
       "      <td>0.522335</td>\n",
       "    </tr>\n",
       "    <tr>\n",
       "      <th>1</th>\n",
       "      <td>1</td>\n",
       "      <td>True</td>\n",
       "      <td>72.64</td>\n",
       "      <td>False</td>\n",
       "      <td>0.454340</td>\n",
       "    </tr>\n",
       "    <tr>\n",
       "      <th>2</th>\n",
       "      <td>3</td>\n",
       "      <td>True</td>\n",
       "      <td>118.53</td>\n",
       "      <td>True</td>\n",
       "      <td>0.569330</td>\n",
       "    </tr>\n",
       "    <tr>\n",
       "      <th>3</th>\n",
       "      <td>1</td>\n",
       "      <td>True</td>\n",
       "      <td>70.95</td>\n",
       "      <td>False</td>\n",
       "      <td>0.454340</td>\n",
       "    </tr>\n",
       "    <tr>\n",
       "      <th>4</th>\n",
       "      <td>2</td>\n",
       "      <td>True</td>\n",
       "      <td>93.17</td>\n",
       "      <td>True</td>\n",
       "      <td>0.501642</td>\n",
       "    </tr>\n",
       "  </tbody>\n",
       "</table>\n",
       "</div>"
      ],
      "text/plain": [
       "   yrs_host  use_smart  avg_revenue  gender_f  prop_score\n",
       "0         2      False        79.72     False    0.522335\n",
       "1         1       True        72.64     False    0.454340\n",
       "2         3       True       118.53      True    0.569330\n",
       "3         1       True        70.95     False    0.454340\n",
       "4         2       True        93.17      True    0.501642"
      ]
     },
     "execution_count": 11,
     "metadata": {},
     "output_type": "execute_result"
    }
   ],
   "source": [
    "#Show some output\n",
    "df_mod.head()"
   ]
  },
  {
   "cell_type": "markdown",
   "id": "66619fbd-7d9e-4e0d-9415-a2fc1e206689",
   "metadata": {},
   "source": [
    "The example output shows some decent balance of propensity scores across the different demographics. We can visualize the scores via histogram overlays, similar to @fig-eda-2. This propensity score histogram is shown below."
   ]
  },
  {
   "cell_type": "code",
   "execution_count": 12,
   "id": "57c1a083-befb-46c6-91a4-70687f1917cd",
   "metadata": {},
   "outputs": [
    {
     "data": {
      "image/png": "[encoded data removed]",
      "text/plain": [
       "<Figure size 1200x500 with 1 Axes>"
      ]
     },
     "metadata": {},
     "output_type": "display_data"
    }
   ],
   "source": [
    "#| label: fig-eda-4\n",
    "#| fig-cap: \"Histogram of propensity scores between treated and untreated hosts\"\n",
    "\n",
    "fig, ax = plt.subplots(figsize=(12,5))\n",
    "\n",
    "df_mod.query(\"use_smart == True\")['prop_score'].plot(kind='hist', ax=ax, label='Treated', alpha=0.5)\n",
    "df_mod.query(\"use_smart == False\")['prop_score'].plot(kind='hist', ax=ax, label='Untreated', alpha=0.5)\n",
    "ax.legend();"
   ]
  },
  {
   "cell_type": "markdown",
   "id": "70c59bdb-7d48-4637-a91d-a3e5805da3c2",
   "metadata": {},
   "source": [
    "The histogram of propensity scores shows pretty good overlap between treated and untreated propensities. There are no scores for untreated hosts on the far right of the distribution (i.e. hosts of 4 years). However, because there is such a small number of individuals in this group, we can proceed."
   ]
  },
  {
   "cell_type": "markdown",
   "id": "3eb98c4a-94fb-495e-83db-1abe5546a21d",
   "metadata": {},
   "source": [
    "### Quick Aside on Calculating Propensity Scores"
   ]
  },
  {
   "cell_type": "markdown",
   "id": "5347f526-c8ad-4dae-9901-e943cf83362b",
   "metadata": {},
   "source": [
    "Just a quick note on the propensity scores. Some may believe that a model like logistic regression would be a simple approach to \"predicting\" treatment. However, the goal of estimating $\\hat{e(x)}$ is not to accurately predict treatment. Rather, our $\\hat{e(x)}$ estimate should attempt to control for confounding. This slight difference yields very big consequences in the long run of modeling the causal effect of treatment. The high-level explanation is that if we include variables that are only good at predicting the treatment but are not remotely related to the original response variable, then we would be increasing the variance of our propensity score estimates and subsequently breaking important assumptions like overlap (positivity) and biasing our causal effect estimates."
   ]
  },
  {
   "cell_type": "markdown",
   "id": "bde434bd-ac8b-48aa-b897-24e266dc6128",
   "metadata": {},
   "source": [
    "## Causal Effect Estimation via PSM"
   ]
  },
  {
   "cell_type": "markdown",
   "id": "429d22f5-9a55-4387-b44c-a965c5014277",
   "metadata": {},
   "source": [
    "Since our data appears to hold true on our core causal assumptions, we can proceed with building a model that estimates the causal effect of Smart Pricing on host revenue. In our analysis, we use the `causalinference` [@Shimoni2019] package to fit our data to a Propensity Score Matching (PSM) model. The model takes care of our nearest-neighbor matching (using KNN) and estimates the ATE, ATC, and ATT. @eq-inf-1 shows the math behind each of these estimates. "
   ]
  },
  {
   "cell_type": "markdown",
   "id": "fee7235b-b1c8-45d5-8a59-0c932eaf5bc9",
   "metadata": {},
   "source": [
    "$$\n",
    "ATE = E[Y_{1} - Y_{0}] = E[Y_{1}] - E[Y_{0}]\n",
    "$$\n",
    "$$\n",
    "ATC = E[Y_{1} - Y_{0}|T=0] = E[Y_{1}|T=0] - E[Y_{0}|T=0]\n",
    "$$\n",
    "$$\n",
    "ATT = E[Y_{1} - Y_{0}|T=1] = E[Y_{1}|T=1] - E[Y_{0}|T=1]\n",
    "$${#eq-inf-1}"
   ]
  },
  {
   "cell_type": "markdown",
   "id": "3c951b84-0947-460f-97ab-42f2d838954c",
   "metadata": {},
   "source": [
    "The ATE is the difference between the mean of the treated and the mean of the untreated. This holds due to our assumption of unconfoundess via $T \\perp (Y_{0}, Y_{1})|e(x)$. This assumption continues to hold for ATC, which is the average treatment effect on the control, meaning the average effect of the treatment if it were to have been applied to the control group. Similarly, the average treatment effect on the treated shows the average effect of the treatment of those who were treated and their counterfactual of if they didn't receive treatment. "
   ]
  },
  {
   "cell_type": "markdown",
   "id": "3c1b0d16-ce78-4f6f-b1ec-bdc3a08c5e5f",
   "metadata": {},
   "source": [
    "In our analysis, we focus on the ATT since we are dealing with matching. We want to understand how the treatment helped the hosts compared to what could have happened if they didn't use Smart Pricing. The counterfactuals are estimated using the matches in our model. The results for each of these calculations from @eq-inf-1 are shown below."
   ]
  },
  {
   "cell_type": "code",
   "execution_count": 18,
   "id": "75abbe13-9624-4111-a80b-45f80b16e232",
   "metadata": {
    "tags": []
   },
   "outputs": [
    {
     "name": "stdout",
     "output_type": "stream",
     "text": [
      "\n",
      "Treatment Effect Estimates: Matching\n",
      "\n",
      "                     Est.       S.e.          z      P>|z|      [95% Conf. int.]\n",
      "--------------------------------------------------------------------------------\n",
      "           ATE     12.074      0.194     62.102      0.000     11.693     12.455\n",
      "           ATC     12.036      0.196     61.447      0.000     11.652     12.419\n",
      "           ATT     12.114      0.195     62.024      0.000     11.731     12.497\n",
      "\n"
     ]
    },
    {
     "name": "stderr",
     "output_type": "stream",
     "text": [
      "/home/thebscotte/miniconda3/lib/python3.10/site-packages/causalinference/estimators/matching.py:100: FutureWarning: `rcond` parameter will change to the default of machine precision times ``max(M, N)`` where M and N are the input matrix dimensions.\n",
      "To use the future default and silence this warning we advise to pass `rcond=None`, to keep using the old, explicitly pass `rcond=-1`.\n",
      "  return np.linalg.lstsq(X, Y)[0][1:]  # don't need intercept coef\n"
     ]
    }
   ],
   "source": [
    "#Fit PSM and show estimates\n",
    "cm = CausalModel(\n",
    "    Y=df_mod[\"avg_revenue\"].values, \n",
    "    D=df_mod[\"use_smart\"].values, \n",
    "    X=df_mod[[\"prop_score\"]].values\n",
    ")\n",
    "\n",
    "cm.est_via_matching(matches=1, bias_adj=True)\n",
    "\n",
    "print(cm.estimates)"
   ]
  },
  {
   "cell_type": "markdown",
   "id": "3c217dbd-6107-4d6d-9cfd-77e8a9adc857",
   "metadata": {},
   "source": [
    "Our PSM model shows that each of our estimates are statistically significant. The ATT from the model shows that on average, hosts that use Smart Pricing earn \\$12 more than those who do not use Smart Pricing. This is a good indication that our dynamic pricing tool helps hosts earn more money per booking. For more context on the scale of this effect, we can review the distribution of untreated hosts."
   ]
  },
  {
   "cell_type": "code",
   "execution_count": 28,
   "id": "438f4df7-2cf3-4cf5-99a7-71f2f69db1a5",
   "metadata": {
    "tags": []
   },
   "outputs": [
    {
     "name": "stdout",
     "output_type": "stream",
     "text": [
      "Mean: 75.3310588235294\n",
      "SD: 12.555868912587034\n"
     ]
    }
   ],
   "source": [
    "print(f\"Mean: {df.query('use_smart == False')['avg_revenue'].mean()}\")\n",
    "print(f\"SD: {df.query('use_smart == False')['avg_revenue'].std()}\")"
   ]
  },
  {
   "cell_type": "markdown",
   "id": "c6eeb76e-e752-4066-b5ef-854164c7b138",
   "metadata": {},
   "source": [
    "Looking at the SD, our ATT is almost equal to it. Thus, our ATT says that on average, hosts who use Smart Pricing are essentially one standard deviation above those who don't use Smart Pricing. "
   ]
  },
  {
   "cell_type": "markdown",
   "id": "51be39b4-b92b-4fd0-8730-ce0dc0236764",
   "metadata": {},
   "source": [
    "# Conclusion"
   ]
  },
  {
   "cell_type": "markdown",
   "id": "7a22af36-931e-488f-9ae0-e6bf979e00b6",
   "metadata": {},
   "source": [
    "In this post, we introduced Airbnb, briefly reviewing the company's history, business model, and the pricing tool offered to help hosts in managing their listing(s). Since the pricing tool is optional, Airbnb wanted to know if it actually helps hosts capture more revenue. As a Randomized Control Trial (RCT) wasn't feasible, we proposed using a quasi-experimental method to extract a causal effect. Specifically, we used Propensity Score Matching (PSM) to match those who use Smart Pricing with those who do not. Once we estimated the propensity scores and matched these individuals, we calculated the average causal effects: ATE (Average Treatment Effect), ATC (Average Treatment Effect on the Controls), and ATT (Average Treatment Effect on the Treated). We discovered that our ATT is approximately equal to the standard deviation of revenue for those who don't use Smart Pricing. In business terms, this represents a significant amount of revenue that hosts are missing out on by not using Smart Pricing."
   ]
  },
  {
   "cell_type": "markdown",
   "id": "e798dc16-4ad1-4234-8662-986d3b705d26",
   "metadata": {},
   "source": [
    "The findings from this post suggest that the current dynamic pricing algorithm is outperforming the self-guided efforts of hosts. The logical next question is: How can we incentivize hosts to use the Smart Pricing tool? Since the Airbnb business model relies on commission from both hosts and guests, the pricing of listings is incredibly important. Getting more hosts to use Smart Pricing would not only yield better monetary results for the hosts but also provide extra revenue for Airbnb."
   ]
  },
  {
   "cell_type": "markdown",
   "id": "039084b5-5bcc-46ed-9d6d-ad0ccde46809",
   "metadata": {},
   "source": [
    "Additionally, since the dynamic pricing tool has proven successful at improving host listing price dynamics, we should continue to invest resources in optimizing the Smart Pricing tool. We can continue to monitor and model the effect of the Smart Pricing tool on host revenue to ensure that it remains an important lever in improving marketplace efficiency."
   ]
  },
  {
   "cell_type": "markdown",
   "id": "337ab5c9-d3f3-45a1-b71d-eec5bb37edd0",
   "metadata": {},
   "source": [
    "Overall, we hope this post demonstrated the usefulness of quasi-experimental techniques in extracting causal inference where RCTs aren't feasible. While the dataset was synthetic and simple, the principles within the post can be applied to a wide array of business problems. With a careful eye and a creative mind, one can find different applications of causal inference in business. "
   ]
  }
 ],
 "metadata": {
  "kernelspec": {
   "display_name": "Python 3 (ipykernel)",
   "language": "python",
   "name": "python3"
  },
  "language_info": {
   "codemirror_mode": {
    "name": "ipython",
    "version": 3
   },
   "file_extension": ".py",
   "mimetype": "text/x-python",
   "name": "python",
   "nbconvert_exporter": "python",
   "pygments_lexer": "ipython3",
   "version": "3.10.9"
  }
 },
 "nbformat": 4,
 "nbformat_minor": 5
}
